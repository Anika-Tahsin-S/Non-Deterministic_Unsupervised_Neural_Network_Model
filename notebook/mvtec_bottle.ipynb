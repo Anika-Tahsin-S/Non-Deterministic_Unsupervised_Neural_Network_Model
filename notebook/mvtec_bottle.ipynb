{
 "cells": [
  {
   "cell_type": "markdown",
   "metadata": {},
   "source": [
    "# Libraries Installation"
   ]
  },
  {
   "cell_type": "code",
   "execution_count": 1,
   "metadata": {
    "execution": {
     "iopub.execute_input": "2025-09-18T05:43:43.773183Z",
     "iopub.status.busy": "2025-09-18T05:43:43.772925Z",
     "iopub.status.idle": "2025-09-18T05:45:09.762385Z",
     "shell.execute_reply": "2025-09-18T05:45:09.761708Z",
     "shell.execute_reply.started": "2025-09-18T05:43:43.773157Z"
    },
    "trusted": true
   },
   "outputs": [
    {
     "name": "stdout",
     "output_type": "stream",
     "text": [
      "  Preparing metadata (setup.py) ... \u001b[?25l\u001b[?25hdone\n",
      "\u001b[2K   \u001b[90m━━━━━━━━━━━━━━━━━━━━━━━━━━━━━━━━━━━━━━━━\u001b[0m \u001b[32m831.8/831.8 kB\u001b[0m \u001b[31m26.0 MB/s\u001b[0m eta \u001b[36m0:00:00\u001b[0m\n",
      "\u001b[2K   \u001b[90m━━━━━━━━━━━━━━━━━━━━━━━━━━━━━━━━━━━━━━━━\u001b[0m \u001b[32m228.5/228.5 kB\u001b[0m \u001b[31m12.3 MB/s\u001b[0m eta \u001b[36m0:00:00\u001b[0m\n",
      "\u001b[2K   \u001b[90m━━━━━━━━━━━━━━━━━━━━━━━━━━━━━━━━━━━━━━━━\u001b[0m \u001b[32m828.5/828.5 kB\u001b[0m \u001b[31m35.1 MB/s\u001b[0m eta \u001b[36m0:00:00\u001b[0m\n",
      "\u001b[2K   \u001b[90m━━━━━━━━━━━━━━━━━━━━━━━━━━━━━━━━━━━━━━━━\u001b[0m \u001b[32m363.4/363.4 MB\u001b[0m \u001b[31m4.7 MB/s\u001b[0m eta \u001b[36m0:00:00\u001b[0m:00:01\u001b[0m00:01\u001b[0m\n",
      "\u001b[2K   \u001b[90m━━━━━━━━━━━━━━━━━━━━━━━━━━━━━━━━━━━━━━━━\u001b[0m \u001b[32m13.8/13.8 MB\u001b[0m \u001b[31m101.5 MB/s\u001b[0m eta \u001b[36m0:00:00\u001b[0m00:01\u001b[0m0:01\u001b[0m\n",
      "\u001b[2K   \u001b[90m━━━━━━━━━━━━━━━━━━━━━━━━━━━━━━━━━━━━━━━━\u001b[0m \u001b[32m24.6/24.6 MB\u001b[0m \u001b[31m78.8 MB/s\u001b[0m eta \u001b[36m0:00:00\u001b[0m:00:01\u001b[0m00:01\u001b[0m\n",
      "\u001b[2K   \u001b[90m━━━━━━━━━━━━━━━━━━━━━━━━━━━━━━━━━━━━━━━━\u001b[0m \u001b[32m883.7/883.7 kB\u001b[0m \u001b[31m47.5 MB/s\u001b[0m eta \u001b[36m0:00:00\u001b[0m\n",
      "\u001b[2K   \u001b[90m━━━━━━━━━━━━━━━━━━━━━━━━━━━━━━━━━━━━━━━━\u001b[0m \u001b[32m664.8/664.8 MB\u001b[0m \u001b[31m2.6 MB/s\u001b[0m eta \u001b[36m0:00:00\u001b[0m:00:01\u001b[0m00:01\u001b[0m\n",
      "\u001b[2K   \u001b[90m━━━━━━━━━━━━━━━━━━━━━━━━━━━━━━━━━━━━━━━━\u001b[0m \u001b[32m211.5/211.5 MB\u001b[0m \u001b[31m6.6 MB/s\u001b[0m eta \u001b[36m0:00:00\u001b[0m:00:01\u001b[0m00:01\u001b[0m\n",
      "\u001b[2K   \u001b[90m━━━━━━━━━━━━━━━━━━━━━━━━━━━━━━━━━━━━━━━━\u001b[0m \u001b[32m56.3/56.3 MB\u001b[0m \u001b[31m31.3 MB/s\u001b[0m eta \u001b[36m0:00:00\u001b[0m:00:01\u001b[0m00:01\u001b[0m\n",
      "\u001b[2K   \u001b[90m━━━━━━━━━━━━━━━━━━━━━━━━━━━━━━━━━━━━━━━━\u001b[0m \u001b[32m127.9/127.9 MB\u001b[0m \u001b[31m13.6 MB/s\u001b[0m eta \u001b[36m0:00:00\u001b[0m00:01\u001b[0m00:01\u001b[0m\n",
      "\u001b[2K   \u001b[90m━━━━━━━━━━━━━━━━━━━━━━━━━━━━━━━━━━━━━━━━\u001b[0m \u001b[32m207.5/207.5 MB\u001b[0m \u001b[31m3.4 MB/s\u001b[0m eta \u001b[36m0:00:00\u001b[0m:00:01\u001b[0m00:01\u001b[0m\n",
      "\u001b[2K   \u001b[90m━━━━━━━━━━━━━━━━━━━━━━━━━━━━━━━━━━━━━━━━\u001b[0m \u001b[32m21.1/21.1 MB\u001b[0m \u001b[31m5.9 MB/s\u001b[0m eta \u001b[36m0:00:00\u001b[0m0:00:01\u001b[0m00:01\u001b[0m\n",
      "\u001b[2K   \u001b[90m━━━━━━━━━━━━━━━━━━━━━━━━━━━━━━━━━━━━━━━\u001b[0m \u001b[32m760.5/760.5 kB\u001b[0m \u001b[31m865.3 kB/s\u001b[0m eta \u001b[36m0:00:00\u001b[0m00:01\u001b[0m\n",
      "\u001b[?25h  Building wheel for freia (setup.py) ... \u001b[?25l\u001b[?25hdone\n",
      "\u001b[2K   \u001b[90m━━━━━━━━━━━━━━━━━━━━━━━━━━━━━━━━━━━━━━━━\u001b[0m \u001b[32m125.7/125.7 kB\u001b[0m \u001b[31m5.9 MB/s\u001b[0m eta \u001b[36m0:00:00\u001b[0m\n",
      "\u001b[2K   \u001b[90m━━━━━━━━━━━━━━━━━━━━━━━━━━━━━━━━━━━━━━━━\u001b[0m \u001b[32m53.8/53.8 kB\u001b[0m \u001b[31m2.3 MB/s\u001b[0m eta \u001b[36m0:00:00\u001b[0m\n",
      "\u001b[?25h"
     ]
    }
   ],
   "source": [
    "!pip install -q anomalib\n",
    "!pip install -q albumentations==1.3.1 --no-deps\n",
    "!pip install -q qudida\n",
    "!pip install -q lpips"
   ]
  },
  {
   "cell_type": "code",
   "execution_count": 2,
   "metadata": {
    "execution": {
     "iopub.execute_input": "2025-09-18T05:45:09.763487Z",
     "iopub.status.busy": "2025-09-18T05:45:09.763291Z",
     "iopub.status.idle": "2025-09-18T05:45:23.742286Z",
     "shell.execute_reply": "2025-09-18T05:45:23.741581Z",
     "shell.execute_reply.started": "2025-09-18T05:45:09.763466Z"
    },
    "trusted": true
   },
   "outputs": [
    {
     "name": "stdout",
     "output_type": "stream",
     "text": [
      "CUDA: True | Device: Tesla T4\n"
     ]
    }
   ],
   "source": [
    "import os, random, torch, numpy as np, pandas as pd\n",
    "import matplotlib.pyplot as plt\n",
    "\n",
    "from torch.utils.data import Dataset, DataLoader\n",
    "import albumentations as A\n",
    "from albumentations.pytorch import ToTensorV2\n",
    "from pytorch_lightning import LightningDataModule, Trainer\n",
    "from pytorch_lightning.callbacks import EarlyStopping, ModelCheckpoint, Callback\n",
    "\n",
    "print(\"CUDA:\", torch.cuda.is_available(), \n",
    "      \"| Device:\", torch.cuda.get_device_name(0) if torch.cuda.is_available() else None)\n",
    "torch.backends.cudnn.benchmark = True\n",
    "torch.set_float32_matmul_precision(\"high\")\n",
    "\n",
    "def seed_all(s=42):\n",
    "    random.seed(s); np.random.seed(s); torch.manual_seed(s); torch.cuda.manual_seed_all(s)\n",
    "seed_all(42)"
   ]
  },
  {
   "cell_type": "markdown",
   "metadata": {},
   "source": [
    "# Parameters & Tracking"
   ]
  },
  {
   "cell_type": "code",
   "execution_count": 3,
   "metadata": {
    "execution": {
     "iopub.execute_input": "2025-09-18T05:45:23.744349Z",
     "iopub.status.busy": "2025-09-18T05:45:23.743971Z",
     "iopub.status.idle": "2025-09-18T05:45:23.748452Z",
     "shell.execute_reply": "2025-09-18T05:45:23.747696Z",
     "shell.execute_reply.started": "2025-09-18T05:45:23.744328Z"
    },
    "trusted": true
   },
   "outputs": [],
   "source": [
    "config = {\n",
    "    \"dataset\": \"metal_nut\",\n",
    "    \"params_dataset\": {\n",
    "        \"image_size\": 224,\n",
    "        \"train_batch_size\": 32,\n",
    "        \"test_batch_size\": 32,\n",
    "        \"num_workers\": 4,\n",
    "        \"task\": \"segmentation\",\n",
    "        \"seed\": 42\n",
    "    }\n",
    "}"
   ]
  },
  {
   "cell_type": "markdown",
   "metadata": {},
   "source": [
    "# Acceletor"
   ]
  },
  {
   "cell_type": "code",
   "execution_count": 4,
   "metadata": {
    "execution": {
     "iopub.execute_input": "2025-09-18T05:45:23.749383Z",
     "iopub.status.busy": "2025-09-18T05:45:23.749171Z",
     "iopub.status.idle": "2025-09-18T05:45:23.768875Z",
     "shell.execute_reply": "2025-09-18T05:45:23.768180Z",
     "shell.execute_reply.started": "2025-09-18T05:45:23.749366Z"
    },
    "trusted": true
   },
   "outputs": [
    {
     "name": "stdout",
     "output_type": "stream",
     "text": [
      "CUDA: True Device: Tesla T4\n",
      "PyTorch: 2.6.0+cu124 | Python: 3.11.13\n"
     ]
    }
   ],
   "source": [
    "import platform\n",
    "print(\"CUDA:\", torch.cuda.is_available(), \"Device:\", torch.cuda.get_device_name(0) if torch.cuda.is_available() else None)\n",
    "print(\"PyTorch:\", torch.__version__, \"| Python:\", platform.python_version())"
   ]
  },
  {
   "cell_type": "markdown",
   "metadata": {},
   "source": [
    "# MVTec Data"
   ]
  },
  {
   "cell_type": "code",
   "execution_count": 5,
   "metadata": {
    "execution": {
     "iopub.execute_input": "2025-09-18T05:45:23.769846Z",
     "iopub.status.busy": "2025-09-18T05:45:23.769606Z",
     "iopub.status.idle": "2025-09-18T05:45:23.784768Z",
     "shell.execute_reply": "2025-09-18T05:45:23.784263Z",
     "shell.execute_reply.started": "2025-09-18T05:45:23.769822Z"
    },
    "trusted": true
   },
   "outputs": [],
   "source": [
    "# Helper funcs + file dicts\n",
    "import glob\n",
    "from PIL import Image\n",
    "from typing import Dict\n",
    "\n",
    "def get_dataset_dict(dataset, subset):\n",
    "    d = {}\n",
    "    for f in glob.glob(f\"/kaggle/input/mvtec-ad/{dataset}/{subset}/**/*.png\", recursive=True):\n",
    "        key = \"/\".join(f.split(\"/\")[-2:]).replace(\".png\",\"\")\n",
    "        d[key] = f\n",
    "    return d"
   ]
  },
  {
   "cell_type": "markdown",
   "metadata": {},
   "source": [
    "# Datamodule"
   ]
  },
  {
   "cell_type": "code",
   "execution_count": 6,
   "metadata": {
    "execution": {
     "iopub.execute_input": "2025-09-18T05:45:23.785937Z",
     "iopub.status.busy": "2025-09-18T05:45:23.785601Z",
     "iopub.status.idle": "2025-09-18T05:45:25.064635Z",
     "shell.execute_reply": "2025-09-18T05:45:25.064044Z",
     "shell.execute_reply.started": "2025-09-18T05:45:23.785912Z"
    },
    "trusted": true
   },
   "outputs": [],
   "source": [
    "def get_category(key: str) -> str: return key.split(\"/\")[0]\n",
    "def get_label(key: str) -> str:    return \"normal\" if get_category(key) == \"good\" else \"anomaly\"\n",
    "def get_label_index(key: str) -> int: return 0 if get_label(key)==\"normal\" else 1\n",
    "\n",
    "images_train = get_dataset_dict(config[\"dataset\"], \"train\")   # should be good/*\n",
    "images_test  = get_dataset_dict(config[\"dataset\"], \"test\")\n",
    "_masks_raw   = get_dataset_dict(config[\"dataset\"], \"ground_truth\")\n",
    "masks_test   = {k[:-5]: v for k, v in _masks_raw.items()}     # align keys"
   ]
  },
  {
   "cell_type": "code",
   "execution_count": 7,
   "metadata": {
    "execution": {
     "iopub.execute_input": "2025-09-18T05:45:25.065608Z",
     "iopub.status.busy": "2025-09-18T05:45:25.065361Z",
     "iopub.status.idle": "2025-09-18T05:45:25.810088Z",
     "shell.execute_reply": "2025-09-18T05:45:25.809226Z",
     "shell.execute_reply.started": "2025-09-18T05:45:25.065589Z"
    },
    "trusted": true
   },
   "outputs": [
    {
     "data": {
      "image/png": "[encoded data removed]",
      "text/plain": [
       "<Figure size 1600x400 with 4 Axes>"
      ]
     },
     "metadata": {},
     "output_type": "display_data"
    }
   ],
   "source": [
    "# --- pick samples ---\n",
    "train_key = random.choice(list(images_train.keys()))\n",
    "normal_keys = [k for k in images_test if k.startswith(\"good/\")]\n",
    "normal_key = random.choice(normal_keys)\n",
    "anomaly_keys = [k for k in images_test if not k.startswith(\"good/\") and k in masks_test]\n",
    "anomaly_key = random.choice(anomaly_keys)\n",
    "\n",
    "# --- load images/mask ---\n",
    "train_img  = np.array(Image.open(images_train[train_key]).convert(\"RGB\"))\n",
    "normal_img = np.array(Image.open(images_test[normal_key]).convert(\"RGB\"))\n",
    "anom_img   = np.array(Image.open(images_test[anomaly_key]).convert(\"RGB\"))\n",
    "mask_img   = np.array(Image.open(masks_test[anomaly_key]).convert(\"L\"))\n",
    "\n",
    "# overlay mask in red on anomaly\n",
    "overlay = anom_img.copy()\n",
    "overlay[mask_img > 127] = [255, 0, 0]  # red overlay where mask=1\n",
    "blended = (0.6*anom_img + 0.4*overlay).astype(np.uint8)\n",
    "\n",
    "# --- plot ---\n",
    "plt.figure(figsize=(16,4))\n",
    "\n",
    "plt.subplot(1,4,1)\n",
    "plt.imshow(train_img)\n",
    "plt.title(\"Train (good)\")\n",
    "plt.axis(\"off\")\n",
    "\n",
    "plt.subplot(1,4,2)\n",
    "plt.imshow(normal_img)\n",
    "plt.title(\"Test (normal)\")\n",
    "plt.axis(\"off\")\n",
    "\n",
    "plt.subplot(1,4,3)\n",
    "plt.imshow(blended)\n",
    "plt.title(\"Test (anomaly + mask overlay)\")\n",
    "plt.axis(\"off\")\n",
    "\n",
    "plt.subplot(1,4,4)\n",
    "plt.imshow(mask_img, cmap=\"gray\")\n",
    "plt.title(\"GT mask\")\n",
    "plt.axis(\"off\")\n",
    "\n",
    "plt.suptitle(f\"Dataset: {config['dataset']}\", fontsize=14)\n",
    "plt.show()"
   ]
  },
  {
   "cell_type": "code",
   "execution_count": 8,
   "metadata": {
    "execution": {
     "iopub.execute_input": "2025-09-18T05:45:25.811012Z",
     "iopub.status.busy": "2025-09-18T05:45:25.810804Z",
     "iopub.status.idle": "2025-09-18T05:45:25.818188Z",
     "shell.execute_reply": "2025-09-18T05:45:25.817324Z",
     "shell.execute_reply.started": "2025-09-18T05:45:25.810995Z"
    },
    "trusted": true
   },
   "outputs": [],
   "source": [
    "# Transforms - Albumentations\n",
    "IMG_SIZE = config[\"params_dataset\"][\"image_size\"]  # 224\n",
    "MEAN, STD = (0.485, 0.456, 0.406), (0.229, 0.224, 0.225)\n",
    "\n",
    "train_tf = A.Compose([\n",
    "    A.Resize(256, 256),\n",
    "    A.CenterCrop(IMG_SIZE, IMG_SIZE),\n",
    "    A.HorizontalFlip(p=0.5),          # optional, small & safe on 'metal_nut'\n",
    "    A.Normalize(mean=MEAN, std=STD),\n",
    "    ToTensorV2(),\n",
    "])\n",
    "\n",
    "eval_tf = A.Compose([\n",
    "    A.Resize(256, 256),\n",
    "    A.CenterCrop(IMG_SIZE, IMG_SIZE),\n",
    "    A.Normalize(mean=MEAN, std=STD),\n",
    "    ToTensorV2(),\n",
    "])"
   ]
  },
  {
   "cell_type": "code",
   "execution_count": 9,
   "metadata": {
    "execution": {
     "iopub.execute_input": "2025-09-18T05:45:25.821776Z",
     "iopub.status.busy": "2025-09-18T05:45:25.821493Z",
     "iopub.status.idle": "2025-09-18T05:45:25.837125Z",
     "shell.execute_reply": "2025-09-18T05:45:25.836470Z",
     "shell.execute_reply.started": "2025-09-18T05:45:25.821756Z"
    },
    "trusted": true
   },
   "outputs": [],
   "source": [
    "# Dataset classes (clean + reproducible)\n",
    "class TrainGoodDataset(Dataset):\n",
    "    def __init__(self, images: dict, transform: A.Compose):\n",
    "        # deterministic order for reproducibility\n",
    "        self.keys = sorted(images.keys())\n",
    "        # guard: train should only contain good/*\n",
    "        assert all(k.startswith(\"good/\") for k in self.keys), \"Leak: train contains anomalies.\"\n",
    "        self.images = images\n",
    "        self.t = transform\n",
    "\n",
    "    def __len__(self): \n",
    "        return len(self.keys)\n",
    "\n",
    "    def __getitem__(self, i):\n",
    "        k = self.keys[i]\n",
    "        # safe file handling\n",
    "        with Image.open(self.images[k]).convert(\"RGB\") as im:\n",
    "            img = np.array(im)\n",
    "        x = self.t(image=img)[\"image\"]\n",
    "        return {\"image\": x, \"key\": k}\n",
    "\n",
    "\n",
    "class OfficialTestDataset(Dataset):\n",
    "    def __init__(self, images: dict, masks: dict, transform: A.Compose, task=\"segmentation\"):\n",
    "        self.keys = sorted(images.keys())          # deterministic to fixed ordering for reproducible experiments\n",
    "        self.images = images\n",
    "        self.masks = masks\n",
    "        self.t = transform\n",
    "        self.task = task\n",
    "\n",
    "    def __len__(self): \n",
    "        return len(self.keys)\n",
    "\n",
    "    def __getitem__(self, i):\n",
    "        k = self.keys[i]\n",
    "        # with Image.open(self.images[k]).convert(\"RGB\") as im:\n",
    "        #     img = np.array(im)\n",
    "        with Image.open(self.images[k]).convert(\"RGB\") as im:\n",
    "            img = np.asarray(im, dtype=np.uint8)\n",
    "\n",
    "        label = get_label_index(k)                 # 0 normal, 1 anomaly\n",
    "        cat = get_category(k)\n",
    "\n",
    "        if self.task == \"segmentation\":\n",
    "            if label == 0:\n",
    "                mask = np.zeros(img.shape[:2], dtype=np.float32)\n",
    "            else:\n",
    "                # clear error if mask is missing (helps debugging)\n",
    "                if k not in self.masks:\n",
    "                    raise KeyError(f\"Missing ground-truth mask for anomaly sample: {k}\")\n",
    "                with Image.open(self.masks[k]).convert(\"L\") as mm:\n",
    "                    m = np.array(mm, dtype=np.uint8)\n",
    "                mask = (m > 127).astype(np.float32)\n",
    "\n",
    "            out = self.t(image=img, mask=mask)\n",
    "            x = out[\"image\"]\n",
    "            # m = out[\"mask\"].unsqueeze(0).to(dtype=torch.float32)\n",
    "            m = out[\"mask\"].unsqueeze(0).to(dtype=torch.float32).contiguous()\n",
    "            return {\"image\": x, \"mask\": m, \"label\": int(label), \"category\": cat, \"key\": k}\n",
    "\n",
    "        # classification-only path\n",
    "        x = self.t(image=img)[\"image\"]\n",
    "        return {\"image\": x, \"label\": int(label), \"category\": cat, \"key\": k}"
   ]
  },
  {
   "cell_type": "code",
   "execution_count": 10,
   "metadata": {
    "execution": {
     "iopub.execute_input": "2025-09-18T05:45:25.838009Z",
     "iopub.status.busy": "2025-09-18T05:45:25.837763Z",
     "iopub.status.idle": "2025-09-18T05:45:25.857485Z",
     "shell.execute_reply": "2025-09-18T05:45:25.856880Z",
     "shell.execute_reply.started": "2025-09-18T05:45:25.837987Z"
    },
    "trusted": true
   },
   "outputs": [],
   "source": [
    "# DataModule\n",
    "class HoldoutValDataModule(LightningDataModule):\n",
    "    def __init__(self, images_train, images_test, masks_test, val_split=0.1,\n",
    "                 train_batch_size=32, test_batch_size=32, num_workers=4, seed=42,\n",
    "                 task=\"segmentation\", train_tf=None, eval_tf=None):\n",
    "        super().__init__()\n",
    "        self.images_train_all = images_train\n",
    "        self.images_test = images_test\n",
    "        self.masks_test = masks_test\n",
    "        self.val_split = float(val_split)\n",
    "        self.bs_train, self.bs_test = int(train_batch_size), int(test_batch_size)\n",
    "        self.num_workers, self.seed = int(num_workers), int(seed)\n",
    "        self.task = task\n",
    "        self.train_tf = train_tf\n",
    "        self.eval_tf = eval_tf\n",
    "\n",
    "        self.train_data = None\n",
    "        self.val_data = None\n",
    "        self.test_data = None\n",
    "\n",
    "        self._pin_memory = torch.cuda.is_available()\n",
    "\n",
    "    # seeding per worker\n",
    "    def _worker_init_fn(self, worker_id: int):\n",
    "        np.random.seed(self.seed + worker_id)\n",
    "        random.seed(self.seed + worker_id)\n",
    "\n",
    "    def _generator(self):\n",
    "        g = torch.Generator()\n",
    "        g.manual_seed(self.seed)\n",
    "        return g\n",
    "\n",
    "    def setup(self, stage=None):\n",
    "        # guard: train must be good/*\n",
    "        bad = [k for k in self.images_train_all if not k.startswith(\"good/\")]\n",
    "        assert not bad, f\"Leak detected in TRAIN: {bad[:5]}\"\n",
    "\n",
    "        # guard: all anomalies in test must have masks\n",
    "        missing = [k for k in self.images_test if (not k.startswith(\"good/\")) and (k not in self.masks_test)]\n",
    "        assert not missing, f\"Missing ground-truth masks for test anomalies (first 5): {missing[:5]}\"\n",
    "\n",
    "        # stable split: sort -> shuffle with seed\n",
    "        keys = sorted(self.images_train_all.keys())\n",
    "        rng = np.random.default_rng(self.seed)\n",
    "        rng.shuffle(keys)\n",
    "\n",
    "        if self.val_split > 0:\n",
    "            n_val = max(1, int(self.val_split * len(keys)))\n",
    "            val_keys = set(keys[:n_val])\n",
    "            train_keys = set(keys[n_val:])\n",
    "        else:\n",
    "            n_val = 0\n",
    "            val_keys = set()\n",
    "            train_keys = set(keys)\n",
    "\n",
    "        imgs_train = {k: self.images_train_all[k] for k in train_keys}\n",
    "        imgs_val   = {k: self.images_train_all[k] for k in val_keys}\n",
    "\n",
    "        # build datasets\n",
    "        assert self.train_tf is not None and self.eval_tf is not None, \"Transforms must be provided.\"\n",
    "        self.train_data = TrainGoodDataset(imgs_train, self.train_tf)\n",
    "        self.val_data   = TrainGoodDataset(imgs_val,   self.eval_tf) if n_val > 0 else None\n",
    "        self.test_data  = OfficialTestDataset(self.images_test, self.masks_test, self.eval_tf, task=self.task)\n",
    "\n",
    "        print(f\"[DM] Train {len(self.train_data)} | Val {len(self.val_data) if self.val_data else 0} | Test {len(self.test_data)}\")\n",
    "\n",
    "    def _dl_kwargs(self, shuffle: bool, batch_size: int):\n",
    "        kw = dict(\n",
    "            batch_size=batch_size,\n",
    "            shuffle=shuffle,\n",
    "            num_workers=self.num_workers,\n",
    "            pin_memory=self._pin_memory,\n",
    "            generator=self._generator(),\n",
    "            worker_init_fn=self._worker_init_fn,\n",
    "        )\n",
    "        if self.num_workers > 0:\n",
    "            kw.update(dict(persistent_workers=True, prefetch_factor=2))\n",
    "        return kw\n",
    "\n",
    "    def train_dataloader(self):\n",
    "        return DataLoader(self.train_data, **self._dl_kwargs(shuffle=True,  batch_size=self.bs_train))\n",
    "\n",
    "    def val_dataloader(self):\n",
    "        if self.val_data is None:\n",
    "            return None\n",
    "        return DataLoader(self.val_data,   **self._dl_kwargs(shuffle=False, batch_size=self.bs_test))\n",
    "\n",
    "    def test_dataloader(self):\n",
    "        return DataLoader(self.test_data,  **self._dl_kwargs(shuffle=False, batch_size=self.bs_test))"
   ]
  },
  {
   "cell_type": "code",
   "execution_count": 11,
   "metadata": {
    "execution": {
     "iopub.execute_input": "2025-09-18T05:45:25.858272Z",
     "iopub.status.busy": "2025-09-18T05:45:25.858087Z",
     "iopub.status.idle": "2025-09-18T05:45:25.874456Z",
     "shell.execute_reply": "2025-09-18T05:45:25.873845Z",
     "shell.execute_reply.started": "2025-09-18T05:45:25.858258Z"
    },
    "trusted": true
   },
   "outputs": [
    {
     "name": "stdout",
     "output_type": "stream",
     "text": [
      "[DM] Train 198 | Val 22 | Test 115\n"
     ]
    }
   ],
   "source": [
    "dm = HoldoutValDataModule(\n",
    "    images_train=images_train,\n",
    "    images_test=images_test,\n",
    "    masks_test=masks_test,\n",
    "    val_split=0.1,\n",
    "    train_batch_size=config[\"params_dataset\"][\"train_batch_size\"],\n",
    "    test_batch_size=config[\"params_dataset\"][\"test_batch_size\"],\n",
    "    num_workers=config[\"params_dataset\"][\"num_workers\"],\n",
    "    seed=config[\"params_dataset\"][\"seed\"],\n",
    "    task=config[\"params_dataset\"][\"task\"],\n",
    "    train_tf=train_tf, eval_tf=eval_tf\n",
    ")\n",
    "dm.setup()"
   ]
  },
  {
   "cell_type": "code",
   "execution_count": 12,
   "metadata": {
    "execution": {
     "iopub.execute_input": "2025-09-18T05:45:25.875493Z",
     "iopub.status.busy": "2025-09-18T05:45:25.875232Z",
     "iopub.status.idle": "2025-09-18T05:45:25.893157Z",
     "shell.execute_reply": "2025-09-18T05:45:25.892474Z",
     "shell.execute_reply.started": "2025-09-18T05:45:25.875472Z"
    },
    "trusted": true
   },
   "outputs": [
    {
     "name": "stdout",
     "output_type": "stream",
     "text": [
      "198 22 115\n"
     ]
    }
   ],
   "source": [
    "print(len(dm.train_data), len(dm.val_data) if dm.val_data else 0, len(dm.test_data))"
   ]
  },
  {
   "cell_type": "markdown",
   "metadata": {},
   "source": [
    "<h1 style=\"text-align:center;\">Non-deterministic Neural Network Architecture </h1>"
   ]
  },
  {
   "cell_type": "code",
   "execution_count": 13,
   "metadata": {
    "execution": {
     "iopub.execute_input": "2025-09-18T05:45:25.894049Z",
     "iopub.status.busy": "2025-09-18T05:45:25.893825Z",
     "iopub.status.idle": "2025-09-18T05:45:25.906673Z",
     "shell.execute_reply": "2025-09-18T05:45:25.906036Z",
     "shell.execute_reply.started": "2025-09-18T05:45:25.894034Z"
    },
    "trusted": true
   },
   "outputs": [],
   "source": [
    "import math\n",
    "import torch.nn as nn\n",
    "import torch.nn.functional as F\n",
    "from pytorch_lightning import LightningModule\n",
    "from torch.optim import Adam"
   ]
  },
  {
   "cell_type": "markdown",
   "metadata": {},
   "source": [
    "## Non-deterministic NN: Stochastic Anomaly VAE (SAVAE) + Baseline β-VAE"
   ]
  },
  {
   "cell_type": "code",
   "execution_count": 14,
   "metadata": {
    "execution": {
     "iopub.execute_input": "2025-09-18T05:45:25.907788Z",
     "iopub.status.busy": "2025-09-18T05:45:25.907562Z",
     "iopub.status.idle": "2025-09-18T05:45:25.920542Z",
     "shell.execute_reply": "2025-09-18T05:45:25.919872Z",
     "shell.execute_reply.started": "2025-09-18T05:45:25.907766Z"
    },
    "trusted": true
   },
   "outputs": [],
   "source": [
    "# ===============================\n",
    "#  Non-deterministic NN: Stochastic Anomaly VAE (SAVAE) + Baseline β-VAE\n",
    "# ===============================\n",
    "\n",
    "# ----------- small encoder/decoder blocks -----------\n",
    "def conv_block(in_c, out_c):\n",
    "    return nn.Sequential(\n",
    "        nn.Conv2d(in_c, out_c, kernel_size=4, stride=2, padding=1),\n",
    "        nn.ReLU(inplace=True),\n",
    "    )\n",
    "\n",
    "def deconv_block(in_c, out_c):\n",
    "    return nn.Sequential(\n",
    "        nn.ConvTranspose2d(in_c, out_c, kernel_size=4, stride=2, padding=1),\n",
    "        nn.ReLU(inplace=True),\n",
    "    )\n",
    "\n",
    "# ---------- Mixture prior with diagonal cov ----------\n",
    "class DiagGMM(nn.Module):\n",
    "    \"\"\"\n",
    "    Learnable K-component diagonal-covariance Gaussian Mixture prior p(z).\n",
    "    Provides log_prob(z) for KL(q||p) Monte-Carlo estimation.\n",
    "    \"\"\"\n",
    "    def __init__(self, z_dim=64, K=5):\n",
    "        super().__init__()\n",
    "        self.K = K\n",
    "        self.logits = nn.Parameter(torch.zeros(K))             # mixture weights (logits)\n",
    "        self.mu     = nn.Parameter(torch.randn(K, z_dim) * 0.1)\n",
    "        self.logvar = nn.Parameter(torch.zeros(K, z_dim))      # diag cov\n",
    "\n",
    "    @property\n",
    "    def pi_log(self):\n",
    "        return F.log_softmax(self.logits, dim=0)               # (K,)\n",
    "\n",
    "    def log_prob(self, z):\n",
    "        \"\"\"\n",
    "        z: (B, D)\n",
    "        returns log p(z): (B,)\n",
    "        \"\"\"\n",
    "        B, D = z.shape\n",
    "        z   = z.unsqueeze(1)               # (B,1,D)\n",
    "        mu  = self.mu.unsqueeze(0)         # (1,K,D)\n",
    "        lv  = self.logvar.unsqueeze(0)     # (1,K,D)\n",
    "        # log N(z|mu, diag(exp(lv)))\n",
    "        log_comp = -0.5 * ( (z - mu).pow(2) / lv.exp() + lv + math.log(2*math.pi) ).sum(-1)  # (B,K)\n",
    "        return torch.logsumexp(self.pi_log.unsqueeze(0) + log_comp, dim=1)                    # (B,)\n"
   ]
  },
  {
   "cell_type": "code",
   "execution_count": 15,
   "metadata": {
    "execution": {
     "iopub.execute_input": "2025-09-18T05:45:25.921497Z",
     "iopub.status.busy": "2025-09-18T05:45:25.921337Z",
     "iopub.status.idle": "2025-09-18T05:45:25.945411Z",
     "shell.execute_reply": "2025-09-18T05:45:25.944784Z",
     "shell.execute_reply.started": "2025-09-18T05:45:25.921483Z"
    },
    "trusted": true
   },
   "outputs": [],
   "source": [
    "# -------------- Stochastic Anomaly VAE (SAVAE) --------------\n",
    "class SAVAE(LightningModule):\n",
    "    def __init__(self, z_dim=64, K=5, beta=4.0, lr=2e-4, dropout_p=0.15, kl_warmup_frac=0.3):\n",
    "        super().__init__()\n",
    "        self.save_hyperparameters()\n",
    "        # Encoder downsamples 224 -> 112 -> 56 -> 28 -> 14 (with 4 convs)\n",
    "        self.enc_cnn = nn.Sequential(\n",
    "            conv_block(3,   32),\n",
    "            nn.Dropout2d(p=dropout_p),\n",
    "            conv_block(32,  64),\n",
    "            nn.Dropout2d(p=dropout_p),\n",
    "            conv_block(64,  128),\n",
    "            nn.Dropout2d(p=dropout_p),\n",
    "            conv_block(128, 256),\n",
    "            nn.Dropout2d(p=dropout_p),\n",
    "        )\n",
    "        self.enc_flat = nn.Flatten()\n",
    "        self.enc_mu   = nn.Linear(256*14*14, z_dim)\n",
    "        self.enc_lv   = nn.Linear(256*14*14, z_dim)\n",
    "        self.enc_dp   = nn.Dropout(p=dropout_p)  # MC-dropout in latent head\n",
    "\n",
    "        # Decoder: z -> 256x14x14 -> upsample back to 224\n",
    "        self.dec_fc   = nn.Linear(z_dim, 256*14*14)\n",
    "        self.dec_cnn  = nn.Sequential(\n",
    "            deconv_block(256, 128),\n",
    "            nn.Dropout2d(p=dropout_p),\n",
    "            deconv_block(128, 64),\n",
    "            nn.Dropout2d(p=dropout_p),\n",
    "            deconv_block(64,  32),\n",
    "            nn.Dropout2d(p=dropout_p),\n",
    "        )\n",
    "        # Heteroscedastic heads\n",
    "        self.dec_mu   = nn.ConvTranspose2d(32, 3, kernel_size=4, stride=2, padding=1)     # mean image\n",
    "        self.dec_lv   = nn.ConvTranspose2d(32, 3, kernel_size=4, stride=2, padding=1)     # per-pixel log-variance\n",
    "\n",
    "        # Learnable mixture prior\n",
    "        self.prior = DiagGMM(z_dim=z_dim, K=K)\n",
    "\n",
    "        # Hyperparams\n",
    "        self.z_dim = z_dim\n",
    "        self.beta  = beta\n",
    "        self.lr    = lr\n",
    "        self.kl_warmup_frac = kl_warmup_frac\n",
    "\n",
    "        self._init_weights()\n",
    "\n",
    "    def _init_weights(self):\n",
    "        for m in self.modules():\n",
    "            if isinstance(m, (nn.Conv2d, nn.ConvTranspose2d)):\n",
    "                nn.init.kaiming_normal_(m.weight, nonlinearity='relu')\n",
    "                if m.bias is not None:\n",
    "                    nn.init.zeros_(m.bias)\n",
    "            elif isinstance(m, nn.Linear):\n",
    "                nn.init.xavier_uniform_(m.weight)\n",
    "                nn.init.zeros_(m.bias)\n",
    "                \n",
    "    @staticmethod\n",
    "    def reparam(mu, lv):\n",
    "        eps = torch.randn_like(mu)\n",
    "        return mu + (0.5 * lv).exp() * eps\n",
    "\n",
    "    @staticmethod\n",
    "    def gaussian_nll(x, mu, lv, lv_min=-4.0, lv_max=4.0):\n",
    "        lv = lv.clamp(lv_min, lv_max)\n",
    "        return 0.5 * (((x - mu).pow(2) / lv.exp()) + lv + math.log(2*math.pi)).mean()\n",
    "\n",
    "    @staticmethod\n",
    "    def diag_gauss_logprob(z, mu, lv):\n",
    "        return -0.5 * ((((z - mu).pow(2) / lv.exp()) + lv + math.log(2*math.pi)).sum(-1))\n",
    "\n",
    "    # ------ model forward ------\n",
    "    def encode(self, x):\n",
    "        h = self.enc_cnn(x)                          # (B,256,14,14)\n",
    "        h = self.enc_flat(h)                         # (B,256*14*14)\n",
    "        h = self.enc_dp(h)                           # MC dropout\n",
    "        mu = self.enc_mu(h)\n",
    "        lv = self.enc_lv(h)\n",
    "        return mu, lv\n",
    "\n",
    "    def decode(self, z):\n",
    "        h = self.dec_fc(z).view(-1, 256, 14, 14)\n",
    "        h = self.dec_cnn(h)\n",
    "        x_mu = self.dec_mu(h)\n",
    "        x_lv = self.dec_lv(h)\n",
    "        x_lv = x_lv.clamp(-4.0, 4.0)\n",
    "        return x_mu, x_lv\n",
    "\n",
    "    def forward(self, x):\n",
    "        mu, lv = self.encode(x)\n",
    "        z      = self.reparam(mu, lv)\n",
    "        x_mu, x_lv = self.decode(z)\n",
    "        x_lv = x_lv.clamp(-4.0, 4.0)\n",
    "        return x_mu, x_lv, z, mu, lv\n",
    "\n",
    "    # ------ losses ------\n",
    "    def kl_q_to_p(self, z, q_mu, q_lv):\n",
    "        log_q = self.diag_gauss_logprob(z, q_mu, q_lv)  # (B,)\n",
    "        log_p = self.prior.log_prob(z)                  # (B,)\n",
    "        return (log_q - log_p).mean()\n",
    "\n",
    "    def training_step(self, batch, _):\n",
    "        x = batch[\"image\"].float()\n",
    "        x_mu, x_lv, z, mu, lv = self(x)\n",
    "        recon = self.gaussian_nll(x, x_mu, x_lv)\n",
    "        kl    = self.kl_q_to_p(z, mu, lv)\n",
    "\n",
    "        max_epochs  = max(1, getattr(self.trainer, \"max_epochs\", 100))\n",
    "        warm_epochs = max(1, int(self.kl_warmup_frac * max_epochs))\n",
    "        warm_coeff  = 1.0 if (self.current_epoch >= warm_epochs) else (self.current_epoch + 1) / warm_epochs\n",
    "        loss = recon + (warm_coeff * self.beta) * kl\n",
    "\n",
    "        bs = x.size(0)  # avoid Lightning batch-size warning\n",
    "        self.log_dict({\"train/recon\": recon, \"train/kl\": kl, \"train/loss\": loss}, prog_bar=True, on_epoch=True, on_step=False, batch_size=bs)\n",
    "        return loss\n",
    "\n",
    "    def validation_step(self, batch, _):\n",
    "        x = batch[\"image\"].float()\n",
    "        x_mu, x_lv, z, mu, lv = self(x)\n",
    "        recon = self.gaussian_nll(x, x_mu, x_lv)\n",
    "        kl    = self.kl_q_to_p(z, mu, lv)\n",
    "        loss  = recon + self.beta * kl\n",
    "        bs = x.size(0)  \n",
    "        self.log_dict({\"val/recon\": recon, \"val/kl\": kl, \"val/loss\": loss}, prog_bar=True, on_epoch=True, on_step=False, batch_size=bs)\n",
    "\n",
    "    def test_step(self, batch, _):\n",
    "        x = batch[\"image\"].float()\n",
    "        x_mu, x_lv, z, mu, lv = self(x)\n",
    "        recon = self.gaussian_nll(x, x_mu, x_lv)\n",
    "        kl    = self.kl_q_to_p(z, mu, lv)\n",
    "        loss  = recon + self.beta * kl\n",
    "        bs = x.size(0)  \n",
    "        self.log_dict({\"test/recon\": recon, \"test/kl\": kl, \"test/loss\": loss}, prog_bar=False, on_epoch=True, on_step=False, batch_size=bs)\n",
    "\n",
    "    def configure_optimizers(self):\n",
    "        return Adam(self.parameters(), lr=self.lr)\n",
    "\n",
    "    @torch.no_grad()\n",
    "    def sample_from_prior(self, n):\n",
    "        device = next(self.parameters()).device\n",
    "        pi = F.softmax(self.prior.logits, dim=0)                 # (K,)\n",
    "        comp_idx = torch.multinomial(pi, n, replacement=True).to(device)  # (n,)\n",
    "        mu_k  = self.prior.mu[comp_idx]                          # (n, D)\n",
    "        lv_k  = self.prior.logvar[comp_idx]                      # (n, D)\n",
    "        z = mu_k + (0.5*lv_k).exp() * torch.randn_like(mu_k)\n",
    "        x_mu, x_lv = self.decode(z)\n",
    "        return x_mu, x_lv\n",
    "\n",
    "    @torch.no_grad()\n",
    "    def reconstruct(self, x):\n",
    "        x_mu, x_lv, *_ = self(x)\n",
    "        return x_mu, x_lv\n",
    "\n",
    "    # (optional) enable MC-dropout at eval\n",
    "    def enable_mc_dropout(self):\n",
    "        for m in self.modules():\n",
    "            if isinstance(m, (nn.Dropout, nn.Dropout2d)):\n",
    "                m.train()  # keep dropout on while leaving BatchNorm alone"
   ]
  },
  {
   "cell_type": "markdown",
   "metadata": {},
   "source": [
    "## AR-SAVAE (scene latent + AR prior + order alignment)"
   ]
  },
  {
   "cell_type": "code",
   "execution_count": 16,
   "metadata": {
    "execution": {
     "iopub.execute_input": "2025-09-18T05:45:25.946240Z",
     "iopub.status.busy": "2025-09-18T05:45:25.946008Z",
     "iopub.status.idle": "2025-09-18T05:45:25.966136Z",
     "shell.execute_reply": "2025-09-18T05:45:25.965641Z",
     "shell.execute_reply.started": "2025-09-18T05:45:25.946219Z"
    },
    "trusted": true
   },
   "outputs": [],
   "source": [
    "# ===============================\n",
    "#  AR-SAVAE: Scene latent + AR slot prior + permutation alignment\n",
    "# ===============================\n",
    "import lpips\n",
    "from scipy.optimize import linear_sum_assignment  # Hungarian matching\n",
    "\n",
    "def kl_diag_gauss(mu_q, lv_q, mu_p, lv_p, eps=1e-6):\n",
    "    \"\"\"Stable KL between diagonal Gaussians; shapes (..., D).\"\"\"\n",
    "    var_q = lv_q.exp().clamp_min(eps)\n",
    "    var_p = lv_p.exp().clamp_min(eps)\n",
    "    term1 = (var_q / var_p).sum(dim=-1)\n",
    "    term2 = ((mu_p - mu_q) ** 2 / var_p).sum(dim=-1)\n",
    "    term3 = (lv_p - lv_q).sum(dim=-1)\n",
    "    D = mu_q.shape[-1]\n",
    "    return 0.5 * (term1 + term2 + term3 - D)\n",
    "\n",
    "def gaussian_nll_safe(x, mu, lv, lv_min=-4.0, lv_max=4.0):\n",
    "    \"\"\"Heteroscedastic Gaussian NLL with clamped logvar for stability.\"\"\"\n",
    "    lv = lv.clamp(lv_min, lv_max)\n",
    "    var = lv.exp()\n",
    "    return 0.5 * (((x - mu) ** 2) / var + lv + math.log(2 * math.pi)).mean()\n",
    "\n",
    "def conv_block(in_c, out_c):\n",
    "    return nn.Sequential(\n",
    "        nn.Conv2d(in_c, out_c, kernel_size=4, stride=2, padding=1),\n",
    "        nn.ReLU(inplace=True),\n",
    "    )\n",
    "\n",
    "def deconv_block(in_c, out_c):\n",
    "    return nn.Sequential(\n",
    "        nn.ConvTranspose2d(in_c, out_c, kernel_size=4, stride=2, padding=1),\n",
    "        nn.ReLU(inplace=True),\n",
    "    )"
   ]
  },
  {
   "cell_type": "code",
   "execution_count": 17,
   "metadata": {
    "execution": {
     "iopub.execute_input": "2025-09-18T05:45:25.967097Z",
     "iopub.status.busy": "2025-09-18T05:45:25.966855Z",
     "iopub.status.idle": "2025-09-18T05:45:25.993414Z",
     "shell.execute_reply": "2025-09-18T05:45:25.992748Z",
     "shell.execute_reply.started": "2025-09-18T05:45:25.967076Z"
    },
    "trusted": true
   },
   "outputs": [],
   "source": [
    "# -------------- AutoRegressive Stochastic Anomaly VAE (SAVAE) --------------\n",
    "class AR_SAVAE(LightningModule):\n",
    "    \"\"\"\n",
    "    AR-SAVAE (scene latent s, K slot latents z_1..z_K with AR prior),\n",
    "    Heteroscedastic decoder, MC stochasticity, LPIPS-enhanced recon.\n",
    "    Sampling interface: sample_from_prior(n) -> (x_mu, x_lv)\n",
    "    \"\"\"\n",
    "    def __init__(\n",
    "        self,\n",
    "        K=4, z_dim=16, s_dim=32,\n",
    "        beta_s=1.0, beta_z=4.0,\n",
    "        lr=2e-4, dropout_p=0.15,\n",
    "        tau_sample=0.8, kl_warmup_frac=0.3\n",
    "    ):\n",
    "        super().__init__()\n",
    "        self.save_hyperparameters()\n",
    "\n",
    "        self.K, self.z_dim, self.s_dim = K, z_dim, s_dim\n",
    "        self.beta_s, self.beta_z = beta_s, beta_z\n",
    "        self.lr = lr\n",
    "        self.tau_sample = tau_sample\n",
    "        self.kl_warmup_frac = kl_warmup_frac\n",
    "\n",
    "        # -------- Encoder backbone: 224 -> 14x14 (4 stride-2 convs)\n",
    "        self.enc_cnn = nn.Sequential(\n",
    "            conv_block(3,   32),\n",
    "            nn.Dropout2d(dropout_p),\n",
    "            conv_block(32,  64),\n",
    "            nn.Dropout2d(dropout_p),\n",
    "            conv_block(64,  128),\n",
    "            nn.Dropout2d(dropout_p),\n",
    "            conv_block(128, 256),\n",
    "            nn.Dropout2d(dropout_p),\n",
    "        )\n",
    "        self.enc_flat = nn.Flatten()\n",
    "        feat_dim = 256*14*14\n",
    "\n",
    "        # scene (global) posterior q(s|x)\n",
    "        self.enc_s_mu = nn.Linear(feat_dim, s_dim)\n",
    "        self.enc_s_lv = nn.Linear(feat_dim, s_dim)\n",
    "\n",
    "        # slot posteriors q(z_k|x) unaligned -> (B,K,z_dim)\n",
    "        self.enc_z_mu = nn.Linear(feat_dim, K*z_dim)\n",
    "        self.enc_z_lv = nn.Linear(feat_dim, K*z_dim)\n",
    "\n",
    "        # -------- AR prior over slots p(z_1..K | s):\n",
    "        # simple GRU conditioned on s produces (mu_p, logvar_p) per step\n",
    "        self.prior_gru = nn.GRU(input_size=s_dim, hidden_size=128, num_layers=1, batch_first=True)\n",
    "        self.prior_to_mu  = nn.Linear(128, z_dim)\n",
    "        self.prior_to_lv  = nn.Linear(128, z_dim)\n",
    "\n",
    "        # -------- Decoder: [s, z_1..K] -> image params\n",
    "        in_latent = s_dim + K*z_dim\n",
    "        self.dec_fc  = nn.Linear(in_latent, 256*14*14)\n",
    "        self.dec_cnn = nn.Sequential(\n",
    "            deconv_block(256, 128),\n",
    "            nn.Dropout2d(dropout_p),\n",
    "            deconv_block(128, 64),\n",
    "            nn.Dropout2d(dropout_p),\n",
    "            deconv_block(64,  32),\n",
    "            nn.Dropout2d(dropout_p),\n",
    "        )\n",
    "        self.dec_mu = nn.ConvTranspose2d(32, 3, 4, 2, 1)\n",
    "        self.dec_lv = nn.ConvTranspose2d(32, 3, 4, 2, 1)\n",
    "\n",
    "        # -------- LPIPS perceptual term\n",
    "        self.lpips = lpips.LPIPS(net='vgg').eval()\n",
    "        for p in self.lpips.parameters(): p.requires_grad = False\n",
    "        self.register_buffer(\"mean\", torch.tensor([0.485,0.456,0.406]).view(1,3,1,1))\n",
    "        self.register_buffer(\"std\",  torch.tensor([0.229,0.224,0.225]).view(1,3,1,1))\n",
    "\n",
    "        self._init_weights()\n",
    "\n",
    "    def _init_weights(self):\n",
    "        for m in self.modules():\n",
    "            if isinstance(m, (nn.Conv2d, nn.ConvTranspose2d)):\n",
    "                nn.init.kaiming_normal_(m.weight, nonlinearity='relu')\n",
    "                if m.bias is not None:\n",
    "                    nn.init.zeros_(m.bias)\n",
    "            elif isinstance(m, nn.Linear):\n",
    "                nn.init.xavier_uniform_(m.weight)\n",
    "                nn.init.zeros_(m.bias)\n",
    "                \n",
    "    # ---------- utilities ----------\n",
    "    def _to_m1_1(self, x):\n",
    "        x = (x * self.std + self.mean).clamp(0,1)\n",
    "        return x * 2 - 1\n",
    "\n",
    "    @staticmethod\n",
    "    def reparam(mu, lv, tau=1.0):\n",
    "        eps = torch.randn_like(mu)\n",
    "        return mu + (0.5*lv).exp() * (tau*eps)\n",
    "\n",
    "    @staticmethod\n",
    "    def gaussian_nll(x, mu, lv, lv_min=-4.0, lv_max=4.0):\n",
    "        # clamp log-variance to keep exp(lv) bounded\n",
    "        lv = lv.clamp(lv_min, lv_max)\n",
    "        var = lv.exp()\n",
    "        return 0.5 * (((x - mu) ** 2) / var + lv + math.log(2 * math.pi)).mean()\n",
    "\n",
    "    # ---------- model parts ----------\n",
    "    def encode(self, x):\n",
    "        h = self.enc_flat(self.enc_cnn(x))     # (B, 256*14*14)\n",
    "        s_mu = self.enc_s_mu(h)\n",
    "        s_lv = self.enc_s_lv(h)\n",
    "        z_mu = self.enc_z_mu(h).view(-1, self.K, self.z_dim)  # (B,K,D)\n",
    "        z_lv = self.enc_z_lv(h).view(-1, self.K, self.z_dim)\n",
    "        return s_mu, s_lv, z_mu, z_lv\n",
    "\n",
    "    def ar_prior_rollout(self, s, z_teacher=None):\n",
    "        \"\"\"\n",
    "        s: (B, s_dim), optional teacher z: (B,K,D)\n",
    "        returns mu_p, lv_p: (B, K, D)\n",
    "        \"\"\"\n",
    "        B = s.size(0)\n",
    "        # feed constant s per step to GRU\n",
    "        inp = s.unsqueeze(1).repeat(1, self.K, 1)  # (B,K,s_dim)\n",
    "        h,_ = self.prior_gru(inp)                  # (B,K,128)\n",
    "        mu_p = self.prior_to_mu(h)                 # (B,K,D)\n",
    "        lv_p = self.prior_to_lv(h)                 # (B,K,D)\n",
    "        return mu_p, lv_p\n",
    "\n",
    "    def decode(self, s, z_aligned):\n",
    "        \"\"\"s: (B,s_dim); z_aligned: (B,K,D) -> (x_mu, x_lv)\"\"\"\n",
    "        lat = torch.cat([s, z_aligned.reshape(s.size(0), -1)], dim=1)\n",
    "        h = self.dec_fc(lat).view(-1, 256, 14, 14)\n",
    "        h = self.dec_cnn(h)\n",
    "        x_mu = self.dec_mu(h)\n",
    "        x_lv = self.dec_lv(h).clamp(-4.0, 4.0)\n",
    "        return x_mu, x_lv\n",
    "\n",
    "    # ---------- full forward (used only if you want) ----------\n",
    "    def forward(self, x):\n",
    "        s_mu, s_lv, z_mu_u, z_lv_u = self.encode(x)\n",
    "        s = self.reparam(s_mu, s_lv, tau=self.tau_sample)\n",
    "        z_u = self.reparam(z_mu_u, z_lv_u, tau=self.tau_sample)\n",
    "        mu_p, lv_p = self.ar_prior_rollout(s, z_teacher=z_u.detach())\n",
    "\n",
    "        # Hungarian alignment\n",
    "        B,K,D = z_mu_u.shape\n",
    "        cost = torch.zeros(B, K, K, device=x.device)\n",
    "        for i in range(K):\n",
    "            for j in range(K):\n",
    "                cost[:, i, j] = kl_diag_gauss(z_mu_u[:,i,:], z_lv_u[:,i,:], mu_p[:,j,:], lv_p[:,j,:])\n",
    "        idx = []\n",
    "        for b in range(B):\n",
    "            _, c = linear_sum_assignment(cost[b].detach().cpu().numpy())\n",
    "            idx.append(torch.tensor(c, device=x.device, dtype=torch.long))\n",
    "        perm = torch.stack(idx, 0)\n",
    "        batch_idx = torch.arange(B, device=x.device).unsqueeze(-1).repeat(1, K)\n",
    "        z_mu_al = z_mu_u[batch_idx, perm, :]\n",
    "        z_lv_al = z_lv_u[batch_idx, perm, :]\n",
    "        z_al    = self.reparam(z_mu_al, z_lv_al, tau=self.tau_sample)\n",
    "\n",
    "        x_mu, x_lv = self.decode(s, z_al)\n",
    "        return x_mu, x_lv, (s_mu, s_lv, z_mu_al, z_lv_al, s, z_al)\n",
    "\n",
    "    # ---------- steps ----------\n",
    "    def _loss_common(self, x, x_mu, x_lv, s_mu, s_lv, z_mu_al, z_lv_al, s, z_al):\n",
    "        # recon: pixel + LPIPS\n",
    "        recon_pix = self.gaussian_nll(x, x_mu, x_lv)\n",
    "        x_img, xhat_img = self._to_m1_1(x), self._to_m1_1(torch.sigmoid(x_mu))\n",
    "        lp = self.lpips(xhat_img, x_img).mean()\n",
    "        recon = 0.7 * recon_pix + 0.3 * lp\n",
    "\n",
    "        # KLs\n",
    "        kl_s = 0.5 * (s_mu.pow(2) + s_lv.exp() - s_lv - 1.0).sum(-1).mean()\n",
    "        mu_p2, lv_p2 = self.ar_prior_rollout(s, z_teacher=z_al.detach())\n",
    "        kl_slots = kl_diag_gauss(z_mu_al, z_lv_al, mu_p2, lv_p2).mean()\n",
    "\n",
    "        # warmup on beta_z\n",
    "        max_epochs = max(1, getattr(self.trainer, \"max_epochs\", 100))\n",
    "        warm_epochs = max(1, int(self.kl_warmup_frac * max_epochs))\n",
    "        warm_coeff = 1.0 if (self.current_epoch >= warm_epochs) else (self.current_epoch + 1)/warm_epochs\n",
    "\n",
    "        loss = recon + self.beta_s * kl_s + (warm_coeff * self.beta_z) * kl_slots\n",
    "        return loss, recon, kl_s, kl_slots\n",
    "\n",
    "    def training_step(self, batch, _):\n",
    "        x = batch[\"image\"].float()\n",
    "        x_mu, x_lv, pack = self(x)\n",
    "        s_mu, s_lv, z_mu_al, z_lv_al, s, z_al = pack\n",
    "        loss, recon, kl_s, kl_z = self._loss_common(x, x_mu, x_lv, s_mu, s_lv, z_mu_al, z_lv_al, s, z_al)\n",
    "        bs = x.size(0)\n",
    "        self.log_dict({\"train/recon\":recon, \"train/kl_s\":kl_s, \"train/kl_z\":kl_z, \"train/loss\":loss},\n",
    "                      prog_bar=True, on_epoch=True, on_step=False, batch_size=bs)\n",
    "        return loss\n",
    "\n",
    "    def validation_step(self, batch, _):\n",
    "        x = batch[\"image\"].float()\n",
    "        x_mu, x_lv, pack = self(x)\n",
    "        s_mu, s_lv, z_mu_al, z_lv_al, s, z_al = pack\n",
    "        loss, recon, kl_s, kl_z = self._loss_common(x, x_mu, x_lv, s_mu, s_lv, z_mu_al, z_lv_al, s, z_al)\n",
    "        bs = x.size(0)\n",
    "        self.log_dict({\"val/recon\":recon, \"val/kl_s\":kl_s, \"val/kl_z\":kl_z, \"val/loss\":loss},\n",
    "                      prog_bar=True, on_epoch=True, on_step=False, batch_size=bs)\n",
    "\n",
    "    def test_step(self, batch, _):\n",
    "        x = batch[\"image\"].float()\n",
    "        x_mu, x_lv, pack = self(x)\n",
    "        s_mu, s_lv, z_mu_al, z_lv_al, s, z_al = pack\n",
    "        loss, recon, kl_s, kl_z = self._loss_common(x, x_mu, x_lv, s_mu, s_lv, z_mu_al, z_lv_al, s, z_al)\n",
    "        bs = x.size(0)\n",
    "        self.log_dict({\"test/recon\":recon, \"test/kl_s\":kl_s, \"test/kl_z\":kl_z, \"test/loss\":loss},\n",
    "                      prog_bar=False, on_epoch=True, on_step=False, batch_size=bs)\n",
    "\n",
    "    def configure_optimizers(self):\n",
    "        return Adam(self.parameters(), lr=self.lr)\n",
    "\n",
    "    @torch.no_grad()\n",
    "    def sample_from_prior(self, n):\n",
    "        device = next(self.parameters()).device\n",
    "        # sample s ~ N(0,I)\n",
    "        s_mu = torch.zeros(n, self.s_dim, device=device)\n",
    "        s_lv = torch.zeros(n, self.s_dim, device=device)\n",
    "        s = self.reparam(s_mu, s_lv, tau=self.tau_sample)\n",
    "\n",
    "        # AR prior rollout to get component means/logvars\n",
    "        mu_p, lv_p = self.ar_prior_rollout(s)     # (n,K,D)\n",
    "        # sample slots with temperature\n",
    "        z = self.reparam(mu_p, lv_p, tau=self.tau_sample)\n",
    "        x_mu, x_lv = self.decode(s, z)\n",
    "        return x_mu, x_lv"
   ]
  },
  {
   "cell_type": "markdown",
   "metadata": {},
   "source": [
    "<h1 style=\"text-align:center;\">Baseline Neural Network Architecture for Comparison</h1>"
   ]
  },
  {
   "cell_type": "markdown",
   "metadata": {},
   "source": [
    "## Variational Autoencoder (VAE)"
   ]
  },
  {
   "cell_type": "code",
   "execution_count": 18,
   "metadata": {
    "execution": {
     "iopub.execute_input": "2025-09-18T05:45:25.994414Z",
     "iopub.status.busy": "2025-09-18T05:45:25.994192Z",
     "iopub.status.idle": "2025-09-18T05:45:26.013034Z",
     "shell.execute_reply": "2025-09-18T05:45:26.012321Z",
     "shell.execute_reply.started": "2025-09-18T05:45:25.994391Z"
    },
    "trusted": true
   },
   "outputs": [],
   "source": [
    "# -------------- β-VAE baseline (simpler) --------------\n",
    "class VAE(LightningModule):\n",
    "    \"\"\"\n",
    "    Standard β-VAE (isotropic N(0,I) prior), homoscedastic decoder (fixed variance).\n",
    "    No mixture prior, no heteroscedastic output, no MC-dropout required.\n",
    "    \"\"\"\n",
    "    def __init__(self, z_dim=64, beta=4.0, lr=2e-4):\n",
    "        super().__init__()\n",
    "        self.save_hyperparameters()\n",
    "\n",
    "        self.enc_cnn = nn.Sequential(\n",
    "            conv_block(3,   32),\n",
    "            conv_block(32,  64),\n",
    "            conv_block(64,  128),\n",
    "            conv_block(128, 256),\n",
    "        )\n",
    "        self.enc_flat = nn.Flatten()\n",
    "        self.enc_mu   = nn.Linear(256*14*14, z_dim)\n",
    "        self.enc_lv   = nn.Linear(256*14*14, z_dim)\n",
    "\n",
    "        self.dec_fc   = nn.Linear(z_dim, 256*14*14)\n",
    "        self.dec_cnn  = nn.Sequential(\n",
    "            deconv_block(256, 128),\n",
    "            deconv_block(128, 64),\n",
    "            deconv_block(64,  32),\n",
    "        )\n",
    "        self.dec_mu   = nn.ConvTranspose2d(32, 3, kernel_size=4, stride=2, padding=1)\n",
    "\n",
    "        self.z_dim = z_dim\n",
    "        self.beta  = beta\n",
    "        self.lr    = lr\n",
    "\n",
    "        self._init_weights()\n",
    "\n",
    "    def _init_weights(self):\n",
    "        for m in self.modules():\n",
    "            if isinstance(m, (nn.Conv2d, nn.ConvTranspose2d)):\n",
    "                nn.init.kaiming_normal_(m.weight, nonlinearity='relu')\n",
    "                if m.bias is not None:\n",
    "                    nn.init.zeros_(m.bias)\n",
    "            elif isinstance(m, nn.Linear):\n",
    "                nn.init.xavier_uniform_(m.weight)\n",
    "                nn.init.zeros_(m.bias)\n",
    "\n",
    "    @staticmethod\n",
    "    def reparam(mu, lv):\n",
    "        eps = torch.randn_like(mu)\n",
    "        return mu + (0.5 * lv).exp() * eps\n",
    "\n",
    "    @staticmethod\n",
    "    def gaussian_nll_unit(x, mu):\n",
    "        # unit-variance Gaussian NLL (equivalent to MSE up to a constant)\n",
    "        return 0.5 * ((x - mu).pow(2) + math.log(2*math.pi)).mean()\n",
    "\n",
    "    @staticmethod\n",
    "    def kl_to_standard_normal(mu, lv):\n",
    "        # KL( N(mu, diag(exp(lv))) || N(0,I) )\n",
    "        return 0.5 * (mu.pow(2) + lv.exp() - lv - 1.0).sum(dim=1).mean()\n",
    "\n",
    "    def forward(self, x):\n",
    "        h  = self.enc_flat(self.enc_cnn(x))\n",
    "        mu = self.enc_mu(h); lv = self.enc_lv(h)\n",
    "        z  = self.reparam(mu, lv)\n",
    "        h2 = self.dec_fc(z).view(-1, 256, 14, 14)\n",
    "        x_mu = self.dec_mu(self.dec_cnn(h2))\n",
    "        return x_mu, z, mu, lv\n",
    "\n",
    "    def training_step(self, batch, _):\n",
    "        x = batch[\"image\"].float()\n",
    "        x_mu, z, mu, lv = self(x)\n",
    "        recon = self.gaussian_nll_unit(x, x_mu)  # or MSE if you prefer\n",
    "        kl    = self.kl_to_standard_normal(mu, lv)\n",
    "        loss  = recon + self.beta * kl\n",
    "        self.log_dict({\"train/recon\": recon, \"train/kl\": kl, \"train/loss\": loss},\n",
    "                      prog_bar=True, on_epoch=True, on_step=False)\n",
    "        return loss\n",
    "\n",
    "    def validation_step(self, batch, _):\n",
    "        x = batch[\"image\"].float()\n",
    "        x_mu, z, mu, lv = self(x)\n",
    "        recon = self.gaussian_nll_unit(x, x_mu)\n",
    "        kl    = self.kl_to_standard_normal(mu, lv)\n",
    "        loss  = recon + self.beta * kl\n",
    "        self.log_dict({\"val/recon\": recon, \"val/kl\": kl, \"val/loss\": loss},\n",
    "                      prog_bar=True, on_epoch=True, on_step=False)\n",
    "    \n",
    "    def test_step(self, batch, _):\n",
    "        x = batch[\"image\"].float()\n",
    "        x_mu, z, mu, lv = self(x)\n",
    "        recon = self.gaussian_nll_unit(x, x_mu)\n",
    "        kl    = self.kl_to_standard_normal(mu, lv)\n",
    "        loss  = recon + self.beta * kl\n",
    "        self.log_dict({\"test/recon\": recon, \"test/kl\": kl, \"test/loss\": loss},\n",
    "                      prog_bar=False, on_epoch=True, on_step=False)\n",
    "        \n",
    "    def configure_optimizers(self):\n",
    "        return Adam(self.parameters(), lr=self.lr)\n",
    "\n",
    "    @torch.no_grad()\n",
    "    def sample_from_prior(self, n):\n",
    "        device = next(self.parameters()).device\n",
    "        z = torch.randn(n, self.z_dim, device=device)\n",
    "        h2 = self.dec_fc(z).view(-1, 256, 14, 14)\n",
    "        x_mu = self.dec_mu(self.dec_cnn(h2))\n",
    "        return x_mu"
   ]
  },
  {
   "cell_type": "markdown",
   "metadata": {},
   "source": [
    "## Deterministic Autoencoder"
   ]
  },
  {
   "cell_type": "code",
   "execution_count": 19,
   "metadata": {
    "execution": {
     "iopub.execute_input": "2025-09-18T05:45:26.014040Z",
     "iopub.status.busy": "2025-09-18T05:45:26.013815Z",
     "iopub.status.idle": "2025-09-18T05:45:26.030768Z",
     "shell.execute_reply": "2025-09-18T05:45:26.030159Z",
     "shell.execute_reply.started": "2025-09-18T05:45:26.014013Z"
    },
    "trusted": true
   },
   "outputs": [],
   "source": [
    "class DAE(LightningModule):\n",
    "    \"\"\"\n",
    "    Deterministic AutoEncoder baseline.\n",
    "    No latent sampling, no KL. Just encodes to a metal_nutneck and decodes back.\n",
    "    \"\"\"\n",
    "    def __init__(self, metal_nutneck=64, lr=2e-4):\n",
    "        super().__init__()\n",
    "        self.save_hyperparameters()\n",
    "\n",
    "        # Encoder\n",
    "        self.enc_cnn = nn.Sequential(\n",
    "            conv_block(3,   32),\n",
    "            conv_block(32,  64),\n",
    "            conv_block(64,  128),\n",
    "            conv_block(128, 256),\n",
    "        )\n",
    "        self.enc_flat = nn.Flatten()\n",
    "        self.enc_fc   = nn.Linear(256*14*14, metal_nutneck)\n",
    "\n",
    "        # Decoder\n",
    "        self.dec_fc   = nn.Linear(metal_nutneck, 256*14*14)\n",
    "        self.dec_cnn  = nn.Sequential(\n",
    "            deconv_block(256, 128),\n",
    "            deconv_block(128, 64),\n",
    "            deconv_block(64,  32),\n",
    "        )\n",
    "        self.dec_mu   = nn.ConvTranspose2d(32, 3, kernel_size=4, stride=2, padding=1)\n",
    "\n",
    "        self.lr = lr\n",
    "\n",
    "    def forward(self, x):\n",
    "        h = self.enc_flat(self.enc_cnn(x))\n",
    "        z = self.enc_fc(h)  # deterministic metal_nutneck\n",
    "        h2 = self.dec_fc(z).view(-1, 256, 14, 14)\n",
    "        x_mu = self.dec_mu(self.dec_cnn(h2))\n",
    "        return x_mu\n",
    "\n",
    "    def training_step(self, batch, _):\n",
    "        x = batch[\"image\"].float()\n",
    "        x_mu = self(x)\n",
    "        recon = F.mse_loss(x_mu, x)\n",
    "        bs = x.size(0)\n",
    "        self.log(\"train/recon\", recon, prog_bar=True, on_epoch=True, on_step=False, batch_size=bs)\n",
    "        self.log(\"train/loss\",  recon, prog_bar=False, on_epoch=True, on_step=False, batch_size=bs)\n",
    "        return recon\n",
    "    \n",
    "    def validation_step(self, batch, _):\n",
    "        x = batch[\"image\"].float()\n",
    "        x_mu = self(x)\n",
    "        recon = F.mse_loss(x_mu, x)\n",
    "        bs = x.size(0)\n",
    "        self.log(\"val/recon\", recon, prog_bar=True, on_epoch=True, on_step=False, batch_size=bs)\n",
    "        self.log(\"val/loss\",  recon, prog_bar=False, on_epoch=True, on_step=False, batch_size=bs)\n",
    "    \n",
    "    def test_step(self, batch, _):\n",
    "        x = batch[\"image\"].float()\n",
    "        x_mu = self(x)\n",
    "        recon = F.mse_loss(x_mu, x)\n",
    "        bs = x.size(0)\n",
    "        self.log(\"test/recon\", recon, prog_bar=False, on_epoch=True, on_step=False, batch_size=bs)\n",
    "        self.log(\"test/loss\",  recon, prog_bar=False, on_epoch=True, on_step=False, batch_size=bs)\n",
    "\n",
    "    def configure_optimizers(self):\n",
    "        return Adam(self.parameters(), lr=self.lr)"
   ]
  },
  {
   "cell_type": "markdown",
   "metadata": {},
   "source": [
    "<h1 style=\"text-align:center;\">Training Phase</h1>"
   ]
  },
  {
   "cell_type": "code",
   "execution_count": 20,
   "metadata": {
    "execution": {
     "iopub.execute_input": "2025-09-18T05:45:26.031560Z",
     "iopub.status.busy": "2025-09-18T05:45:26.031351Z",
     "iopub.status.idle": "2025-09-18T05:45:26.051203Z",
     "shell.execute_reply": "2025-09-18T05:45:26.050532Z",
     "shell.execute_reply.started": "2025-09-18T05:45:26.031538Z"
    },
    "trusted": true
   },
   "outputs": [],
   "source": [
    "# Record Metrics every epoch\n",
    "from pathlib import Path\n",
    "import json, time\n",
    "from torchvision.utils import make_grid, save_image\n",
    "from pytorch_lightning import Trainer\n",
    "from pytorch_lightning.callbacks import EarlyStopping, ModelCheckpoint, Callback\n",
    "\n",
    "\n",
    "RUN_DIR = Path(\"/kaggle/working/outputs\")\n",
    "RUN_DIR.mkdir(parents=True, exist_ok=True)\n",
    "\n",
    "# ----------------------------------- Metrics to CSV (per model) -----------------------------------\n",
    "\n",
    "class MetricsRecorder(Callback):\n",
    "    def __init__(self, name: str):\n",
    "        super().__init__()\n",
    "        self.name = name\n",
    "        self.rows = []\n",
    "\n",
    "    def _grab(self, trainer, stage, epoch):\n",
    "        row = {\"model\": self.name, \"stage\": stage, \"epoch\": int(epoch)}\n",
    "        for k, v in trainer.callback_metrics.items():\n",
    "            try:\n",
    "                row[k] = float(v)\n",
    "            except Exception:\n",
    "                pass\n",
    "        self.rows.append(row)\n",
    "\n",
    "    def on_train_epoch_end(self, trainer, pl_module):\n",
    "        self._grab(trainer, \"train\", trainer.current_epoch)\n",
    "\n",
    "    def on_validation_epoch_end(self, trainer, pl_module):\n",
    "        self._grab(trainer, \"val\", trainer.current_epoch)\n",
    "\n",
    "    def on_test_end(self, trainer, pl_module):\n",
    "        # test may run once; still record final\n",
    "        self._grab(trainer, \"test\", getattr(trainer, \"current_epoch\", -1))\n",
    "\n",
    "    def on_fit_end(self, trainer, pl_module):\n",
    "        import pandas as pd  # lazy import to avoid top-level clutter\n",
    "        df = pd.DataFrame(self.rows)\n",
    "        out = RUN_DIR / f\"{self.name}_metrics.csv\"\n",
    "        df.to_csv(out, index=False)\n",
    "        print(f\"[{self.name}] metrics saved ->\", out)"
   ]
  },
  {
   "cell_type": "code",
   "execution_count": 21,
   "metadata": {
    "execution": {
     "iopub.execute_input": "2025-09-18T05:45:26.052289Z",
     "iopub.status.busy": "2025-09-18T05:45:26.051962Z",
     "iopub.status.idle": "2025-09-18T05:45:26.067437Z",
     "shell.execute_reply": "2025-09-18T05:45:26.066832Z",
     "shell.execute_reply.started": "2025-09-18T05:45:26.052261Z"
    },
    "trusted": true
   },
   "outputs": [],
   "source": [
    "# ----------------------------------- Small tensor I/O helpers -----------------------------------\n",
    "def unwrap_bchw(out):\n",
    "    \"\"\"\n",
    "    Accept tensor or (tensor, ...) tuple/list and return the first BCHW tensor.\n",
    "    \"\"\"\n",
    "    if isinstance(out, torch.Tensor):\n",
    "        return out\n",
    "    if isinstance(out, (tuple, list)) and len(out) > 0:\n",
    "        for item in out:\n",
    "            if isinstance(item, torch.Tensor) and item.ndim == 4:\n",
    "                return item\n",
    "        # fallback to first tensor-like element\n",
    "        for item in out:\n",
    "            if isinstance(item, torch.Tensor):\n",
    "                return item\n",
    "        return out[0]\n",
    "    raise TypeError(f\"Unexpected output type: {type(out)}\")\n",
    "\n",
    "def denorm01(x_norm):\n",
    "    \"\"\"x_norm normalized with ImageNet stats -> [0,1]\"\"\"\n",
    "    mean = torch.tensor([0.485, 0.456, 0.406], device=x_norm.device).view(1,3,1,1)\n",
    "    std  = torch.tensor([0.229, 0.224, 0.225], device=x_norm.device).view(1,3,1,1)\n",
    "    return (x_norm * std + mean).clamp(0, 1)\n",
    "\n",
    "def logits_to01(x_logits):\n",
    "    \"\"\"Decoder logits -> [0,1] image via sigmoid\"\"\"\n",
    "    return torch.sigmoid(x_logits).clamp(0, 1)\n",
    "\n",
    "def save_grid(tensor_BCHW, path, nrow=8):\n",
    "    grid = make_grid(tensor_BCHW, nrow=nrow)\n",
    "    save_image(grid, path)\n",
    "\n",
    "def first_batch(dl):\n",
    "    for b in dl:\n",
    "        return b\n",
    "\n",
    "# ----------------------------------- Reconstructions & prior samples dump -----------------------------------\n",
    "@torch.no_grad()\n",
    "def export_recons(model, name, dm):\n",
    "    dl = dm.val_dataloader()\n",
    "    b = first_batch(dl)\n",
    "    x = b[\"image\"].float().to(next(model.parameters()).device)\n",
    "    model.eval()\n",
    "\n",
    "    out = model(x)                 # DAE -> tensor; VAE/SAVAE/AR-SAVAE -> tuple\n",
    "    x_mu = unwrap_bchw(out)\n",
    "\n",
    "    vis_in  = denorm01(x)[:8]      # inputs are normalized -> denorm to [0,1]\n",
    "    vis_out = logits_to01(x_mu)[:8]  # decoder output are logits -> sigmoid\n",
    "    both = torch.cat([vis_in, vis_out], dim=0)\n",
    "\n",
    "    path = RUN_DIR / f\"{name}_val_recons.png\"\n",
    "    save_grid(both, path, nrow=8)\n",
    "    print(\"saved\", path)\n",
    "\n",
    "@torch.no_grad()\n",
    "def export_samples(model, name, n=32):\n",
    "    device = next(model.parameters()).device\n",
    "    model.eval()\n",
    "\n",
    "    if not hasattr(model, \"sample_from_prior\"):\n",
    "        print(f\"[{name}] sample_from_prior not found; skipping samples.\")\n",
    "        return\n",
    "\n",
    "    out = model.sample_from_prior(n)\n",
    "    x_mu = unwrap_bchw(out)\n",
    "    imgs = logits_to01(x_mu)\n",
    "\n",
    "    path = RUN_DIR / f\"{name}_samples.png\"\n",
    "    save_grid(imgs, path, nrow=8)\n",
    "    print(\"saved\", path)\n",
    "\n",
    "# ----------------------------------- Uncertainty maps (SAVAE / AR_SAVAE) -----------------------------------\n",
    "@torch.no_grad()\n",
    "def export_uncertainty_savae(model, name, dm, mc_passes=20):\n",
    "    \"\"\"\n",
    "    Exports:\n",
    "      - {name}_aleatoric.png  : mean(exp(logvar)) over 1 forward (decoder predicted noise)\n",
    "      - {name}_epistemic.png  : variance over MC dropout passes on logits (model uncertainty)\n",
    "    Works for models that produce (x_mu, x_lv, ...).\n",
    "    \"\"\"\n",
    "    if not hasattr(model, \"dec_lv\"):\n",
    "        # Only run for SAVAE / AR_SAVAE which have heteroscedastic head\n",
    "        return\n",
    "\n",
    "    dl = dm.val_dataloader()\n",
    "    b = first_batch(dl)\n",
    "    x = b[\"image\"].float().to(next(model.parameters()).device)\n",
    "\n",
    "    # aleatoric from a single pass\n",
    "    model.eval()\n",
    "    out = model(x)\n",
    "    x_mu, x_lv = unwrap_bchw(out), None\n",
    "    if isinstance(out, (tuple, list)) and len(out) >= 2 and isinstance(out[1], torch.Tensor):\n",
    "        x_lv = out[1]\n",
    "    if x_lv is None:\n",
    "        return  # safety\n",
    "\n",
    "    aleatoric = x_lv.exp().mean(dim=1, keepdim=True)  # mean over channels -> (B,1,H,W)\n",
    "    aleatoric = (aleatoric - aleatoric.min()) / (aleatoric.max() - aleatoric.min() + 1e-8)\n",
    "\n",
    "    a_path = RUN_DIR / f\"{name}_aleatoric.png\"\n",
    "    save_grid(aleatoric[:8].repeat(1,3,1,1), a_path, nrow=8)\n",
    "    print(\"saved\", a_path)\n",
    "\n",
    "    # epistemic via MC-dropout: enable dropout by train(), but freeze BN stats\n",
    "    model.train()\n",
    "    # Keep BatchNorm in eval to avoid drift (if any BN existed)\n",
    "    for m in model.modules():\n",
    "        if isinstance(m, torch.nn.modules.batchnorm._BatchNorm):\n",
    "            m.eval()\n",
    "\n",
    "    logits_stack = []\n",
    "    for _ in range(mc_passes):\n",
    "        out = model(x)\n",
    "        x_mu = unwrap_bchw(out)\n",
    "        logits_stack.append(x_mu.detach())\n",
    "\n",
    "    logits_stack = torch.stack(logits_stack, dim=0)      # (T,B,C,H,W)\n",
    "    probs_stack  = torch.sigmoid(logits_stack)           # convert to probs\n",
    "    epi_var = probs_stack.var(dim=0).mean(dim=1, keepdim=True)   # (B,1,H,W)\n",
    "    epi_var = (epi_var - epi_var.min()) / (epi_var.max() - epi_var.min() + 1e-8)\n",
    "\n",
    "    e_path = RUN_DIR / f\"{name}_epistemic.png\"\n",
    "    save_grid(epi_var[:8].repeat(1,3,1,1), e_path, nrow=8)\n",
    "    print(\"saved\", e_path)"
   ]
  },
  {
   "cell_type": "code",
   "execution_count": 22,
   "metadata": {
    "execution": {
     "iopub.execute_input": "2025-09-18T05:45:26.068328Z",
     "iopub.status.busy": "2025-09-18T05:45:26.068126Z",
     "iopub.status.idle": "2025-09-18T05:45:26.087638Z",
     "shell.execute_reply": "2025-09-18T05:45:26.087016Z",
     "shell.execute_reply.started": "2025-09-18T05:45:26.068304Z"
    },
    "trusted": true
   },
   "outputs": [],
   "source": [
    "# ----------------------------------- Train/Test wrapper -----------------------------------\n",
    "def train_and_save(model, name, dm, max_epochs=100, patience=10):\n",
    "    rec = MetricsRecorder(name)\n",
    "\n",
    "    ckpt_dir = RUN_DIR / name\n",
    "    ckpt_dir.mkdir(parents=True, exist_ok=True)\n",
    "\n",
    "    ckpt = ModelCheckpoint(\n",
    "        dirpath=str(ckpt_dir),\n",
    "        filename=\"{epoch:02d}\",\n",
    "        monitor=\"val/loss\",\n",
    "        mode=\"min\",\n",
    "        save_top_k=1\n",
    "    )\n",
    "    early = EarlyStopping(monitor=\"val/loss\", mode=\"min\", patience=patience)\n",
    "\n",
    "    trainer = Trainer(\n",
    "        accelerator=\"gpu\",\n",
    "        devices=1,\n",
    "        precision=\"16-mixed\",\n",
    "        max_epochs=max_epochs,\n",
    "        check_val_every_n_epoch=1,\n",
    "        num_sanity_val_steps=0,\n",
    "        deterministic=False,\n",
    "        benchmark=True,\n",
    "        callbacks=[early, ckpt, rec],\n",
    "        log_every_n_steps=1,\n",
    "        default_root_dir=str(ckpt_dir),  # keep logs under this model folder\n",
    "    )\n",
    "\n",
    "    # train + test\n",
    "    trainer.fit(model, datamodule=dm)\n",
    "    trainer.test(model, datamodule=dm)\n",
    "\n",
    "    # best ckpt path\n",
    "    best_path = ckpt.best_model_path\n",
    "    with open(RUN_DIR / f\"{name}_best_ckpt.txt\", \"w\") as f:\n",
    "        f.write(best_path + \"\\n\")\n",
    "    print(f\"[{name}] best checkpoint -> {best_path}\")\n",
    "\n",
    "    # export images (recons, samples, uncertainty if supported)\n",
    "    device = \"cuda\" if torch.cuda.is_available() else \"cpu\"\n",
    "    model = model.to(device)\n",
    "\n",
    "    export_recons(model, name, dm)\n",
    "    export_samples(model, name, n=32)\n",
    "\n",
    "    # only for models that expose per-pixel log-variance head\n",
    "    if hasattr(model, \"dec_lv\"):\n",
    "        try:\n",
    "            export_uncertainty_savae(model, name, dm, mc_passes=20)\n",
    "        except Exception as e:\n",
    "            print(f\"[{name}] uncertainty export skipped: {e}\")\n",
    "\n",
    "    return best_path"
   ]
  },
  {
   "cell_type": "markdown",
   "metadata": {},
   "source": [
    "## Custom non-deterministic SAVAE Training"
   ]
  },
  {
   "cell_type": "code",
   "execution_count": 23,
   "metadata": {
    "execution": {
     "iopub.execute_input": "2025-09-18T05:45:26.088623Z",
     "iopub.status.busy": "2025-09-18T05:45:26.088350Z",
     "iopub.status.idle": "2025-09-18T05:46:30.699483Z",
     "shell.execute_reply": "2025-09-18T05:46:30.698602Z",
     "shell.execute_reply.started": "2025-09-18T05:45:26.088602Z"
    },
    "trusted": true
   },
   "outputs": [
    {
     "name": "stderr",
     "output_type": "stream",
     "text": [
      "2025-09-18 05:45:28.404462: E external/local_xla/xla/stream_executor/cuda/cuda_fft.cc:477] Unable to register cuFFT factory: Attempting to register factory for plugin cuFFT when one has already been registered\n",
      "WARNING: All log messages before absl::InitializeLog() is called are written to STDERR\n",
      "E0000 00:00:1758174328.610083      36 cuda_dnn.cc:8310] Unable to register cuDNN factory: Attempting to register factory for plugin cuDNN when one has already been registered\n",
      "E0000 00:00:1758174328.669102      36 cuda_blas.cc:1418] Unable to register cuBLAS factory: Attempting to register factory for plugin cuBLAS when one has already been registered\n"
     ]
    },
    {
     "name": "stdout",
     "output_type": "stream",
     "text": [
      "[DM] Train 198 | Val 22 | Test 115\n"
     ]
    },
    {
     "name": "stderr",
     "output_type": "stream",
     "text": [
      "/usr/local/lib/python3.11/dist-packages/pytorch_lightning/callbacks/model_checkpoint.py:658: Checkpoint directory /kaggle/working/outputs/savae exists and is not empty.\n"
     ]
    },
    {
     "data": {
      "application/vnd.jupyter.widget-view+json": {
       "model_id": "db7ddddd20e345eebd8bbfaaa2537d53",
       "version_major": 2,
       "version_minor": 0
      },
      "text/plain": [
       "Training: |          | 0/? [00:00<?, ?it/s]"
      ]
     },
     "metadata": {},
     "output_type": "display_data"
    },
    {
     "data": {
      "application/vnd.jupyter.widget-view+json": {
       "model_id": "",
       "version_major": 2,
       "version_minor": 0
      },
      "text/plain": [
       "Validation: |          | 0/? [00:00<?, ?it/s]"
      ]
     },
     "metadata": {},
     "output_type": "display_data"
    },
    {
     "data": {
      "application/vnd.jupyter.widget-view+json": {
       "model_id": "",
       "version_major": 2,
       "version_minor": 0
      },
      "text/plain": [
       "Validation: |          | 0/? [00:00<?, ?it/s]"
      ]
     },
     "metadata": {},
     "output_type": "display_data"
    },
    {
     "data": {
      "application/vnd.jupyter.widget-view+json": {
       "model_id": "",
       "version_major": 2,
       "version_minor": 0
      },
      "text/plain": [
       "Validation: |          | 0/? [00:00<?, ?it/s]"
      ]
     },
     "metadata": {},
     "output_type": "display_data"
    },
    {
     "data": {
      "application/vnd.jupyter.widget-view+json": {
       "model_id": "",
       "version_major": 2,
       "version_minor": 0
      },
      "text/plain": [
       "Validation: |          | 0/? [00:00<?, ?it/s]"
      ]
     },
     "metadata": {},
     "output_type": "display_data"
    },
    {
     "data": {
      "application/vnd.jupyter.widget-view+json": {
       "model_id": "",
       "version_major": 2,
       "version_minor": 0
      },
      "text/plain": [
       "Validation: |          | 0/? [00:00<?, ?it/s]"
      ]
     },
     "metadata": {},
     "output_type": "display_data"
    },
    {
     "data": {
      "application/vnd.jupyter.widget-view+json": {
       "model_id": "",
       "version_major": 2,
       "version_minor": 0
      },
      "text/plain": [
       "Validation: |          | 0/? [00:00<?, ?it/s]"
      ]
     },
     "metadata": {},
     "output_type": "display_data"
    },
    {
     "data": {
      "application/vnd.jupyter.widget-view+json": {
       "model_id": "",
       "version_major": 2,
       "version_minor": 0
      },
      "text/plain": [
       "Validation: |          | 0/? [00:00<?, ?it/s]"
      ]
     },
     "metadata": {},
     "output_type": "display_data"
    },
    {
     "data": {
      "application/vnd.jupyter.widget-view+json": {
       "model_id": "",
       "version_major": 2,
       "version_minor": 0
      },
      "text/plain": [
       "Validation: |          | 0/? [00:00<?, ?it/s]"
      ]
     },
     "metadata": {},
     "output_type": "display_data"
    },
    {
     "data": {
      "application/vnd.jupyter.widget-view+json": {
       "model_id": "",
       "version_major": 2,
       "version_minor": 0
      },
      "text/plain": [
       "Validation: |          | 0/? [00:00<?, ?it/s]"
      ]
     },
     "metadata": {},
     "output_type": "display_data"
    },
    {
     "data": {
      "application/vnd.jupyter.widget-view+json": {
       "model_id": "",
       "version_major": 2,
       "version_minor": 0
      },
      "text/plain": [
       "Validation: |          | 0/? [00:00<?, ?it/s]"
      ]
     },
     "metadata": {},
     "output_type": "display_data"
    },
    {
     "data": {
      "application/vnd.jupyter.widget-view+json": {
       "model_id": "",
       "version_major": 2,
       "version_minor": 0
      },
      "text/plain": [
       "Validation: |          | 0/? [00:00<?, ?it/s]"
      ]
     },
     "metadata": {},
     "output_type": "display_data"
    },
    {
     "data": {
      "application/vnd.jupyter.widget-view+json": {
       "model_id": "",
       "version_major": 2,
       "version_minor": 0
      },
      "text/plain": [
       "Validation: |          | 0/? [00:00<?, ?it/s]"
      ]
     },
     "metadata": {},
     "output_type": "display_data"
    },
    {
     "data": {
      "application/vnd.jupyter.widget-view+json": {
       "model_id": "",
       "version_major": 2,
       "version_minor": 0
      },
      "text/plain": [
       "Validation: |          | 0/? [00:00<?, ?it/s]"
      ]
     },
     "metadata": {},
     "output_type": "display_data"
    },
    {
     "data": {
      "application/vnd.jupyter.widget-view+json": {
       "model_id": "",
       "version_major": 2,
       "version_minor": 0
      },
      "text/plain": [
       "Validation: |          | 0/? [00:00<?, ?it/s]"
      ]
     },
     "metadata": {},
     "output_type": "display_data"
    },
    {
     "data": {
      "application/vnd.jupyter.widget-view+json": {
       "model_id": "",
       "version_major": 2,
       "version_minor": 0
      },
      "text/plain": [
       "Validation: |          | 0/? [00:00<?, ?it/s]"
      ]
     },
     "metadata": {},
     "output_type": "display_data"
    },
    {
     "data": {
      "application/vnd.jupyter.widget-view+json": {
       "model_id": "",
       "version_major": 2,
       "version_minor": 0
      },
      "text/plain": [
       "Validation: |          | 0/? [00:00<?, ?it/s]"
      ]
     },
     "metadata": {},
     "output_type": "display_data"
    },
    {
     "name": "stdout",
     "output_type": "stream",
     "text": [
      "[savae] metrics saved -> /kaggle/working/outputs/savae_metrics.csv\n",
      "[DM] Train 198 | Val 22 | Test 115\n"
     ]
    },
    {
     "data": {
      "application/vnd.jupyter.widget-view+json": {
       "model_id": "e2e881267f3c4f679f3ea68f625a7b18",
       "version_major": 2,
       "version_minor": 0
      },
      "text/plain": [
       "Testing: |          | 0/? [00:00<?, ?it/s]"
      ]
     },
     "metadata": {},
     "output_type": "display_data"
    },
    {
     "data": {
      "text/html": [
       "<pre style=\"white-space:pre;overflow-x:auto;line-height:normal;font-family:Menlo,'DejaVu Sans Mono',consolas,'Courier New',monospace\">┏━━━━━━━━━━━━━━━━━━━━━━━━━━━┳━━━━━━━━━━━━━━━━━━━━━━━━━━━┓\n",
       "┃<span style=\"font-weight: bold\">        Test metric        </span>┃<span style=\"font-weight: bold\">       DataLoader 0        </span>┃\n",
       "┡━━━━━━━━━━━━━━━━━━━━━━━━━━━╇━━━━━━━━━━━━━━━━━━━━━━━━━━━┩\n",
       "│<span style=\"color: #008080; text-decoration-color: #008080\">          test/kl          </span>│<span style=\"color: #800080; text-decoration-color: #800080\">    0.0971803069114685     </span>│\n",
       "│<span style=\"color: #008080; text-decoration-color: #008080\">         test/loss         </span>│<span style=\"color: #800080; text-decoration-color: #800080\">    1.3990451097488403     </span>│\n",
       "│<span style=\"color: #008080; text-decoration-color: #008080\">        test/recon         </span>│<span style=\"color: #800080; text-decoration-color: #800080\">    1.0103238821029663     </span>│\n",
       "└───────────────────────────┴───────────────────────────┘\n",
       "</pre>\n"
      ],
      "text/plain": [
       "┏━━━━━━━━━━━━━━━━━━━━━━━━━━━┳━━━━━━━━━━━━━━━━━━━━━━━━━━━┓\n",
       "┃\u001b[1m \u001b[0m\u001b[1m       Test metric       \u001b[0m\u001b[1m \u001b[0m┃\u001b[1m \u001b[0m\u001b[1m      DataLoader 0       \u001b[0m\u001b[1m \u001b[0m┃\n",
       "┡━━━━━━━━━━━━━━━━━━━━━━━━━━━╇━━━━━━━━━━━━━━━━━━━━━━━━━━━┩\n",
       "│\u001b[36m \u001b[0m\u001b[36m         test/kl         \u001b[0m\u001b[36m \u001b[0m│\u001b[35m \u001b[0m\u001b[35m   0.0971803069114685    \u001b[0m\u001b[35m \u001b[0m│\n",
       "│\u001b[36m \u001b[0m\u001b[36m        test/loss        \u001b[0m\u001b[36m \u001b[0m│\u001b[35m \u001b[0m\u001b[35m   1.3990451097488403    \u001b[0m\u001b[35m \u001b[0m│\n",
       "│\u001b[36m \u001b[0m\u001b[36m       test/recon        \u001b[0m\u001b[36m \u001b[0m│\u001b[35m \u001b[0m\u001b[35m   1.0103238821029663    \u001b[0m\u001b[35m \u001b[0m│\n",
       "└───────────────────────────┴───────────────────────────┘\n"
      ]
     },
     "metadata": {},
     "output_type": "display_data"
    },
    {
     "name": "stdout",
     "output_type": "stream",
     "text": [
      "[savae] best checkpoint -> /kaggle/working/outputs/savae/epoch=05.ckpt\n",
      "saved /kaggle/working/outputs/savae_val_recons.png\n",
      "saved /kaggle/working/outputs/savae_samples.png\n",
      "saved /kaggle/working/outputs/savae_aleatoric.png\n",
      "saved /kaggle/working/outputs/savae_epistemic.png\n"
     ]
    }
   ],
   "source": [
    "savae = SAVAE(z_dim=64, K=5, beta=4.0, lr=2e-4, dropout_p=0.15)\n",
    "savae_ckpt = train_and_save(savae, \"savae\", dm, max_epochs=100, patience=10)"
   ]
  },
  {
   "cell_type": "markdown",
   "metadata": {},
   "source": [
    "## Custom non-deterministic AR-SAVAE Training"
   ]
  },
  {
   "cell_type": "code",
   "execution_count": 24,
   "metadata": {
    "execution": {
     "iopub.execute_input": "2025-09-18T05:46:30.700947Z",
     "iopub.status.busy": "2025-09-18T05:46:30.700696Z",
     "iopub.status.idle": "2025-09-18T05:57:09.008456Z",
     "shell.execute_reply": "2025-09-18T05:57:09.007507Z",
     "shell.execute_reply.started": "2025-09-18T05:46:30.700922Z"
    },
    "trusted": true
   },
   "outputs": [
    {
     "name": "stdout",
     "output_type": "stream",
     "text": [
      "Setting up [LPIPS] perceptual loss: trunk [vgg], v[0.1], spatial [off]\n"
     ]
    },
    {
     "name": "stderr",
     "output_type": "stream",
     "text": [
      "/usr/local/lib/python3.11/dist-packages/torchvision/models/_utils.py:208: UserWarning: The parameter 'pretrained' is deprecated since 0.13 and may be removed in the future, please use 'weights' instead.\n",
      "  warnings.warn(\n",
      "/usr/local/lib/python3.11/dist-packages/torchvision/models/_utils.py:223: UserWarning: Arguments other than a weight enum or `None` for 'weights' are deprecated since 0.13 and may be removed in the future. The current behavior is equivalent to passing `weights=VGG16_Weights.IMAGENET1K_V1`. You can also use `weights=VGG16_Weights.DEFAULT` to get the most up-to-date weights.\n",
      "  warnings.warn(msg)\n",
      "Downloading: \"https://download.pytorch.org/models/vgg16-397923af.pth\" to /root/.cache/torch/hub/checkpoints/vgg16-397923af.pth\n",
      "100%|██████████| 528M/528M [00:02<00:00, 235MB/s] \n"
     ]
    },
    {
     "name": "stdout",
     "output_type": "stream",
     "text": [
      "Loading model from: /usr/local/lib/python3.11/dist-packages/lpips/weights/v0.1/vgg.pth\n",
      "[DM] Train 198 | Val 22 | Test 115\n"
     ]
    },
    {
     "name": "stderr",
     "output_type": "stream",
     "text": [
      "/usr/local/lib/python3.11/dist-packages/pytorch_lightning/callbacks/model_checkpoint.py:658: Checkpoint directory /kaggle/working/outputs/arsavae exists and is not empty.\n"
     ]
    },
    {
     "data": {
      "application/vnd.jupyter.widget-view+json": {
       "model_id": "3dd37ca139d14dc182ca09b441da15ed",
       "version_major": 2,
       "version_minor": 0
      },
      "text/plain": [
       "Training: |          | 0/? [00:00<?, ?it/s]"
      ]
     },
     "metadata": {},
     "output_type": "display_data"
    },
    {
     "data": {
      "application/vnd.jupyter.widget-view+json": {
       "model_id": "",
       "version_major": 2,
       "version_minor": 0
      },
      "text/plain": [
       "Validation: |          | 0/? [00:00<?, ?it/s]"
      ]
     },
     "metadata": {},
     "output_type": "display_data"
    },
    {
     "data": {
      "application/vnd.jupyter.widget-view+json": {
       "model_id": "",
       "version_major": 2,
       "version_minor": 0
      },
      "text/plain": [
       "Validation: |          | 0/? [00:00<?, ?it/s]"
      ]
     },
     "metadata": {},
     "output_type": "display_data"
    },
    {
     "data": {
      "application/vnd.jupyter.widget-view+json": {
       "model_id": "",
       "version_major": 2,
       "version_minor": 0
      },
      "text/plain": [
       "Validation: |          | 0/? [00:00<?, ?it/s]"
      ]
     },
     "metadata": {},
     "output_type": "display_data"
    },
    {
     "data": {
      "application/vnd.jupyter.widget-view+json": {
       "model_id": "",
       "version_major": 2,
       "version_minor": 0
      },
      "text/plain": [
       "Validation: |          | 0/? [00:00<?, ?it/s]"
      ]
     },
     "metadata": {},
     "output_type": "display_data"
    },
    {
     "data": {
      "application/vnd.jupyter.widget-view+json": {
       "model_id": "",
       "version_major": 2,
       "version_minor": 0
      },
      "text/plain": [
       "Validation: |          | 0/? [00:00<?, ?it/s]"
      ]
     },
     "metadata": {},
     "output_type": "display_data"
    },
    {
     "data": {
      "application/vnd.jupyter.widget-view+json": {
       "model_id": "",
       "version_major": 2,
       "version_minor": 0
      },
      "text/plain": [
       "Validation: |          | 0/? [00:00<?, ?it/s]"
      ]
     },
     "metadata": {},
     "output_type": "display_data"
    },
    {
     "data": {
      "application/vnd.jupyter.widget-view+json": {
       "model_id": "",
       "version_major": 2,
       "version_minor": 0
      },
      "text/plain": [
       "Validation: |          | 0/? [00:00<?, ?it/s]"
      ]
     },
     "metadata": {},
     "output_type": "display_data"
    },
    {
     "data": {
      "application/vnd.jupyter.widget-view+json": {
       "model_id": "",
       "version_major": 2,
       "version_minor": 0
      },
      "text/plain": [
       "Validation: |          | 0/? [00:00<?, ?it/s]"
      ]
     },
     "metadata": {},
     "output_type": "display_data"
    },
    {
     "data": {
      "application/vnd.jupyter.widget-view+json": {
       "model_id": "",
       "version_major": 2,
       "version_minor": 0
      },
      "text/plain": [
       "Validation: |          | 0/? [00:00<?, ?it/s]"
      ]
     },
     "metadata": {},
     "output_type": "display_data"
    },
    {
     "data": {
      "application/vnd.jupyter.widget-view+json": {
       "model_id": "",
       "version_major": 2,
       "version_minor": 0
      },
      "text/plain": [
       "Validation: |          | 0/? [00:00<?, ?it/s]"
      ]
     },
     "metadata": {},
     "output_type": "display_data"
    },
    {
     "data": {
      "application/vnd.jupyter.widget-view+json": {
       "model_id": "",
       "version_major": 2,
       "version_minor": 0
      },
      "text/plain": [
       "Validation: |          | 0/? [00:00<?, ?it/s]"
      ]
     },
     "metadata": {},
     "output_type": "display_data"
    },
    {
     "data": {
      "application/vnd.jupyter.widget-view+json": {
       "model_id": "",
       "version_major": 2,
       "version_minor": 0
      },
      "text/plain": [
       "Validation: |          | 0/? [00:00<?, ?it/s]"
      ]
     },
     "metadata": {},
     "output_type": "display_data"
    },
    {
     "data": {
      "application/vnd.jupyter.widget-view+json": {
       "model_id": "",
       "version_major": 2,
       "version_minor": 0
      },
      "text/plain": [
       "Validation: |          | 0/? [00:00<?, ?it/s]"
      ]
     },
     "metadata": {},
     "output_type": "display_data"
    },
    {
     "data": {
      "application/vnd.jupyter.widget-view+json": {
       "model_id": "",
       "version_major": 2,
       "version_minor": 0
      },
      "text/plain": [
       "Validation: |          | 0/? [00:00<?, ?it/s]"
      ]
     },
     "metadata": {},
     "output_type": "display_data"
    },
    {
     "data": {
      "application/vnd.jupyter.widget-view+json": {
       "model_id": "",
       "version_major": 2,
       "version_minor": 0
      },
      "text/plain": [
       "Validation: |          | 0/? [00:00<?, ?it/s]"
      ]
     },
     "metadata": {},
     "output_type": "display_data"
    },
    {
     "data": {
      "application/vnd.jupyter.widget-view+json": {
       "model_id": "",
       "version_major": 2,
       "version_minor": 0
      },
      "text/plain": [
       "Validation: |          | 0/? [00:00<?, ?it/s]"
      ]
     },
     "metadata": {},
     "output_type": "display_data"
    },
    {
     "data": {
      "application/vnd.jupyter.widget-view+json": {
       "model_id": "",
       "version_major": 2,
       "version_minor": 0
      },
      "text/plain": [
       "Validation: |          | 0/? [00:00<?, ?it/s]"
      ]
     },
     "metadata": {},
     "output_type": "display_data"
    },
    {
     "data": {
      "application/vnd.jupyter.widget-view+json": {
       "model_id": "",
       "version_major": 2,
       "version_minor": 0
      },
      "text/plain": [
       "Validation: |          | 0/? [00:00<?, ?it/s]"
      ]
     },
     "metadata": {},
     "output_type": "display_data"
    },
    {
     "data": {
      "application/vnd.jupyter.widget-view+json": {
       "model_id": "",
       "version_major": 2,
       "version_minor": 0
      },
      "text/plain": [
       "Validation: |          | 0/? [00:00<?, ?it/s]"
      ]
     },
     "metadata": {},
     "output_type": "display_data"
    },
    {
     "data": {
      "application/vnd.jupyter.widget-view+json": {
       "model_id": "",
       "version_major": 2,
       "version_minor": 0
      },
      "text/plain": [
       "Validation: |          | 0/? [00:00<?, ?it/s]"
      ]
     },
     "metadata": {},
     "output_type": "display_data"
    },
    {
     "data": {
      "application/vnd.jupyter.widget-view+json": {
       "model_id": "",
       "version_major": 2,
       "version_minor": 0
      },
      "text/plain": [
       "Validation: |          | 0/? [00:00<?, ?it/s]"
      ]
     },
     "metadata": {},
     "output_type": "display_data"
    },
    {
     "data": {
      "application/vnd.jupyter.widget-view+json": {
       "model_id": "",
       "version_major": 2,
       "version_minor": 0
      },
      "text/plain": [
       "Validation: |          | 0/? [00:00<?, ?it/s]"
      ]
     },
     "metadata": {},
     "output_type": "display_data"
    },
    {
     "data": {
      "application/vnd.jupyter.widget-view+json": {
       "model_id": "",
       "version_major": 2,
       "version_minor": 0
      },
      "text/plain": [
       "Validation: |          | 0/? [00:00<?, ?it/s]"
      ]
     },
     "metadata": {},
     "output_type": "display_data"
    },
    {
     "data": {
      "application/vnd.jupyter.widget-view+json": {
       "model_id": "",
       "version_major": 2,
       "version_minor": 0
      },
      "text/plain": [
       "Validation: |          | 0/? [00:00<?, ?it/s]"
      ]
     },
     "metadata": {},
     "output_type": "display_data"
    },
    {
     "data": {
      "application/vnd.jupyter.widget-view+json": {
       "model_id": "",
       "version_major": 2,
       "version_minor": 0
      },
      "text/plain": [
       "Validation: |          | 0/? [00:00<?, ?it/s]"
      ]
     },
     "metadata": {},
     "output_type": "display_data"
    },
    {
     "data": {
      "application/vnd.jupyter.widget-view+json": {
       "model_id": "",
       "version_major": 2,
       "version_minor": 0
      },
      "text/plain": [
       "Validation: |          | 0/? [00:00<?, ?it/s]"
      ]
     },
     "metadata": {},
     "output_type": "display_data"
    },
    {
     "data": {
      "application/vnd.jupyter.widget-view+json": {
       "model_id": "",
       "version_major": 2,
       "version_minor": 0
      },
      "text/plain": [
       "Validation: |          | 0/? [00:00<?, ?it/s]"
      ]
     },
     "metadata": {},
     "output_type": "display_data"
    },
    {
     "data": {
      "application/vnd.jupyter.widget-view+json": {
       "model_id": "",
       "version_major": 2,
       "version_minor": 0
      },
      "text/plain": [
       "Validation: |          | 0/? [00:00<?, ?it/s]"
      ]
     },
     "metadata": {},
     "output_type": "display_data"
    },
    {
     "data": {
      "application/vnd.jupyter.widget-view+json": {
       "model_id": "",
       "version_major": 2,
       "version_minor": 0
      },
      "text/plain": [
       "Validation: |          | 0/? [00:00<?, ?it/s]"
      ]
     },
     "metadata": {},
     "output_type": "display_data"
    },
    {
     "data": {
      "application/vnd.jupyter.widget-view+json": {
       "model_id": "",
       "version_major": 2,
       "version_minor": 0
      },
      "text/plain": [
       "Validation: |          | 0/? [00:00<?, ?it/s]"
      ]
     },
     "metadata": {},
     "output_type": "display_data"
    },
    {
     "data": {
      "application/vnd.jupyter.widget-view+json": {
       "model_id": "",
       "version_major": 2,
       "version_minor": 0
      },
      "text/plain": [
       "Validation: |          | 0/? [00:00<?, ?it/s]"
      ]
     },
     "metadata": {},
     "output_type": "display_data"
    },
    {
     "data": {
      "application/vnd.jupyter.widget-view+json": {
       "model_id": "",
       "version_major": 2,
       "version_minor": 0
      },
      "text/plain": [
       "Validation: |          | 0/? [00:00<?, ?it/s]"
      ]
     },
     "metadata": {},
     "output_type": "display_data"
    },
    {
     "data": {
      "application/vnd.jupyter.widget-view+json": {
       "model_id": "",
       "version_major": 2,
       "version_minor": 0
      },
      "text/plain": [
       "Validation: |          | 0/? [00:00<?, ?it/s]"
      ]
     },
     "metadata": {},
     "output_type": "display_data"
    },
    {
     "data": {
      "application/vnd.jupyter.widget-view+json": {
       "model_id": "",
       "version_major": 2,
       "version_minor": 0
      },
      "text/plain": [
       "Validation: |          | 0/? [00:00<?, ?it/s]"
      ]
     },
     "metadata": {},
     "output_type": "display_data"
    },
    {
     "data": {
      "application/vnd.jupyter.widget-view+json": {
       "model_id": "",
       "version_major": 2,
       "version_minor": 0
      },
      "text/plain": [
       "Validation: |          | 0/? [00:00<?, ?it/s]"
      ]
     },
     "metadata": {},
     "output_type": "display_data"
    },
    {
     "data": {
      "application/vnd.jupyter.widget-view+json": {
       "model_id": "",
       "version_major": 2,
       "version_minor": 0
      },
      "text/plain": [
       "Validation: |          | 0/? [00:00<?, ?it/s]"
      ]
     },
     "metadata": {},
     "output_type": "display_data"
    },
    {
     "data": {
      "application/vnd.jupyter.widget-view+json": {
       "model_id": "",
       "version_major": 2,
       "version_minor": 0
      },
      "text/plain": [
       "Validation: |          | 0/? [00:00<?, ?it/s]"
      ]
     },
     "metadata": {},
     "output_type": "display_data"
    },
    {
     "data": {
      "application/vnd.jupyter.widget-view+json": {
       "model_id": "",
       "version_major": 2,
       "version_minor": 0
      },
      "text/plain": [
       "Validation: |          | 0/? [00:00<?, ?it/s]"
      ]
     },
     "metadata": {},
     "output_type": "display_data"
    },
    {
     "data": {
      "application/vnd.jupyter.widget-view+json": {
       "model_id": "",
       "version_major": 2,
       "version_minor": 0
      },
      "text/plain": [
       "Validation: |          | 0/? [00:00<?, ?it/s]"
      ]
     },
     "metadata": {},
     "output_type": "display_data"
    },
    {
     "data": {
      "application/vnd.jupyter.widget-view+json": {
       "model_id": "",
       "version_major": 2,
       "version_minor": 0
      },
      "text/plain": [
       "Validation: |          | 0/? [00:00<?, ?it/s]"
      ]
     },
     "metadata": {},
     "output_type": "display_data"
    },
    {
     "data": {
      "application/vnd.jupyter.widget-view+json": {
       "model_id": "",
       "version_major": 2,
       "version_minor": 0
      },
      "text/plain": [
       "Validation: |          | 0/? [00:00<?, ?it/s]"
      ]
     },
     "metadata": {},
     "output_type": "display_data"
    },
    {
     "data": {
      "application/vnd.jupyter.widget-view+json": {
       "model_id": "",
       "version_major": 2,
       "version_minor": 0
      },
      "text/plain": [
       "Validation: |          | 0/? [00:00<?, ?it/s]"
      ]
     },
     "metadata": {},
     "output_type": "display_data"
    },
    {
     "data": {
      "application/vnd.jupyter.widget-view+json": {
       "model_id": "",
       "version_major": 2,
       "version_minor": 0
      },
      "text/plain": [
       "Validation: |          | 0/? [00:00<?, ?it/s]"
      ]
     },
     "metadata": {},
     "output_type": "display_data"
    },
    {
     "data": {
      "application/vnd.jupyter.widget-view+json": {
       "model_id": "",
       "version_major": 2,
       "version_minor": 0
      },
      "text/plain": [
       "Validation: |          | 0/? [00:00<?, ?it/s]"
      ]
     },
     "metadata": {},
     "output_type": "display_data"
    },
    {
     "data": {
      "application/vnd.jupyter.widget-view+json": {
       "model_id": "",
       "version_major": 2,
       "version_minor": 0
      },
      "text/plain": [
       "Validation: |          | 0/? [00:00<?, ?it/s]"
      ]
     },
     "metadata": {},
     "output_type": "display_data"
    },
    {
     "data": {
      "application/vnd.jupyter.widget-view+json": {
       "model_id": "24a0685258a3478e98743a0474fd4534",
       "version_major": 2,
       "version_minor": 0
      },
      "text/plain": [
       "Validation: |          | 0/? [00:00<?, ?it/s]"
      ]
     },
     "metadata": {},
     "output_type": "display_data"
    },
    {
     "data": {
      "application/vnd.jupyter.widget-view+json": {
       "model_id": "db40c291843347a598393e8c59300877",
       "version_major": 2,
       "version_minor": 0
      },
      "text/plain": [
       "Validation: |          | 0/? [00:00<?, ?it/s]"
      ]
     },
     "metadata": {},
     "output_type": "display_data"
    },
    {
     "data": {
      "application/vnd.jupyter.widget-view+json": {
       "model_id": "574aaaa0f7d04b9aaab66bcd65d1ca73",
       "version_major": 2,
       "version_minor": 0
      },
      "text/plain": [
       "Validation: |          | 0/? [00:00<?, ?it/s]"
      ]
     },
     "metadata": {},
     "output_type": "display_data"
    },
    {
     "data": {
      "application/vnd.jupyter.widget-view+json": {
       "model_id": "2cc4907f3ca6453fbc61cb57279b43df",
       "version_major": 2,
       "version_minor": 0
      },
      "text/plain": [
       "Validation: |          | 0/? [00:00<?, ?it/s]"
      ]
     },
     "metadata": {},
     "output_type": "display_data"
    },
    {
     "data": {
      "application/vnd.jupyter.widget-view+json": {
       "model_id": "a984b6d6888746018cb6ddac5807b22b",
       "version_major": 2,
       "version_minor": 0
      },
      "text/plain": [
       "Validation: |          | 0/? [00:00<?, ?it/s]"
      ]
     },
     "metadata": {},
     "output_type": "display_data"
    },
    {
     "data": {
      "application/vnd.jupyter.widget-view+json": {
       "model_id": "b65ad1f4be584a2796eef16304423ad0",
       "version_major": 2,
       "version_minor": 0
      },
      "text/plain": [
       "Validation: |          | 0/? [00:00<?, ?it/s]"
      ]
     },
     "metadata": {},
     "output_type": "display_data"
    },
    {
     "data": {
      "application/vnd.jupyter.widget-view+json": {
       "model_id": "1a74992a15a04185a365e4d0ebe38653",
       "version_major": 2,
       "version_minor": 0
      },
      "text/plain": [
       "Validation: |          | 0/? [00:00<?, ?it/s]"
      ]
     },
     "metadata": {},
     "output_type": "display_data"
    },
    {
     "data": {
      "application/vnd.jupyter.widget-view+json": {
       "model_id": "32691d70f9fe49f4ae7c5042d790eec7",
       "version_major": 2,
       "version_minor": 0
      },
      "text/plain": [
       "Validation: |          | 0/? [00:00<?, ?it/s]"
      ]
     },
     "metadata": {},
     "output_type": "display_data"
    },
    {
     "data": {
      "application/vnd.jupyter.widget-view+json": {
       "model_id": "715a2cd71bcc4cf58af2dd31daf06508",
       "version_major": 2,
       "version_minor": 0
      },
      "text/plain": [
       "Validation: |          | 0/? [00:00<?, ?it/s]"
      ]
     },
     "metadata": {},
     "output_type": "display_data"
    },
    {
     "data": {
      "application/vnd.jupyter.widget-view+json": {
       "model_id": "b0326667704242289ecc2191b55159ae",
       "version_major": 2,
       "version_minor": 0
      },
      "text/plain": [
       "Validation: |          | 0/? [00:00<?, ?it/s]"
      ]
     },
     "metadata": {},
     "output_type": "display_data"
    },
    {
     "data": {
      "application/vnd.jupyter.widget-view+json": {
       "model_id": "44a6d252b3184b8e99581d8d6b8f1967",
       "version_major": 2,
       "version_minor": 0
      },
      "text/plain": [
       "Validation: |          | 0/? [00:00<?, ?it/s]"
      ]
     },
     "metadata": {},
     "output_type": "display_data"
    },
    {
     "data": {
      "application/vnd.jupyter.widget-view+json": {
       "model_id": "9cca64f3370c4efea68c1c27d4a1176a",
       "version_major": 2,
       "version_minor": 0
      },
      "text/plain": [
       "Validation: |          | 0/? [00:00<?, ?it/s]"
      ]
     },
     "metadata": {},
     "output_type": "display_data"
    },
    {
     "data": {
      "application/vnd.jupyter.widget-view+json": {
       "model_id": "7cd9c7f09780478abb9fb1dbcbc677e9",
       "version_major": 2,
       "version_minor": 0
      },
      "text/plain": [
       "Validation: |          | 0/? [00:00<?, ?it/s]"
      ]
     },
     "metadata": {},
     "output_type": "display_data"
    },
    {
     "data": {
      "application/vnd.jupyter.widget-view+json": {
       "model_id": "779f7692f09a4a55b8585740e78bfbc9",
       "version_major": 2,
       "version_minor": 0
      },
      "text/plain": [
       "Validation: |          | 0/? [00:00<?, ?it/s]"
      ]
     },
     "metadata": {},
     "output_type": "display_data"
    },
    {
     "data": {
      "application/vnd.jupyter.widget-view+json": {
       "model_id": "61a49c35c4614ffebe80158398c779fb",
       "version_major": 2,
       "version_minor": 0
      },
      "text/plain": [
       "Validation: |          | 0/? [00:00<?, ?it/s]"
      ]
     },
     "metadata": {},
     "output_type": "display_data"
    },
    {
     "data": {
      "application/vnd.jupyter.widget-view+json": {
       "model_id": "dd487778efc843f2862dccc9c2cf2ef6",
       "version_major": 2,
       "version_minor": 0
      },
      "text/plain": [
       "Validation: |          | 0/? [00:00<?, ?it/s]"
      ]
     },
     "metadata": {},
     "output_type": "display_data"
    },
    {
     "data": {
      "application/vnd.jupyter.widget-view+json": {
       "model_id": "25aeed5a45244ca59bc8fe06274e5d52",
       "version_major": 2,
       "version_minor": 0
      },
      "text/plain": [
       "Validation: |          | 0/? [00:00<?, ?it/s]"
      ]
     },
     "metadata": {},
     "output_type": "display_data"
    },
    {
     "data": {
      "application/vnd.jupyter.widget-view+json": {
       "model_id": "ab2a1da6b72d45c386dd7c8390e57e41",
       "version_major": 2,
       "version_minor": 0
      },
      "text/plain": [
       "Validation: |          | 0/? [00:00<?, ?it/s]"
      ]
     },
     "metadata": {},
     "output_type": "display_data"
    },
    {
     "data": {
      "application/vnd.jupyter.widget-view+json": {
       "model_id": "4c13666d67784dab991b13e20e32a1f7",
       "version_major": 2,
       "version_minor": 0
      },
      "text/plain": [
       "Validation: |          | 0/? [00:00<?, ?it/s]"
      ]
     },
     "metadata": {},
     "output_type": "display_data"
    },
    {
     "data": {
      "application/vnd.jupyter.widget-view+json": {
       "model_id": "acd5c801fd33436d8b1b2506eba3ec6c",
       "version_major": 2,
       "version_minor": 0
      },
      "text/plain": [
       "Validation: |          | 0/? [00:00<?, ?it/s]"
      ]
     },
     "metadata": {},
     "output_type": "display_data"
    },
    {
     "data": {
      "application/vnd.jupyter.widget-view+json": {
       "model_id": "d51f87c1898845038055538e96bc6702",
       "version_major": 2,
       "version_minor": 0
      },
      "text/plain": [
       "Validation: |          | 0/? [00:00<?, ?it/s]"
      ]
     },
     "metadata": {},
     "output_type": "display_data"
    },
    {
     "data": {
      "application/vnd.jupyter.widget-view+json": {
       "model_id": "7ec8dc9c03444e219eab70c81ac60f94",
       "version_major": 2,
       "version_minor": 0
      },
      "text/plain": [
       "Validation: |          | 0/? [00:00<?, ?it/s]"
      ]
     },
     "metadata": {},
     "output_type": "display_data"
    },
    {
     "data": {
      "application/vnd.jupyter.widget-view+json": {
       "model_id": "2b3216fa4c1f461baf3b4a59b22125bf",
       "version_major": 2,
       "version_minor": 0
      },
      "text/plain": [
       "Validation: |          | 0/? [00:00<?, ?it/s]"
      ]
     },
     "metadata": {},
     "output_type": "display_data"
    },
    {
     "data": {
      "application/vnd.jupyter.widget-view+json": {
       "model_id": "a18e3ec16cfc4317a827c8c61bc7dd0c",
       "version_major": 2,
       "version_minor": 0
      },
      "text/plain": [
       "Validation: |          | 0/? [00:00<?, ?it/s]"
      ]
     },
     "metadata": {},
     "output_type": "display_data"
    },
    {
     "data": {
      "application/vnd.jupyter.widget-view+json": {
       "model_id": "d7eb50b4f9f840069da5a52dc8f87793",
       "version_major": 2,
       "version_minor": 0
      },
      "text/plain": [
       "Validation: |          | 0/? [00:00<?, ?it/s]"
      ]
     },
     "metadata": {},
     "output_type": "display_data"
    },
    {
     "data": {
      "application/vnd.jupyter.widget-view+json": {
       "model_id": "79b5dc318e5543f48eecb9a2366d6568",
       "version_major": 2,
       "version_minor": 0
      },
      "text/plain": [
       "Validation: |          | 0/? [00:00<?, ?it/s]"
      ]
     },
     "metadata": {},
     "output_type": "display_data"
    },
    {
     "data": {
      "application/vnd.jupyter.widget-view+json": {
       "model_id": "2778098260b640e3b9a72e5fbb6b7bd3",
       "version_major": 2,
       "version_minor": 0
      },
      "text/plain": [
       "Validation: |          | 0/? [00:00<?, ?it/s]"
      ]
     },
     "metadata": {},
     "output_type": "display_data"
    },
    {
     "data": {
      "application/vnd.jupyter.widget-view+json": {
       "model_id": "77a56d3d16af4499994ad5c4cb548505",
       "version_major": 2,
       "version_minor": 0
      },
      "text/plain": [
       "Validation: |          | 0/? [00:00<?, ?it/s]"
      ]
     },
     "metadata": {},
     "output_type": "display_data"
    },
    {
     "data": {
      "application/vnd.jupyter.widget-view+json": {
       "model_id": "4775280cd04f44bc90615cdb1d1596d3",
       "version_major": 2,
       "version_minor": 0
      },
      "text/plain": [
       "Validation: |          | 0/? [00:00<?, ?it/s]"
      ]
     },
     "metadata": {},
     "output_type": "display_data"
    },
    {
     "data": {
      "application/vnd.jupyter.widget-view+json": {
       "model_id": "37a1f95405ad47eb959895818b0c1228",
       "version_major": 2,
       "version_minor": 0
      },
      "text/plain": [
       "Validation: |          | 0/? [00:00<?, ?it/s]"
      ]
     },
     "metadata": {},
     "output_type": "display_data"
    },
    {
     "data": {
      "application/vnd.jupyter.widget-view+json": {
       "model_id": "02ea70c788f4426287bd50d5a6df3a8c",
       "version_major": 2,
       "version_minor": 0
      },
      "text/plain": [
       "Validation: |          | 0/? [00:00<?, ?it/s]"
      ]
     },
     "metadata": {},
     "output_type": "display_data"
    },
    {
     "data": {
      "application/vnd.jupyter.widget-view+json": {
       "model_id": "ae7ecd0499014363b7aaed40b470d8b3",
       "version_major": 2,
       "version_minor": 0
      },
      "text/plain": [
       "Validation: |          | 0/? [00:00<?, ?it/s]"
      ]
     },
     "metadata": {},
     "output_type": "display_data"
    },
    {
     "data": {
      "application/vnd.jupyter.widget-view+json": {
       "model_id": "a547158861964f5fab6b7eff47b38350",
       "version_major": 2,
       "version_minor": 0
      },
      "text/plain": [
       "Validation: |          | 0/? [00:00<?, ?it/s]"
      ]
     },
     "metadata": {},
     "output_type": "display_data"
    },
    {
     "data": {
      "application/vnd.jupyter.widget-view+json": {
       "model_id": "906f806cdd6940209659bb02e0a1a63d",
       "version_major": 2,
       "version_minor": 0
      },
      "text/plain": [
       "Validation: |          | 0/? [00:00<?, ?it/s]"
      ]
     },
     "metadata": {},
     "output_type": "display_data"
    },
    {
     "data": {
      "application/vnd.jupyter.widget-view+json": {
       "model_id": "3322c61450954c03a0acff490f313d2a",
       "version_major": 2,
       "version_minor": 0
      },
      "text/plain": [
       "Validation: |          | 0/? [00:00<?, ?it/s]"
      ]
     },
     "metadata": {},
     "output_type": "display_data"
    },
    {
     "data": {
      "application/vnd.jupyter.widget-view+json": {
       "model_id": "c6f66bd718834bceaae43a3ec2673d88",
       "version_major": 2,
       "version_minor": 0
      },
      "text/plain": [
       "Validation: |          | 0/? [00:00<?, ?it/s]"
      ]
     },
     "metadata": {},
     "output_type": "display_data"
    },
    {
     "data": {
      "application/vnd.jupyter.widget-view+json": {
       "model_id": "48a79c596d98464f945b6bcbae7fdc25",
       "version_major": 2,
       "version_minor": 0
      },
      "text/plain": [
       "Validation: |          | 0/? [00:00<?, ?it/s]"
      ]
     },
     "metadata": {},
     "output_type": "display_data"
    },
    {
     "data": {
      "application/vnd.jupyter.widget-view+json": {
       "model_id": "5e1880d3ffb441c7af6ccf81604b8d1e",
       "version_major": 2,
       "version_minor": 0
      },
      "text/plain": [
       "Validation: |          | 0/? [00:00<?, ?it/s]"
      ]
     },
     "metadata": {},
     "output_type": "display_data"
    },
    {
     "data": {
      "application/vnd.jupyter.widget-view+json": {
       "model_id": "717414c9629348f8976a1a4ea5af4f48",
       "version_major": 2,
       "version_minor": 0
      },
      "text/plain": [
       "Validation: |          | 0/? [00:00<?, ?it/s]"
      ]
     },
     "metadata": {},
     "output_type": "display_data"
    },
    {
     "data": {
      "application/vnd.jupyter.widget-view+json": {
       "model_id": "edefd0b5bd984bdda05e23dbfef963e3",
       "version_major": 2,
       "version_minor": 0
      },
      "text/plain": [
       "Validation: |          | 0/? [00:00<?, ?it/s]"
      ]
     },
     "metadata": {},
     "output_type": "display_data"
    },
    {
     "data": {
      "application/vnd.jupyter.widget-view+json": {
       "model_id": "c0c203146a58480c9bf7fcdd27a1a73e",
       "version_major": 2,
       "version_minor": 0
      },
      "text/plain": [
       "Validation: |          | 0/? [00:00<?, ?it/s]"
      ]
     },
     "metadata": {},
     "output_type": "display_data"
    },
    {
     "data": {
      "application/vnd.jupyter.widget-view+json": {
       "model_id": "5f70e1d011e94998a8d34111355d2343",
       "version_major": 2,
       "version_minor": 0
      },
      "text/plain": [
       "Validation: |          | 0/? [00:00<?, ?it/s]"
      ]
     },
     "metadata": {},
     "output_type": "display_data"
    },
    {
     "data": {
      "application/vnd.jupyter.widget-view+json": {
       "model_id": "719c3fe0822b4489b475578846004a6b",
       "version_major": 2,
       "version_minor": 0
      },
      "text/plain": [
       "Validation: |          | 0/? [00:00<?, ?it/s]"
      ]
     },
     "metadata": {},
     "output_type": "display_data"
    },
    {
     "data": {
      "application/vnd.jupyter.widget-view+json": {
       "model_id": "e2b3902622bf44b48e528e552ab48353",
       "version_major": 2,
       "version_minor": 0
      },
      "text/plain": [
       "Validation: |          | 0/? [00:00<?, ?it/s]"
      ]
     },
     "metadata": {},
     "output_type": "display_data"
    },
    {
     "data": {
      "application/vnd.jupyter.widget-view+json": {
       "model_id": "b786edfbee1a4b45b14b84ae408bc387",
       "version_major": 2,
       "version_minor": 0
      },
      "text/plain": [
       "Validation: |          | 0/? [00:00<?, ?it/s]"
      ]
     },
     "metadata": {},
     "output_type": "display_data"
    },
    {
     "data": {
      "application/vnd.jupyter.widget-view+json": {
       "model_id": "fd4ca2e91ea84cd3b3e5f446c4d76673",
       "version_major": 2,
       "version_minor": 0
      },
      "text/plain": [
       "Validation: |          | 0/? [00:00<?, ?it/s]"
      ]
     },
     "metadata": {},
     "output_type": "display_data"
    },
    {
     "data": {
      "application/vnd.jupyter.widget-view+json": {
       "model_id": "f5c9512425834e05b54f6b4099dfee00",
       "version_major": 2,
       "version_minor": 0
      },
      "text/plain": [
       "Validation: |          | 0/? [00:00<?, ?it/s]"
      ]
     },
     "metadata": {},
     "output_type": "display_data"
    },
    {
     "data": {
      "application/vnd.jupyter.widget-view+json": {
       "model_id": "17493695f54745f8864a49986a150cec",
       "version_major": 2,
       "version_minor": 0
      },
      "text/plain": [
       "Validation: |          | 0/? [00:00<?, ?it/s]"
      ]
     },
     "metadata": {},
     "output_type": "display_data"
    },
    {
     "data": {
      "application/vnd.jupyter.widget-view+json": {
       "model_id": "23c7d7cd0ca345948ffa51220bbfc535",
       "version_major": 2,
       "version_minor": 0
      },
      "text/plain": [
       "Validation: |          | 0/? [00:00<?, ?it/s]"
      ]
     },
     "metadata": {},
     "output_type": "display_data"
    },
    {
     "data": {
      "application/vnd.jupyter.widget-view+json": {
       "model_id": "8d50ddfa42e74189a71c80242e38462c",
       "version_major": 2,
       "version_minor": 0
      },
      "text/plain": [
       "Validation: |          | 0/? [00:00<?, ?it/s]"
      ]
     },
     "metadata": {},
     "output_type": "display_data"
    },
    {
     "data": {
      "application/vnd.jupyter.widget-view+json": {
       "model_id": "79344844dc574d45a16833b2243c4439",
       "version_major": 2,
       "version_minor": 0
      },
      "text/plain": [
       "Validation: |          | 0/? [00:00<?, ?it/s]"
      ]
     },
     "metadata": {},
     "output_type": "display_data"
    },
    {
     "data": {
      "application/vnd.jupyter.widget-view+json": {
       "model_id": "c61d68e5263c43c7bee229d8e64130a5",
       "version_major": 2,
       "version_minor": 0
      },
      "text/plain": [
       "Validation: |          | 0/? [00:00<?, ?it/s]"
      ]
     },
     "metadata": {},
     "output_type": "display_data"
    },
    {
     "data": {
      "application/vnd.jupyter.widget-view+json": {
       "model_id": "bed774e6e16240e49b3997f9744e66a9",
       "version_major": 2,
       "version_minor": 0
      },
      "text/plain": [
       "Validation: |          | 0/? [00:00<?, ?it/s]"
      ]
     },
     "metadata": {},
     "output_type": "display_data"
    },
    {
     "data": {
      "application/vnd.jupyter.widget-view+json": {
       "model_id": "dcd55265d5d74fb7a104ddf2ebcfc1dc",
       "version_major": 2,
       "version_minor": 0
      },
      "text/plain": [
       "Validation: |          | 0/? [00:00<?, ?it/s]"
      ]
     },
     "metadata": {},
     "output_type": "display_data"
    },
    {
     "data": {
      "application/vnd.jupyter.widget-view+json": {
       "model_id": "0d650e485c054a6f9a404e4eef6a4242",
       "version_major": 2,
       "version_minor": 0
      },
      "text/plain": [
       "Validation: |          | 0/? [00:00<?, ?it/s]"
      ]
     },
     "metadata": {},
     "output_type": "display_data"
    },
    {
     "data": {
      "application/vnd.jupyter.widget-view+json": {
       "model_id": "e13933a179054b1b837a88bf93734547",
       "version_major": 2,
       "version_minor": 0
      },
      "text/plain": [
       "Validation: |          | 0/? [00:00<?, ?it/s]"
      ]
     },
     "metadata": {},
     "output_type": "display_data"
    },
    {
     "data": {
      "application/vnd.jupyter.widget-view+json": {
       "model_id": "6eaecd12b1d44e2fb8ac813e37dd4424",
       "version_major": 2,
       "version_minor": 0
      },
      "text/plain": [
       "Validation: |          | 0/? [00:00<?, ?it/s]"
      ]
     },
     "metadata": {},
     "output_type": "display_data"
    },
    {
     "data": {
      "application/vnd.jupyter.widget-view+json": {
       "model_id": "3dc0e47924e84979b3c040bb174fbfb7",
       "version_major": 2,
       "version_minor": 0
      },
      "text/plain": [
       "Validation: |          | 0/? [00:00<?, ?it/s]"
      ]
     },
     "metadata": {},
     "output_type": "display_data"
    },
    {
     "data": {
      "application/vnd.jupyter.widget-view+json": {
       "model_id": "6f6d248c93814ad99c6a2271b7be242e",
       "version_major": 2,
       "version_minor": 0
      },
      "text/plain": [
       "Validation: |          | 0/? [00:00<?, ?it/s]"
      ]
     },
     "metadata": {},
     "output_type": "display_data"
    },
    {
     "data": {
      "application/vnd.jupyter.widget-view+json": {
       "model_id": "bc4966cadd5c43639eb347a16ad336d1",
       "version_major": 2,
       "version_minor": 0
      },
      "text/plain": [
       "Validation: |          | 0/? [00:00<?, ?it/s]"
      ]
     },
     "metadata": {},
     "output_type": "display_data"
    },
    {
     "data": {
      "application/vnd.jupyter.widget-view+json": {
       "model_id": "7c80837271f24700b3e64d740f7c536b",
       "version_major": 2,
       "version_minor": 0
      },
      "text/plain": [
       "Validation: |          | 0/? [00:00<?, ?it/s]"
      ]
     },
     "metadata": {},
     "output_type": "display_data"
    },
    {
     "data": {
      "application/vnd.jupyter.widget-view+json": {
       "model_id": "dd1602de471b40a29f726a641063dc5d",
       "version_major": 2,
       "version_minor": 0
      },
      "text/plain": [
       "Validation: |          | 0/? [00:00<?, ?it/s]"
      ]
     },
     "metadata": {},
     "output_type": "display_data"
    },
    {
     "data": {
      "application/vnd.jupyter.widget-view+json": {
       "model_id": "818b73b4f5304e5bb5de89db9e219ca2",
       "version_major": 2,
       "version_minor": 0
      },
      "text/plain": [
       "Validation: |          | 0/? [00:00<?, ?it/s]"
      ]
     },
     "metadata": {},
     "output_type": "display_data"
    },
    {
     "data": {
      "application/vnd.jupyter.widget-view+json": {
       "model_id": "1cef88b2cdbb4f31809337b7f8acf64a",
       "version_major": 2,
       "version_minor": 0
      },
      "text/plain": [
       "Validation: |          | 0/? [00:00<?, ?it/s]"
      ]
     },
     "metadata": {},
     "output_type": "display_data"
    },
    {
     "data": {
      "application/vnd.jupyter.widget-view+json": {
       "model_id": "f7c49d69057d4db3b07b4d27823a7938",
       "version_major": 2,
       "version_minor": 0
      },
      "text/plain": [
       "Validation: |          | 0/? [00:00<?, ?it/s]"
      ]
     },
     "metadata": {},
     "output_type": "display_data"
    },
    {
     "data": {
      "application/vnd.jupyter.widget-view+json": {
       "model_id": "af4671bf2500405da8080ec6b738acf7",
       "version_major": 2,
       "version_minor": 0
      },
      "text/plain": [
       "Validation: |          | 0/? [00:00<?, ?it/s]"
      ]
     },
     "metadata": {},
     "output_type": "display_data"
    },
    {
     "data": {
      "application/vnd.jupyter.widget-view+json": {
       "model_id": "d2970b2034cd4217a241106534a5257c",
       "version_major": 2,
       "version_minor": 0
      },
      "text/plain": [
       "Validation: |          | 0/? [00:00<?, ?it/s]"
      ]
     },
     "metadata": {},
     "output_type": "display_data"
    },
    {
     "data": {
      "application/vnd.jupyter.widget-view+json": {
       "model_id": "923bea3cef0a4747a95c18ab96a65fdb",
       "version_major": 2,
       "version_minor": 0
      },
      "text/plain": [
       "Validation: |          | 0/? [00:00<?, ?it/s]"
      ]
     },
     "metadata": {},
     "output_type": "display_data"
    },
    {
     "data": {
      "application/vnd.jupyter.widget-view+json": {
       "model_id": "48a1fa70ee3a46258e26e5dda5688f42",
       "version_major": 2,
       "version_minor": 0
      },
      "text/plain": [
       "Validation: |          | 0/? [00:00<?, ?it/s]"
      ]
     },
     "metadata": {},
     "output_type": "display_data"
    },
    {
     "data": {
      "application/vnd.jupyter.widget-view+json": {
       "model_id": "4e69659556cd41b3b8782f5ae1b63139",
       "version_major": 2,
       "version_minor": 0
      },
      "text/plain": [
       "Validation: |          | 0/? [00:00<?, ?it/s]"
      ]
     },
     "metadata": {},
     "output_type": "display_data"
    },
    {
     "data": {
      "application/vnd.jupyter.widget-view+json": {
       "model_id": "b4fd4ad61bfc4556a711f068ff053f1a",
       "version_major": 2,
       "version_minor": 0
      },
      "text/plain": [
       "Validation: |          | 0/? [00:00<?, ?it/s]"
      ]
     },
     "metadata": {},
     "output_type": "display_data"
    },
    {
     "data": {
      "application/vnd.jupyter.widget-view+json": {
       "model_id": "da0862d4779b41589726d64457605558",
       "version_major": 2,
       "version_minor": 0
      },
      "text/plain": [
       "Validation: |          | 0/? [00:00<?, ?it/s]"
      ]
     },
     "metadata": {},
     "output_type": "display_data"
    },
    {
     "data": {
      "application/vnd.jupyter.widget-view+json": {
       "model_id": "e64d290fd27e4ecda9ba6fcd3fabf084",
       "version_major": 2,
       "version_minor": 0
      },
      "text/plain": [
       "Validation: |          | 0/? [00:00<?, ?it/s]"
      ]
     },
     "metadata": {},
     "output_type": "display_data"
    },
    {
     "data": {
      "application/vnd.jupyter.widget-view+json": {
       "model_id": "c12007eb48974aef87f270535f69f16b",
       "version_major": 2,
       "version_minor": 0
      },
      "text/plain": [
       "Validation: |          | 0/? [00:00<?, ?it/s]"
      ]
     },
     "metadata": {},
     "output_type": "display_data"
    },
    {
     "data": {
      "application/vnd.jupyter.widget-view+json": {
       "model_id": "138e617d9da54dafac0d53b67e10a491",
       "version_major": 2,
       "version_minor": 0
      },
      "text/plain": [
       "Validation: |          | 0/? [00:00<?, ?it/s]"
      ]
     },
     "metadata": {},
     "output_type": "display_data"
    },
    {
     "name": "stdout",
     "output_type": "stream",
     "text": [
      "[arsavae] metrics saved -> /kaggle/working/outputs/arsavae_metrics.csv\n",
      "[DM] Train 198 | Val 22 | Test 115\n"
     ]
    },
    {
     "data": {
      "application/vnd.jupyter.widget-view+json": {
       "model_id": "4017ab53ba6e46c992e8619c1ef02b75",
       "version_major": 2,
       "version_minor": 0
      },
      "text/plain": [
       "Testing: |          | 0/? [00:00<?, ?it/s]"
      ]
     },
     "metadata": {},
     "output_type": "display_data"
    },
    {
     "data": {
      "text/html": [
       "<pre style=\"white-space:pre;overflow-x:auto;line-height:normal;font-family:Menlo,'DejaVu Sans Mono',consolas,'Courier New',monospace\">┏━━━━━━━━━━━━━━━━━━━━━━━━━━━┳━━━━━━━━━━━━━━━━━━━━━━━━━━━┓\n",
       "┃<span style=\"font-weight: bold\">        Test metric        </span>┃<span style=\"font-weight: bold\">       DataLoader 0        </span>┃\n",
       "┡━━━━━━━━━━━━━━━━━━━━━━━━━━━╇━━━━━━━━━━━━━━━━━━━━━━━━━━━┩\n",
       "│<span style=\"color: #008080; text-decoration-color: #008080\">         test/kl_s         </span>│<span style=\"color: #800080; text-decoration-color: #800080\">  1.9561726730898954e-05   </span>│\n",
       "│<span style=\"color: #008080; text-decoration-color: #008080\">         test/kl_z         </span>│<span style=\"color: #800080; text-decoration-color: #800080\">   0.009313332848250866    </span>│\n",
       "│<span style=\"color: #008080; text-decoration-color: #008080\">         test/loss         </span>│<span style=\"color: #800080; text-decoration-color: #800080\">    0.5083912014961243     </span>│\n",
       "│<span style=\"color: #008080; text-decoration-color: #008080\">        test/recon         </span>│<span style=\"color: #800080; text-decoration-color: #800080\">    0.48974496126174927    </span>│\n",
       "└───────────────────────────┴───────────────────────────┘\n",
       "</pre>\n"
      ],
      "text/plain": [
       "┏━━━━━━━━━━━━━━━━━━━━━━━━━━━┳━━━━━━━━━━━━━━━━━━━━━━━━━━━┓\n",
       "┃\u001b[1m \u001b[0m\u001b[1m       Test metric       \u001b[0m\u001b[1m \u001b[0m┃\u001b[1m \u001b[0m\u001b[1m      DataLoader 0       \u001b[0m\u001b[1m \u001b[0m┃\n",
       "┡━━━━━━━━━━━━━━━━━━━━━━━━━━━╇━━━━━━━━━━━━━━━━━━━━━━━━━━━┩\n",
       "│\u001b[36m \u001b[0m\u001b[36m        test/kl_s        \u001b[0m\u001b[36m \u001b[0m│\u001b[35m \u001b[0m\u001b[35m 1.9561726730898954e-05  \u001b[0m\u001b[35m \u001b[0m│\n",
       "│\u001b[36m \u001b[0m\u001b[36m        test/kl_z        \u001b[0m\u001b[36m \u001b[0m│\u001b[35m \u001b[0m\u001b[35m  0.009313332848250866   \u001b[0m\u001b[35m \u001b[0m│\n",
       "│\u001b[36m \u001b[0m\u001b[36m        test/loss        \u001b[0m\u001b[36m \u001b[0m│\u001b[35m \u001b[0m\u001b[35m   0.5083912014961243    \u001b[0m\u001b[35m \u001b[0m│\n",
       "│\u001b[36m \u001b[0m\u001b[36m       test/recon        \u001b[0m\u001b[36m \u001b[0m│\u001b[35m \u001b[0m\u001b[35m   0.48974496126174927   \u001b[0m\u001b[35m \u001b[0m│\n",
       "└───────────────────────────┴───────────────────────────┘\n"
      ]
     },
     "metadata": {},
     "output_type": "display_data"
    },
    {
     "name": "stdout",
     "output_type": "stream",
     "text": [
      "[arsavae] best checkpoint -> /kaggle/working/outputs/arsavae/epoch=115.ckpt\n",
      "saved /kaggle/working/outputs/arsavae_val_recons.png\n",
      "saved /kaggle/working/outputs/arsavae_samples.png\n",
      "saved /kaggle/working/outputs/arsavae_aleatoric.png\n",
      "saved /kaggle/working/outputs/arsavae_epistemic.png\n"
     ]
    }
   ],
   "source": [
    "ar_savae = AR_SAVAE(\n",
    "    K=4, z_dim=16, s_dim=32,\n",
    "    beta_s=1.0, beta_z=2.0,\n",
    "    lr=1e-4, dropout_p=0.10,\n",
    "    tau_sample=0.5, kl_warmup_frac=0.4\n",
    ")\n",
    "ar_ckpt = train_and_save(ar_savae, \"arsavae\", dm, max_epochs=120, patience=15)"
   ]
  },
  {
   "cell_type": "markdown",
   "metadata": {},
   "source": [
    "## Baseline VAE Training"
   ]
  },
  {
   "cell_type": "code",
   "execution_count": 25,
   "metadata": {
    "execution": {
     "iopub.execute_input": "2025-09-18T05:57:09.010414Z",
     "iopub.status.busy": "2025-09-18T05:57:09.009820Z",
     "iopub.status.idle": "2025-09-18T06:01:12.656800Z",
     "shell.execute_reply": "2025-09-18T06:01:12.656010Z",
     "shell.execute_reply.started": "2025-09-18T05:57:09.010385Z"
    },
    "trusted": true
   },
   "outputs": [
    {
     "name": "stdout",
     "output_type": "stream",
     "text": [
      "[DM] Train 198 | Val 22 | Test 115\n"
     ]
    },
    {
     "name": "stderr",
     "output_type": "stream",
     "text": [
      "/usr/local/lib/python3.11/dist-packages/pytorch_lightning/callbacks/model_checkpoint.py:658: Checkpoint directory /kaggle/working/outputs/vae exists and is not empty.\n"
     ]
    },
    {
     "data": {
      "application/vnd.jupyter.widget-view+json": {
       "model_id": "4b8d53b20a4b46db8ae3b936091e3be5",
       "version_major": 2,
       "version_minor": 0
      },
      "text/plain": [
       "Training: |          | 0/? [00:00<?, ?it/s]"
      ]
     },
     "metadata": {},
     "output_type": "display_data"
    },
    {
     "name": "stderr",
     "output_type": "stream",
     "text": [
      "/usr/local/lib/python3.11/dist-packages/pytorch_lightning/utilities/data.py:79: Trying to infer the `batch_size` from an ambiguous collection. The batch size we found is 32. To avoid any miscalculations, use `self.log(..., batch_size=batch_size)`.\n",
      "/usr/local/lib/python3.11/dist-packages/pytorch_lightning/utilities/data.py:79: Trying to infer the `batch_size` from an ambiguous collection. The batch size we found is 6. To avoid any miscalculations, use `self.log(..., batch_size=batch_size)`.\n"
     ]
    },
    {
     "data": {
      "application/vnd.jupyter.widget-view+json": {
       "model_id": "",
       "version_major": 2,
       "version_minor": 0
      },
      "text/plain": [
       "Validation: |          | 0/? [00:00<?, ?it/s]"
      ]
     },
     "metadata": {},
     "output_type": "display_data"
    },
    {
     "name": "stderr",
     "output_type": "stream",
     "text": [
      "/usr/local/lib/python3.11/dist-packages/pytorch_lightning/utilities/data.py:79: Trying to infer the `batch_size` from an ambiguous collection. The batch size we found is 22. To avoid any miscalculations, use `self.log(..., batch_size=batch_size)`.\n"
     ]
    },
    {
     "data": {
      "application/vnd.jupyter.widget-view+json": {
       "model_id": "",
       "version_major": 2,
       "version_minor": 0
      },
      "text/plain": [
       "Validation: |          | 0/? [00:00<?, ?it/s]"
      ]
     },
     "metadata": {},
     "output_type": "display_data"
    },
    {
     "data": {
      "application/vnd.jupyter.widget-view+json": {
       "model_id": "",
       "version_major": 2,
       "version_minor": 0
      },
      "text/plain": [
       "Validation: |          | 0/? [00:00<?, ?it/s]"
      ]
     },
     "metadata": {},
     "output_type": "display_data"
    },
    {
     "data": {
      "application/vnd.jupyter.widget-view+json": {
       "model_id": "",
       "version_major": 2,
       "version_minor": 0
      },
      "text/plain": [
       "Validation: |          | 0/? [00:00<?, ?it/s]"
      ]
     },
     "metadata": {},
     "output_type": "display_data"
    },
    {
     "data": {
      "application/vnd.jupyter.widget-view+json": {
       "model_id": "",
       "version_major": 2,
       "version_minor": 0
      },
      "text/plain": [
       "Validation: |          | 0/? [00:00<?, ?it/s]"
      ]
     },
     "metadata": {},
     "output_type": "display_data"
    },
    {
     "data": {
      "application/vnd.jupyter.widget-view+json": {
       "model_id": "",
       "version_major": 2,
       "version_minor": 0
      },
      "text/plain": [
       "Validation: |          | 0/? [00:00<?, ?it/s]"
      ]
     },
     "metadata": {},
     "output_type": "display_data"
    },
    {
     "data": {
      "application/vnd.jupyter.widget-view+json": {
       "model_id": "",
       "version_major": 2,
       "version_minor": 0
      },
      "text/plain": [
       "Validation: |          | 0/? [00:00<?, ?it/s]"
      ]
     },
     "metadata": {},
     "output_type": "display_data"
    },
    {
     "data": {
      "application/vnd.jupyter.widget-view+json": {
       "model_id": "",
       "version_major": 2,
       "version_minor": 0
      },
      "text/plain": [
       "Validation: |          | 0/? [00:00<?, ?it/s]"
      ]
     },
     "metadata": {},
     "output_type": "display_data"
    },
    {
     "data": {
      "application/vnd.jupyter.widget-view+json": {
       "model_id": "",
       "version_major": 2,
       "version_minor": 0
      },
      "text/plain": [
       "Validation: |          | 0/? [00:00<?, ?it/s]"
      ]
     },
     "metadata": {},
     "output_type": "display_data"
    },
    {
     "data": {
      "application/vnd.jupyter.widget-view+json": {
       "model_id": "",
       "version_major": 2,
       "version_minor": 0
      },
      "text/plain": [
       "Validation: |          | 0/? [00:00<?, ?it/s]"
      ]
     },
     "metadata": {},
     "output_type": "display_data"
    },
    {
     "data": {
      "application/vnd.jupyter.widget-view+json": {
       "model_id": "",
       "version_major": 2,
       "version_minor": 0
      },
      "text/plain": [
       "Validation: |          | 0/? [00:00<?, ?it/s]"
      ]
     },
     "metadata": {},
     "output_type": "display_data"
    },
    {
     "data": {
      "application/vnd.jupyter.widget-view+json": {
       "model_id": "",
       "version_major": 2,
       "version_minor": 0
      },
      "text/plain": [
       "Validation: |          | 0/? [00:00<?, ?it/s]"
      ]
     },
     "metadata": {},
     "output_type": "display_data"
    },
    {
     "data": {
      "application/vnd.jupyter.widget-view+json": {
       "model_id": "",
       "version_major": 2,
       "version_minor": 0
      },
      "text/plain": [
       "Validation: |          | 0/? [00:00<?, ?it/s]"
      ]
     },
     "metadata": {},
     "output_type": "display_data"
    },
    {
     "data": {
      "application/vnd.jupyter.widget-view+json": {
       "model_id": "",
       "version_major": 2,
       "version_minor": 0
      },
      "text/plain": [
       "Validation: |          | 0/? [00:00<?, ?it/s]"
      ]
     },
     "metadata": {},
     "output_type": "display_data"
    },
    {
     "data": {
      "application/vnd.jupyter.widget-view+json": {
       "model_id": "",
       "version_major": 2,
       "version_minor": 0
      },
      "text/plain": [
       "Validation: |          | 0/? [00:00<?, ?it/s]"
      ]
     },
     "metadata": {},
     "output_type": "display_data"
    },
    {
     "data": {
      "application/vnd.jupyter.widget-view+json": {
       "model_id": "",
       "version_major": 2,
       "version_minor": 0
      },
      "text/plain": [
       "Validation: |          | 0/? [00:00<?, ?it/s]"
      ]
     },
     "metadata": {},
     "output_type": "display_data"
    },
    {
     "data": {
      "application/vnd.jupyter.widget-view+json": {
       "model_id": "",
       "version_major": 2,
       "version_minor": 0
      },
      "text/plain": [
       "Validation: |          | 0/? [00:00<?, ?it/s]"
      ]
     },
     "metadata": {},
     "output_type": "display_data"
    },
    {
     "data": {
      "application/vnd.jupyter.widget-view+json": {
       "model_id": "",
       "version_major": 2,
       "version_minor": 0
      },
      "text/plain": [
       "Validation: |          | 0/? [00:00<?, ?it/s]"
      ]
     },
     "metadata": {},
     "output_type": "display_data"
    },
    {
     "data": {
      "application/vnd.jupyter.widget-view+json": {
       "model_id": "",
       "version_major": 2,
       "version_minor": 0
      },
      "text/plain": [
       "Validation: |          | 0/? [00:00<?, ?it/s]"
      ]
     },
     "metadata": {},
     "output_type": "display_data"
    },
    {
     "data": {
      "application/vnd.jupyter.widget-view+json": {
       "model_id": "",
       "version_major": 2,
       "version_minor": 0
      },
      "text/plain": [
       "Validation: |          | 0/? [00:00<?, ?it/s]"
      ]
     },
     "metadata": {},
     "output_type": "display_data"
    },
    {
     "data": {
      "application/vnd.jupyter.widget-view+json": {
       "model_id": "",
       "version_major": 2,
       "version_minor": 0
      },
      "text/plain": [
       "Validation: |          | 0/? [00:00<?, ?it/s]"
      ]
     },
     "metadata": {},
     "output_type": "display_data"
    },
    {
     "data": {
      "application/vnd.jupyter.widget-view+json": {
       "model_id": "",
       "version_major": 2,
       "version_minor": 0
      },
      "text/plain": [
       "Validation: |          | 0/? [00:00<?, ?it/s]"
      ]
     },
     "metadata": {},
     "output_type": "display_data"
    },
    {
     "data": {
      "application/vnd.jupyter.widget-view+json": {
       "model_id": "",
       "version_major": 2,
       "version_minor": 0
      },
      "text/plain": [
       "Validation: |          | 0/? [00:00<?, ?it/s]"
      ]
     },
     "metadata": {},
     "output_type": "display_data"
    },
    {
     "data": {
      "application/vnd.jupyter.widget-view+json": {
       "model_id": "",
       "version_major": 2,
       "version_minor": 0
      },
      "text/plain": [
       "Validation: |          | 0/? [00:00<?, ?it/s]"
      ]
     },
     "metadata": {},
     "output_type": "display_data"
    },
    {
     "data": {
      "application/vnd.jupyter.widget-view+json": {
       "model_id": "",
       "version_major": 2,
       "version_minor": 0
      },
      "text/plain": [
       "Validation: |          | 0/? [00:00<?, ?it/s]"
      ]
     },
     "metadata": {},
     "output_type": "display_data"
    },
    {
     "data": {
      "application/vnd.jupyter.widget-view+json": {
       "model_id": "",
       "version_major": 2,
       "version_minor": 0
      },
      "text/plain": [
       "Validation: |          | 0/? [00:00<?, ?it/s]"
      ]
     },
     "metadata": {},
     "output_type": "display_data"
    },
    {
     "data": {
      "application/vnd.jupyter.widget-view+json": {
       "model_id": "",
       "version_major": 2,
       "version_minor": 0
      },
      "text/plain": [
       "Validation: |          | 0/? [00:00<?, ?it/s]"
      ]
     },
     "metadata": {},
     "output_type": "display_data"
    },
    {
     "data": {
      "application/vnd.jupyter.widget-view+json": {
       "model_id": "",
       "version_major": 2,
       "version_minor": 0
      },
      "text/plain": [
       "Validation: |          | 0/? [00:00<?, ?it/s]"
      ]
     },
     "metadata": {},
     "output_type": "display_data"
    },
    {
     "data": {
      "application/vnd.jupyter.widget-view+json": {
       "model_id": "",
       "version_major": 2,
       "version_minor": 0
      },
      "text/plain": [
       "Validation: |          | 0/? [00:00<?, ?it/s]"
      ]
     },
     "metadata": {},
     "output_type": "display_data"
    },
    {
     "data": {
      "application/vnd.jupyter.widget-view+json": {
       "model_id": "",
       "version_major": 2,
       "version_minor": 0
      },
      "text/plain": [
       "Validation: |          | 0/? [00:00<?, ?it/s]"
      ]
     },
     "metadata": {},
     "output_type": "display_data"
    },
    {
     "data": {
      "application/vnd.jupyter.widget-view+json": {
       "model_id": "",
       "version_major": 2,
       "version_minor": 0
      },
      "text/plain": [
       "Validation: |          | 0/? [00:00<?, ?it/s]"
      ]
     },
     "metadata": {},
     "output_type": "display_data"
    },
    {
     "data": {
      "application/vnd.jupyter.widget-view+json": {
       "model_id": "",
       "version_major": 2,
       "version_minor": 0
      },
      "text/plain": [
       "Validation: |          | 0/? [00:00<?, ?it/s]"
      ]
     },
     "metadata": {},
     "output_type": "display_data"
    },
    {
     "data": {
      "application/vnd.jupyter.widget-view+json": {
       "model_id": "",
       "version_major": 2,
       "version_minor": 0
      },
      "text/plain": [
       "Validation: |          | 0/? [00:00<?, ?it/s]"
      ]
     },
     "metadata": {},
     "output_type": "display_data"
    },
    {
     "data": {
      "application/vnd.jupyter.widget-view+json": {
       "model_id": "",
       "version_major": 2,
       "version_minor": 0
      },
      "text/plain": [
       "Validation: |          | 0/? [00:00<?, ?it/s]"
      ]
     },
     "metadata": {},
     "output_type": "display_data"
    },
    {
     "data": {
      "application/vnd.jupyter.widget-view+json": {
       "model_id": "",
       "version_major": 2,
       "version_minor": 0
      },
      "text/plain": [
       "Validation: |          | 0/? [00:00<?, ?it/s]"
      ]
     },
     "metadata": {},
     "output_type": "display_data"
    },
    {
     "data": {
      "application/vnd.jupyter.widget-view+json": {
       "model_id": "",
       "version_major": 2,
       "version_minor": 0
      },
      "text/plain": [
       "Validation: |          | 0/? [00:00<?, ?it/s]"
      ]
     },
     "metadata": {},
     "output_type": "display_data"
    },
    {
     "data": {
      "application/vnd.jupyter.widget-view+json": {
       "model_id": "",
       "version_major": 2,
       "version_minor": 0
      },
      "text/plain": [
       "Validation: |          | 0/? [00:00<?, ?it/s]"
      ]
     },
     "metadata": {},
     "output_type": "display_data"
    },
    {
     "data": {
      "application/vnd.jupyter.widget-view+json": {
       "model_id": "",
       "version_major": 2,
       "version_minor": 0
      },
      "text/plain": [
       "Validation: |          | 0/? [00:00<?, ?it/s]"
      ]
     },
     "metadata": {},
     "output_type": "display_data"
    },
    {
     "data": {
      "application/vnd.jupyter.widget-view+json": {
       "model_id": "",
       "version_major": 2,
       "version_minor": 0
      },
      "text/plain": [
       "Validation: |          | 0/? [00:00<?, ?it/s]"
      ]
     },
     "metadata": {},
     "output_type": "display_data"
    },
    {
     "data": {
      "application/vnd.jupyter.widget-view+json": {
       "model_id": "",
       "version_major": 2,
       "version_minor": 0
      },
      "text/plain": [
       "Validation: |          | 0/? [00:00<?, ?it/s]"
      ]
     },
     "metadata": {},
     "output_type": "display_data"
    },
    {
     "data": {
      "application/vnd.jupyter.widget-view+json": {
       "model_id": "",
       "version_major": 2,
       "version_minor": 0
      },
      "text/plain": [
       "Validation: |          | 0/? [00:00<?, ?it/s]"
      ]
     },
     "metadata": {},
     "output_type": "display_data"
    },
    {
     "data": {
      "application/vnd.jupyter.widget-view+json": {
       "model_id": "",
       "version_major": 2,
       "version_minor": 0
      },
      "text/plain": [
       "Validation: |          | 0/? [00:00<?, ?it/s]"
      ]
     },
     "metadata": {},
     "output_type": "display_data"
    },
    {
     "data": {
      "application/vnd.jupyter.widget-view+json": {
       "model_id": "",
       "version_major": 2,
       "version_minor": 0
      },
      "text/plain": [
       "Validation: |          | 0/? [00:00<?, ?it/s]"
      ]
     },
     "metadata": {},
     "output_type": "display_data"
    },
    {
     "data": {
      "application/vnd.jupyter.widget-view+json": {
       "model_id": "",
       "version_major": 2,
       "version_minor": 0
      },
      "text/plain": [
       "Validation: |          | 0/? [00:00<?, ?it/s]"
      ]
     },
     "metadata": {},
     "output_type": "display_data"
    },
    {
     "data": {
      "application/vnd.jupyter.widget-view+json": {
       "model_id": "",
       "version_major": 2,
       "version_minor": 0
      },
      "text/plain": [
       "Validation: |          | 0/? [00:00<?, ?it/s]"
      ]
     },
     "metadata": {},
     "output_type": "display_data"
    },
    {
     "data": {
      "application/vnd.jupyter.widget-view+json": {
       "model_id": "9f628a8d9f2f4cf5ac39bb8e5e6d84a1",
       "version_major": 2,
       "version_minor": 0
      },
      "text/plain": [
       "Validation: |          | 0/? [00:00<?, ?it/s]"
      ]
     },
     "metadata": {},
     "output_type": "display_data"
    },
    {
     "data": {
      "application/vnd.jupyter.widget-view+json": {
       "model_id": "2d4bfded6fc740bf86128e67f130cebd",
       "version_major": 2,
       "version_minor": 0
      },
      "text/plain": [
       "Validation: |          | 0/? [00:00<?, ?it/s]"
      ]
     },
     "metadata": {},
     "output_type": "display_data"
    },
    {
     "data": {
      "application/vnd.jupyter.widget-view+json": {
       "model_id": "aa02a8605a2846c98734196bdefa02d3",
       "version_major": 2,
       "version_minor": 0
      },
      "text/plain": [
       "Validation: |          | 0/? [00:00<?, ?it/s]"
      ]
     },
     "metadata": {},
     "output_type": "display_data"
    },
    {
     "data": {
      "application/vnd.jupyter.widget-view+json": {
       "model_id": "843515050f764ae697134ddd8498cce9",
       "version_major": 2,
       "version_minor": 0
      },
      "text/plain": [
       "Validation: |          | 0/? [00:00<?, ?it/s]"
      ]
     },
     "metadata": {},
     "output_type": "display_data"
    },
    {
     "data": {
      "application/vnd.jupyter.widget-view+json": {
       "model_id": "fa5f67bd373240de9e6f5943dd33fcd7",
       "version_major": 2,
       "version_minor": 0
      },
      "text/plain": [
       "Validation: |          | 0/? [00:00<?, ?it/s]"
      ]
     },
     "metadata": {},
     "output_type": "display_data"
    },
    {
     "data": {
      "application/vnd.jupyter.widget-view+json": {
       "model_id": "98266a18ef7949449543fd4829236e85",
       "version_major": 2,
       "version_minor": 0
      },
      "text/plain": [
       "Validation: |          | 0/? [00:00<?, ?it/s]"
      ]
     },
     "metadata": {},
     "output_type": "display_data"
    },
    {
     "data": {
      "application/vnd.jupyter.widget-view+json": {
       "model_id": "b165c4452bd24b488bac1c8c9de3efaf",
       "version_major": 2,
       "version_minor": 0
      },
      "text/plain": [
       "Validation: |          | 0/? [00:00<?, ?it/s]"
      ]
     },
     "metadata": {},
     "output_type": "display_data"
    },
    {
     "data": {
      "application/vnd.jupyter.widget-view+json": {
       "model_id": "37e304281f214f87b59d1c52e87de1b9",
       "version_major": 2,
       "version_minor": 0
      },
      "text/plain": [
       "Validation: |          | 0/? [00:00<?, ?it/s]"
      ]
     },
     "metadata": {},
     "output_type": "display_data"
    },
    {
     "data": {
      "application/vnd.jupyter.widget-view+json": {
       "model_id": "006bd2c0f25e48059756cc725a8139bc",
       "version_major": 2,
       "version_minor": 0
      },
      "text/plain": [
       "Validation: |          | 0/? [00:00<?, ?it/s]"
      ]
     },
     "metadata": {},
     "output_type": "display_data"
    },
    {
     "data": {
      "application/vnd.jupyter.widget-view+json": {
       "model_id": "1640a004b80f4890afc10cfa30ece3ca",
       "version_major": 2,
       "version_minor": 0
      },
      "text/plain": [
       "Validation: |          | 0/? [00:00<?, ?it/s]"
      ]
     },
     "metadata": {},
     "output_type": "display_data"
    },
    {
     "data": {
      "application/vnd.jupyter.widget-view+json": {
       "model_id": "f6e077bd4d474ec285b204b14e0c1785",
       "version_major": 2,
       "version_minor": 0
      },
      "text/plain": [
       "Validation: |          | 0/? [00:00<?, ?it/s]"
      ]
     },
     "metadata": {},
     "output_type": "display_data"
    },
    {
     "data": {
      "application/vnd.jupyter.widget-view+json": {
       "model_id": "bd33114edfb74c72befc6511b8c1cba3",
       "version_major": 2,
       "version_minor": 0
      },
      "text/plain": [
       "Validation: |          | 0/? [00:00<?, ?it/s]"
      ]
     },
     "metadata": {},
     "output_type": "display_data"
    },
    {
     "data": {
      "application/vnd.jupyter.widget-view+json": {
       "model_id": "1b362a4b94914ce0a695626e2581ed3a",
       "version_major": 2,
       "version_minor": 0
      },
      "text/plain": [
       "Validation: |          | 0/? [00:00<?, ?it/s]"
      ]
     },
     "metadata": {},
     "output_type": "display_data"
    },
    {
     "data": {
      "application/vnd.jupyter.widget-view+json": {
       "model_id": "c14fac99c021486797da0ce58fa38391",
       "version_major": 2,
       "version_minor": 0
      },
      "text/plain": [
       "Validation: |          | 0/? [00:00<?, ?it/s]"
      ]
     },
     "metadata": {},
     "output_type": "display_data"
    },
    {
     "data": {
      "application/vnd.jupyter.widget-view+json": {
       "model_id": "1425f99f3b554e6784cf65d6cf4a0ef8",
       "version_major": 2,
       "version_minor": 0
      },
      "text/plain": [
       "Validation: |          | 0/? [00:00<?, ?it/s]"
      ]
     },
     "metadata": {},
     "output_type": "display_data"
    },
    {
     "data": {
      "application/vnd.jupyter.widget-view+json": {
       "model_id": "36bd214494564da1b514e4540b15953c",
       "version_major": 2,
       "version_minor": 0
      },
      "text/plain": [
       "Validation: |          | 0/? [00:00<?, ?it/s]"
      ]
     },
     "metadata": {},
     "output_type": "display_data"
    },
    {
     "data": {
      "application/vnd.jupyter.widget-view+json": {
       "model_id": "71e2bf8327e4485988054ca3fcae83ac",
       "version_major": 2,
       "version_minor": 0
      },
      "text/plain": [
       "Validation: |          | 0/? [00:00<?, ?it/s]"
      ]
     },
     "metadata": {},
     "output_type": "display_data"
    },
    {
     "data": {
      "application/vnd.jupyter.widget-view+json": {
       "model_id": "1f643d6f0c18472392966023ca7a88f6",
       "version_major": 2,
       "version_minor": 0
      },
      "text/plain": [
       "Validation: |          | 0/? [00:00<?, ?it/s]"
      ]
     },
     "metadata": {},
     "output_type": "display_data"
    },
    {
     "data": {
      "application/vnd.jupyter.widget-view+json": {
       "model_id": "9040a9f5a823494585cc4fedeea0dbb3",
       "version_major": 2,
       "version_minor": 0
      },
      "text/plain": [
       "Validation: |          | 0/? [00:00<?, ?it/s]"
      ]
     },
     "metadata": {},
     "output_type": "display_data"
    },
    {
     "data": {
      "application/vnd.jupyter.widget-view+json": {
       "model_id": "61eb757295024c1890af3a00af687776",
       "version_major": 2,
       "version_minor": 0
      },
      "text/plain": [
       "Validation: |          | 0/? [00:00<?, ?it/s]"
      ]
     },
     "metadata": {},
     "output_type": "display_data"
    },
    {
     "data": {
      "application/vnd.jupyter.widget-view+json": {
       "model_id": "434eb168aaca4bb982ceca202c9086a8",
       "version_major": 2,
       "version_minor": 0
      },
      "text/plain": [
       "Validation: |          | 0/? [00:00<?, ?it/s]"
      ]
     },
     "metadata": {},
     "output_type": "display_data"
    },
    {
     "data": {
      "application/vnd.jupyter.widget-view+json": {
       "model_id": "26600c5c27004d858609f80c2f0e268e",
       "version_major": 2,
       "version_minor": 0
      },
      "text/plain": [
       "Validation: |          | 0/? [00:00<?, ?it/s]"
      ]
     },
     "metadata": {},
     "output_type": "display_data"
    },
    {
     "data": {
      "application/vnd.jupyter.widget-view+json": {
       "model_id": "b0e6eff1e02346f2bd37d57981c5da35",
       "version_major": 2,
       "version_minor": 0
      },
      "text/plain": [
       "Validation: |          | 0/? [00:00<?, ?it/s]"
      ]
     },
     "metadata": {},
     "output_type": "display_data"
    },
    {
     "data": {
      "application/vnd.jupyter.widget-view+json": {
       "model_id": "d6d07b783929460a82e956fa6d869c09",
       "version_major": 2,
       "version_minor": 0
      },
      "text/plain": [
       "Validation: |          | 0/? [00:00<?, ?it/s]"
      ]
     },
     "metadata": {},
     "output_type": "display_data"
    },
    {
     "data": {
      "application/vnd.jupyter.widget-view+json": {
       "model_id": "e9f3ee5a0c3c4d119a351792b58568b7",
       "version_major": 2,
       "version_minor": 0
      },
      "text/plain": [
       "Validation: |          | 0/? [00:00<?, ?it/s]"
      ]
     },
     "metadata": {},
     "output_type": "display_data"
    },
    {
     "data": {
      "application/vnd.jupyter.widget-view+json": {
       "model_id": "9a8fe9d85243444a94c75b29db939caa",
       "version_major": 2,
       "version_minor": 0
      },
      "text/plain": [
       "Validation: |          | 0/? [00:00<?, ?it/s]"
      ]
     },
     "metadata": {},
     "output_type": "display_data"
    },
    {
     "data": {
      "application/vnd.jupyter.widget-view+json": {
       "model_id": "318d95d2e66942acb989aade87aa0b7c",
       "version_major": 2,
       "version_minor": 0
      },
      "text/plain": [
       "Validation: |          | 0/? [00:00<?, ?it/s]"
      ]
     },
     "metadata": {},
     "output_type": "display_data"
    },
    {
     "data": {
      "application/vnd.jupyter.widget-view+json": {
       "model_id": "2ff02cfc459c43368adcacd96a05034b",
       "version_major": 2,
       "version_minor": 0
      },
      "text/plain": [
       "Validation: |          | 0/? [00:00<?, ?it/s]"
      ]
     },
     "metadata": {},
     "output_type": "display_data"
    },
    {
     "data": {
      "application/vnd.jupyter.widget-view+json": {
       "model_id": "1a984200b6a1465e8e637629961159c2",
       "version_major": 2,
       "version_minor": 0
      },
      "text/plain": [
       "Validation: |          | 0/? [00:00<?, ?it/s]"
      ]
     },
     "metadata": {},
     "output_type": "display_data"
    },
    {
     "data": {
      "application/vnd.jupyter.widget-view+json": {
       "model_id": "5c2b5b2664c3447bbcfeddca450abe9b",
       "version_major": 2,
       "version_minor": 0
      },
      "text/plain": [
       "Validation: |          | 0/? [00:00<?, ?it/s]"
      ]
     },
     "metadata": {},
     "output_type": "display_data"
    },
    {
     "data": {
      "application/vnd.jupyter.widget-view+json": {
       "model_id": "1d4ef19df6394959b40336e912e00666",
       "version_major": 2,
       "version_minor": 0
      },
      "text/plain": [
       "Validation: |          | 0/? [00:00<?, ?it/s]"
      ]
     },
     "metadata": {},
     "output_type": "display_data"
    },
    {
     "data": {
      "application/vnd.jupyter.widget-view+json": {
       "model_id": "b7074689837a443997c8ac99e4e5dbc9",
       "version_major": 2,
       "version_minor": 0
      },
      "text/plain": [
       "Validation: |          | 0/? [00:00<?, ?it/s]"
      ]
     },
     "metadata": {},
     "output_type": "display_data"
    },
    {
     "data": {
      "application/vnd.jupyter.widget-view+json": {
       "model_id": "b5f7271886634323954ccee86e3ea66e",
       "version_major": 2,
       "version_minor": 0
      },
      "text/plain": [
       "Validation: |          | 0/? [00:00<?, ?it/s]"
      ]
     },
     "metadata": {},
     "output_type": "display_data"
    },
    {
     "data": {
      "application/vnd.jupyter.widget-view+json": {
       "model_id": "cb97f87ea9304f32a9c56b53c2ecd0e2",
       "version_major": 2,
       "version_minor": 0
      },
      "text/plain": [
       "Validation: |          | 0/? [00:00<?, ?it/s]"
      ]
     },
     "metadata": {},
     "output_type": "display_data"
    },
    {
     "data": {
      "application/vnd.jupyter.widget-view+json": {
       "model_id": "8f909f52927b42d6adcc1f7e824991df",
       "version_major": 2,
       "version_minor": 0
      },
      "text/plain": [
       "Validation: |          | 0/? [00:00<?, ?it/s]"
      ]
     },
     "metadata": {},
     "output_type": "display_data"
    },
    {
     "data": {
      "application/vnd.jupyter.widget-view+json": {
       "model_id": "4a7e1508eb6e4162ae764dbe782d5d6d",
       "version_major": 2,
       "version_minor": 0
      },
      "text/plain": [
       "Validation: |          | 0/? [00:00<?, ?it/s]"
      ]
     },
     "metadata": {},
     "output_type": "display_data"
    },
    {
     "data": {
      "application/vnd.jupyter.widget-view+json": {
       "model_id": "efbc224c83d443a8923b1e6b0a85336a",
       "version_major": 2,
       "version_minor": 0
      },
      "text/plain": [
       "Validation: |          | 0/? [00:00<?, ?it/s]"
      ]
     },
     "metadata": {},
     "output_type": "display_data"
    },
    {
     "data": {
      "application/vnd.jupyter.widget-view+json": {
       "model_id": "ef626e36bbd84abc86feaefe43eca31e",
       "version_major": 2,
       "version_minor": 0
      },
      "text/plain": [
       "Validation: |          | 0/? [00:00<?, ?it/s]"
      ]
     },
     "metadata": {},
     "output_type": "display_data"
    },
    {
     "data": {
      "application/vnd.jupyter.widget-view+json": {
       "model_id": "264bda060b4a41f6a9932bf58e60c205",
       "version_major": 2,
       "version_minor": 0
      },
      "text/plain": [
       "Validation: |          | 0/? [00:00<?, ?it/s]"
      ]
     },
     "metadata": {},
     "output_type": "display_data"
    },
    {
     "data": {
      "application/vnd.jupyter.widget-view+json": {
       "model_id": "9342f48102604fcfad160ac47539562e",
       "version_major": 2,
       "version_minor": 0
      },
      "text/plain": [
       "Validation: |          | 0/? [00:00<?, ?it/s]"
      ]
     },
     "metadata": {},
     "output_type": "display_data"
    },
    {
     "data": {
      "application/vnd.jupyter.widget-view+json": {
       "model_id": "c20e57e5cfef4e7faabf913b22c370c9",
       "version_major": 2,
       "version_minor": 0
      },
      "text/plain": [
       "Validation: |          | 0/? [00:00<?, ?it/s]"
      ]
     },
     "metadata": {},
     "output_type": "display_data"
    },
    {
     "data": {
      "application/vnd.jupyter.widget-view+json": {
       "model_id": "a39b13869d03475ebbfd49fb7ed6495a",
       "version_major": 2,
       "version_minor": 0
      },
      "text/plain": [
       "Validation: |          | 0/? [00:00<?, ?it/s]"
      ]
     },
     "metadata": {},
     "output_type": "display_data"
    },
    {
     "data": {
      "application/vnd.jupyter.widget-view+json": {
       "model_id": "186c73c533e2420a854bc129ead67907",
       "version_major": 2,
       "version_minor": 0
      },
      "text/plain": [
       "Validation: |          | 0/? [00:00<?, ?it/s]"
      ]
     },
     "metadata": {},
     "output_type": "display_data"
    },
    {
     "data": {
      "application/vnd.jupyter.widget-view+json": {
       "model_id": "2b39d76b975349eba3542e9c983b2cc0",
       "version_major": 2,
       "version_minor": 0
      },
      "text/plain": [
       "Validation: |          | 0/? [00:00<?, ?it/s]"
      ]
     },
     "metadata": {},
     "output_type": "display_data"
    },
    {
     "data": {
      "application/vnd.jupyter.widget-view+json": {
       "model_id": "da91bee046864796b33da20050f28284",
       "version_major": 2,
       "version_minor": 0
      },
      "text/plain": [
       "Validation: |          | 0/? [00:00<?, ?it/s]"
      ]
     },
     "metadata": {},
     "output_type": "display_data"
    },
    {
     "data": {
      "application/vnd.jupyter.widget-view+json": {
       "model_id": "fe096051f6ba40e3867e46fa210bda1a",
       "version_major": 2,
       "version_minor": 0
      },
      "text/plain": [
       "Validation: |          | 0/? [00:00<?, ?it/s]"
      ]
     },
     "metadata": {},
     "output_type": "display_data"
    },
    {
     "data": {
      "application/vnd.jupyter.widget-view+json": {
       "model_id": "805d1ba99eab4810bf2a752009217c4c",
       "version_major": 2,
       "version_minor": 0
      },
      "text/plain": [
       "Validation: |          | 0/? [00:00<?, ?it/s]"
      ]
     },
     "metadata": {},
     "output_type": "display_data"
    },
    {
     "data": {
      "application/vnd.jupyter.widget-view+json": {
       "model_id": "02b0714ae2df445b9ce055089a996644",
       "version_major": 2,
       "version_minor": 0
      },
      "text/plain": [
       "Validation: |          | 0/? [00:00<?, ?it/s]"
      ]
     },
     "metadata": {},
     "output_type": "display_data"
    },
    {
     "name": "stdout",
     "output_type": "stream",
     "text": [
      "[vae] metrics saved -> /kaggle/working/outputs/vae_metrics.csv\n",
      "[DM] Train 198 | Val 22 | Test 115\n"
     ]
    },
    {
     "data": {
      "application/vnd.jupyter.widget-view+json": {
       "model_id": "36fcd8fc56084f37aa24b375761582e6",
       "version_major": 2,
       "version_minor": 0
      },
      "text/plain": [
       "Testing: |          | 0/? [00:00<?, ?it/s]"
      ]
     },
     "metadata": {},
     "output_type": "display_data"
    },
    {
     "name": "stderr",
     "output_type": "stream",
     "text": [
      "/usr/local/lib/python3.11/dist-packages/pytorch_lightning/utilities/data.py:79: Trying to infer the `batch_size` from an ambiguous collection. The batch size we found is 19. To avoid any miscalculations, use `self.log(..., batch_size=batch_size)`.\n"
     ]
    },
    {
     "data": {
      "text/html": [
       "<pre style=\"white-space:pre;overflow-x:auto;line-height:normal;font-family:Menlo,'DejaVu Sans Mono',consolas,'Courier New',monospace\">┏━━━━━━━━━━━━━━━━━━━━━━━━━━━┳━━━━━━━━━━━━━━━━━━━━━━━━━━━┓\n",
       "┃<span style=\"font-weight: bold\">        Test metric        </span>┃<span style=\"font-weight: bold\">       DataLoader 0        </span>┃\n",
       "┡━━━━━━━━━━━━━━━━━━━━━━━━━━━╇━━━━━━━━━━━━━━━━━━━━━━━━━━━┩\n",
       "│<span style=\"color: #008080; text-decoration-color: #008080\">          test/kl          </span>│<span style=\"color: #800080; text-decoration-color: #800080\">    0.03834732621908188    </span>│\n",
       "│<span style=\"color: #008080; text-decoration-color: #008080\">         test/loss         </span>│<span style=\"color: #800080; text-decoration-color: #800080\">    1.2182353734970093     </span>│\n",
       "│<span style=\"color: #008080; text-decoration-color: #008080\">        test/recon         </span>│<span style=\"color: #800080; text-decoration-color: #800080\">    1.0648459196090698     </span>│\n",
       "└───────────────────────────┴───────────────────────────┘\n",
       "</pre>\n"
      ],
      "text/plain": [
       "┏━━━━━━━━━━━━━━━━━━━━━━━━━━━┳━━━━━━━━━━━━━━━━━━━━━━━━━━━┓\n",
       "┃\u001b[1m \u001b[0m\u001b[1m       Test metric       \u001b[0m\u001b[1m \u001b[0m┃\u001b[1m \u001b[0m\u001b[1m      DataLoader 0       \u001b[0m\u001b[1m \u001b[0m┃\n",
       "┡━━━━━━━━━━━━━━━━━━━━━━━━━━━╇━━━━━━━━━━━━━━━━━━━━━━━━━━━┩\n",
       "│\u001b[36m \u001b[0m\u001b[36m         test/kl         \u001b[0m\u001b[36m \u001b[0m│\u001b[35m \u001b[0m\u001b[35m   0.03834732621908188   \u001b[0m\u001b[35m \u001b[0m│\n",
       "│\u001b[36m \u001b[0m\u001b[36m        test/loss        \u001b[0m\u001b[36m \u001b[0m│\u001b[35m \u001b[0m\u001b[35m   1.2182353734970093    \u001b[0m\u001b[35m \u001b[0m│\n",
       "│\u001b[36m \u001b[0m\u001b[36m       test/recon        \u001b[0m\u001b[36m \u001b[0m│\u001b[35m \u001b[0m\u001b[35m   1.0648459196090698    \u001b[0m\u001b[35m \u001b[0m│\n",
       "└───────────────────────────┴───────────────────────────┘\n"
      ]
     },
     "metadata": {},
     "output_type": "display_data"
    },
    {
     "name": "stdout",
     "output_type": "stream",
     "text": [
      "[vae] best checkpoint -> /kaggle/working/outputs/vae/epoch=82.ckpt\n",
      "saved /kaggle/working/outputs/vae_val_recons.png\n",
      "saved /kaggle/working/outputs/vae_samples.png\n"
     ]
    }
   ],
   "source": [
    "vae = VAE(z_dim=64, beta=4.0, lr=2e-4)\n",
    "vae_ckpt = train_and_save(vae, \"vae\", dm, max_epochs=100, patience=10)"
   ]
  },
  {
   "cell_type": "markdown",
   "metadata": {},
   "source": [
    "## Baseline DAE Training"
   ]
  },
  {
   "cell_type": "code",
   "execution_count": 26,
   "metadata": {
    "execution": {
     "iopub.execute_input": "2025-09-18T06:01:12.658217Z",
     "iopub.status.busy": "2025-09-18T06:01:12.657960Z",
     "iopub.status.idle": "2025-09-18T06:05:34.763858Z",
     "shell.execute_reply": "2025-09-18T06:05:34.762930Z",
     "shell.execute_reply.started": "2025-09-18T06:01:12.658192Z"
    },
    "trusted": true
   },
   "outputs": [
    {
     "name": "stdout",
     "output_type": "stream",
     "text": [
      "[DM] Train 198 | Val 22 | Test 115\n"
     ]
    },
    {
     "name": "stderr",
     "output_type": "stream",
     "text": [
      "/usr/local/lib/python3.11/dist-packages/pytorch_lightning/callbacks/model_checkpoint.py:658: Checkpoint directory /kaggle/working/outputs/dae exists and is not empty.\n"
     ]
    },
    {
     "data": {
      "application/vnd.jupyter.widget-view+json": {
       "model_id": "089ea361b4004cce8028d370e6d742e4",
       "version_major": 2,
       "version_minor": 0
      },
      "text/plain": [
       "Training: |          | 0/? [00:00<?, ?it/s]"
      ]
     },
     "metadata": {},
     "output_type": "display_data"
    },
    {
     "data": {
      "application/vnd.jupyter.widget-view+json": {
       "model_id": "",
       "version_major": 2,
       "version_minor": 0
      },
      "text/plain": [
       "Validation: |          | 0/? [00:00<?, ?it/s]"
      ]
     },
     "metadata": {},
     "output_type": "display_data"
    },
    {
     "data": {
      "application/vnd.jupyter.widget-view+json": {
       "model_id": "",
       "version_major": 2,
       "version_minor": 0
      },
      "text/plain": [
       "Validation: |          | 0/? [00:00<?, ?it/s]"
      ]
     },
     "metadata": {},
     "output_type": "display_data"
    },
    {
     "data": {
      "application/vnd.jupyter.widget-view+json": {
       "model_id": "",
       "version_major": 2,
       "version_minor": 0
      },
      "text/plain": [
       "Validation: |          | 0/? [00:00<?, ?it/s]"
      ]
     },
     "metadata": {},
     "output_type": "display_data"
    },
    {
     "data": {
      "application/vnd.jupyter.widget-view+json": {
       "model_id": "",
       "version_major": 2,
       "version_minor": 0
      },
      "text/plain": [
       "Validation: |          | 0/? [00:00<?, ?it/s]"
      ]
     },
     "metadata": {},
     "output_type": "display_data"
    },
    {
     "data": {
      "application/vnd.jupyter.widget-view+json": {
       "model_id": "",
       "version_major": 2,
       "version_minor": 0
      },
      "text/plain": [
       "Validation: |          | 0/? [00:00<?, ?it/s]"
      ]
     },
     "metadata": {},
     "output_type": "display_data"
    },
    {
     "data": {
      "application/vnd.jupyter.widget-view+json": {
       "model_id": "",
       "version_major": 2,
       "version_minor": 0
      },
      "text/plain": [
       "Validation: |          | 0/? [00:00<?, ?it/s]"
      ]
     },
     "metadata": {},
     "output_type": "display_data"
    },
    {
     "data": {
      "application/vnd.jupyter.widget-view+json": {
       "model_id": "",
       "version_major": 2,
       "version_minor": 0
      },
      "text/plain": [
       "Validation: |          | 0/? [00:00<?, ?it/s]"
      ]
     },
     "metadata": {},
     "output_type": "display_data"
    },
    {
     "data": {
      "application/vnd.jupyter.widget-view+json": {
       "model_id": "",
       "version_major": 2,
       "version_minor": 0
      },
      "text/plain": [
       "Validation: |          | 0/? [00:00<?, ?it/s]"
      ]
     },
     "metadata": {},
     "output_type": "display_data"
    },
    {
     "data": {
      "application/vnd.jupyter.widget-view+json": {
       "model_id": "",
       "version_major": 2,
       "version_minor": 0
      },
      "text/plain": [
       "Validation: |          | 0/? [00:00<?, ?it/s]"
      ]
     },
     "metadata": {},
     "output_type": "display_data"
    },
    {
     "data": {
      "application/vnd.jupyter.widget-view+json": {
       "model_id": "",
       "version_major": 2,
       "version_minor": 0
      },
      "text/plain": [
       "Validation: |          | 0/? [00:00<?, ?it/s]"
      ]
     },
     "metadata": {},
     "output_type": "display_data"
    },
    {
     "data": {
      "application/vnd.jupyter.widget-view+json": {
       "model_id": "",
       "version_major": 2,
       "version_minor": 0
      },
      "text/plain": [
       "Validation: |          | 0/? [00:00<?, ?it/s]"
      ]
     },
     "metadata": {},
     "output_type": "display_data"
    },
    {
     "data": {
      "application/vnd.jupyter.widget-view+json": {
       "model_id": "",
       "version_major": 2,
       "version_minor": 0
      },
      "text/plain": [
       "Validation: |          | 0/? [00:00<?, ?it/s]"
      ]
     },
     "metadata": {},
     "output_type": "display_data"
    },
    {
     "data": {
      "application/vnd.jupyter.widget-view+json": {
       "model_id": "",
       "version_major": 2,
       "version_minor": 0
      },
      "text/plain": [
       "Validation: |          | 0/? [00:00<?, ?it/s]"
      ]
     },
     "metadata": {},
     "output_type": "display_data"
    },
    {
     "data": {
      "application/vnd.jupyter.widget-view+json": {
       "model_id": "",
       "version_major": 2,
       "version_minor": 0
      },
      "text/plain": [
       "Validation: |          | 0/? [00:00<?, ?it/s]"
      ]
     },
     "metadata": {},
     "output_type": "display_data"
    },
    {
     "data": {
      "application/vnd.jupyter.widget-view+json": {
       "model_id": "",
       "version_major": 2,
       "version_minor": 0
      },
      "text/plain": [
       "Validation: |          | 0/? [00:00<?, ?it/s]"
      ]
     },
     "metadata": {},
     "output_type": "display_data"
    },
    {
     "data": {
      "application/vnd.jupyter.widget-view+json": {
       "model_id": "",
       "version_major": 2,
       "version_minor": 0
      },
      "text/plain": [
       "Validation: |          | 0/? [00:00<?, ?it/s]"
      ]
     },
     "metadata": {},
     "output_type": "display_data"
    },
    {
     "data": {
      "application/vnd.jupyter.widget-view+json": {
       "model_id": "",
       "version_major": 2,
       "version_minor": 0
      },
      "text/plain": [
       "Validation: |          | 0/? [00:00<?, ?it/s]"
      ]
     },
     "metadata": {},
     "output_type": "display_data"
    },
    {
     "data": {
      "application/vnd.jupyter.widget-view+json": {
       "model_id": "",
       "version_major": 2,
       "version_minor": 0
      },
      "text/plain": [
       "Validation: |          | 0/? [00:00<?, ?it/s]"
      ]
     },
     "metadata": {},
     "output_type": "display_data"
    },
    {
     "data": {
      "application/vnd.jupyter.widget-view+json": {
       "model_id": "",
       "version_major": 2,
       "version_minor": 0
      },
      "text/plain": [
       "Validation: |          | 0/? [00:00<?, ?it/s]"
      ]
     },
     "metadata": {},
     "output_type": "display_data"
    },
    {
     "data": {
      "application/vnd.jupyter.widget-view+json": {
       "model_id": "",
       "version_major": 2,
       "version_minor": 0
      },
      "text/plain": [
       "Validation: |          | 0/? [00:00<?, ?it/s]"
      ]
     },
     "metadata": {},
     "output_type": "display_data"
    },
    {
     "data": {
      "application/vnd.jupyter.widget-view+json": {
       "model_id": "",
       "version_major": 2,
       "version_minor": 0
      },
      "text/plain": [
       "Validation: |          | 0/? [00:00<?, ?it/s]"
      ]
     },
     "metadata": {},
     "output_type": "display_data"
    },
    {
     "data": {
      "application/vnd.jupyter.widget-view+json": {
       "model_id": "",
       "version_major": 2,
       "version_minor": 0
      },
      "text/plain": [
       "Validation: |          | 0/? [00:00<?, ?it/s]"
      ]
     },
     "metadata": {},
     "output_type": "display_data"
    },
    {
     "data": {
      "application/vnd.jupyter.widget-view+json": {
       "model_id": "",
       "version_major": 2,
       "version_minor": 0
      },
      "text/plain": [
       "Validation: |          | 0/? [00:00<?, ?it/s]"
      ]
     },
     "metadata": {},
     "output_type": "display_data"
    },
    {
     "data": {
      "application/vnd.jupyter.widget-view+json": {
       "model_id": "",
       "version_major": 2,
       "version_minor": 0
      },
      "text/plain": [
       "Validation: |          | 0/? [00:00<?, ?it/s]"
      ]
     },
     "metadata": {},
     "output_type": "display_data"
    },
    {
     "data": {
      "application/vnd.jupyter.widget-view+json": {
       "model_id": "",
       "version_major": 2,
       "version_minor": 0
      },
      "text/plain": [
       "Validation: |          | 0/? [00:00<?, ?it/s]"
      ]
     },
     "metadata": {},
     "output_type": "display_data"
    },
    {
     "data": {
      "application/vnd.jupyter.widget-view+json": {
       "model_id": "",
       "version_major": 2,
       "version_minor": 0
      },
      "text/plain": [
       "Validation: |          | 0/? [00:00<?, ?it/s]"
      ]
     },
     "metadata": {},
     "output_type": "display_data"
    },
    {
     "data": {
      "application/vnd.jupyter.widget-view+json": {
       "model_id": "",
       "version_major": 2,
       "version_minor": 0
      },
      "text/plain": [
       "Validation: |          | 0/? [00:00<?, ?it/s]"
      ]
     },
     "metadata": {},
     "output_type": "display_data"
    },
    {
     "data": {
      "application/vnd.jupyter.widget-view+json": {
       "model_id": "",
       "version_major": 2,
       "version_minor": 0
      },
      "text/plain": [
       "Validation: |          | 0/? [00:00<?, ?it/s]"
      ]
     },
     "metadata": {},
     "output_type": "display_data"
    },
    {
     "data": {
      "application/vnd.jupyter.widget-view+json": {
       "model_id": "",
       "version_major": 2,
       "version_minor": 0
      },
      "text/plain": [
       "Validation: |          | 0/? [00:00<?, ?it/s]"
      ]
     },
     "metadata": {},
     "output_type": "display_data"
    },
    {
     "data": {
      "application/vnd.jupyter.widget-view+json": {
       "model_id": "",
       "version_major": 2,
       "version_minor": 0
      },
      "text/plain": [
       "Validation: |          | 0/? [00:00<?, ?it/s]"
      ]
     },
     "metadata": {},
     "output_type": "display_data"
    },
    {
     "data": {
      "application/vnd.jupyter.widget-view+json": {
       "model_id": "",
       "version_major": 2,
       "version_minor": 0
      },
      "text/plain": [
       "Validation: |          | 0/? [00:00<?, ?it/s]"
      ]
     },
     "metadata": {},
     "output_type": "display_data"
    },
    {
     "data": {
      "application/vnd.jupyter.widget-view+json": {
       "model_id": "",
       "version_major": 2,
       "version_minor": 0
      },
      "text/plain": [
       "Validation: |          | 0/? [00:00<?, ?it/s]"
      ]
     },
     "metadata": {},
     "output_type": "display_data"
    },
    {
     "data": {
      "application/vnd.jupyter.widget-view+json": {
       "model_id": "",
       "version_major": 2,
       "version_minor": 0
      },
      "text/plain": [
       "Validation: |          | 0/? [00:00<?, ?it/s]"
      ]
     },
     "metadata": {},
     "output_type": "display_data"
    },
    {
     "data": {
      "application/vnd.jupyter.widget-view+json": {
       "model_id": "",
       "version_major": 2,
       "version_minor": 0
      },
      "text/plain": [
       "Validation: |          | 0/? [00:00<?, ?it/s]"
      ]
     },
     "metadata": {},
     "output_type": "display_data"
    },
    {
     "data": {
      "application/vnd.jupyter.widget-view+json": {
       "model_id": "",
       "version_major": 2,
       "version_minor": 0
      },
      "text/plain": [
       "Validation: |          | 0/? [00:00<?, ?it/s]"
      ]
     },
     "metadata": {},
     "output_type": "display_data"
    },
    {
     "data": {
      "application/vnd.jupyter.widget-view+json": {
       "model_id": "",
       "version_major": 2,
       "version_minor": 0
      },
      "text/plain": [
       "Validation: |          | 0/? [00:00<?, ?it/s]"
      ]
     },
     "metadata": {},
     "output_type": "display_data"
    },
    {
     "data": {
      "application/vnd.jupyter.widget-view+json": {
       "model_id": "",
       "version_major": 2,
       "version_minor": 0
      },
      "text/plain": [
       "Validation: |          | 0/? [00:00<?, ?it/s]"
      ]
     },
     "metadata": {},
     "output_type": "display_data"
    },
    {
     "data": {
      "application/vnd.jupyter.widget-view+json": {
       "model_id": "",
       "version_major": 2,
       "version_minor": 0
      },
      "text/plain": [
       "Validation: |          | 0/? [00:00<?, ?it/s]"
      ]
     },
     "metadata": {},
     "output_type": "display_data"
    },
    {
     "data": {
      "application/vnd.jupyter.widget-view+json": {
       "model_id": "",
       "version_major": 2,
       "version_minor": 0
      },
      "text/plain": [
       "Validation: |          | 0/? [00:00<?, ?it/s]"
      ]
     },
     "metadata": {},
     "output_type": "display_data"
    },
    {
     "data": {
      "application/vnd.jupyter.widget-view+json": {
       "model_id": "",
       "version_major": 2,
       "version_minor": 0
      },
      "text/plain": [
       "Validation: |          | 0/? [00:00<?, ?it/s]"
      ]
     },
     "metadata": {},
     "output_type": "display_data"
    },
    {
     "data": {
      "application/vnd.jupyter.widget-view+json": {
       "model_id": "",
       "version_major": 2,
       "version_minor": 0
      },
      "text/plain": [
       "Validation: |          | 0/? [00:00<?, ?it/s]"
      ]
     },
     "metadata": {},
     "output_type": "display_data"
    },
    {
     "data": {
      "application/vnd.jupyter.widget-view+json": {
       "model_id": "",
       "version_major": 2,
       "version_minor": 0
      },
      "text/plain": [
       "Validation: |          | 0/? [00:00<?, ?it/s]"
      ]
     },
     "metadata": {},
     "output_type": "display_data"
    },
    {
     "data": {
      "application/vnd.jupyter.widget-view+json": {
       "model_id": "",
       "version_major": 2,
       "version_minor": 0
      },
      "text/plain": [
       "Validation: |          | 0/? [00:00<?, ?it/s]"
      ]
     },
     "metadata": {},
     "output_type": "display_data"
    },
    {
     "data": {
      "application/vnd.jupyter.widget-view+json": {
       "model_id": "",
       "version_major": 2,
       "version_minor": 0
      },
      "text/plain": [
       "Validation: |          | 0/? [00:00<?, ?it/s]"
      ]
     },
     "metadata": {},
     "output_type": "display_data"
    },
    {
     "data": {
      "application/vnd.jupyter.widget-view+json": {
       "model_id": "",
       "version_major": 2,
       "version_minor": 0
      },
      "text/plain": [
       "Validation: |          | 0/? [00:00<?, ?it/s]"
      ]
     },
     "metadata": {},
     "output_type": "display_data"
    },
    {
     "data": {
      "application/vnd.jupyter.widget-view+json": {
       "model_id": "",
       "version_major": 2,
       "version_minor": 0
      },
      "text/plain": [
       "Validation: |          | 0/? [00:00<?, ?it/s]"
      ]
     },
     "metadata": {},
     "output_type": "display_data"
    },
    {
     "data": {
      "application/vnd.jupyter.widget-view+json": {
       "model_id": "",
       "version_major": 2,
       "version_minor": 0
      },
      "text/plain": [
       "Validation: |          | 0/? [00:00<?, ?it/s]"
      ]
     },
     "metadata": {},
     "output_type": "display_data"
    },
    {
     "data": {
      "application/vnd.jupyter.widget-view+json": {
       "model_id": "6b1c9f379e0a478b853cd231011b6f3b",
       "version_major": 2,
       "version_minor": 0
      },
      "text/plain": [
       "Validation: |          | 0/? [00:00<?, ?it/s]"
      ]
     },
     "metadata": {},
     "output_type": "display_data"
    },
    {
     "data": {
      "application/vnd.jupyter.widget-view+json": {
       "model_id": "b644a6f91450413ea37e49b205494b4f",
       "version_major": 2,
       "version_minor": 0
      },
      "text/plain": [
       "Validation: |          | 0/? [00:00<?, ?it/s]"
      ]
     },
     "metadata": {},
     "output_type": "display_data"
    },
    {
     "data": {
      "application/vnd.jupyter.widget-view+json": {
       "model_id": "e25c27513543485e87e704850699d7e1",
       "version_major": 2,
       "version_minor": 0
      },
      "text/plain": [
       "Validation: |          | 0/? [00:00<?, ?it/s]"
      ]
     },
     "metadata": {},
     "output_type": "display_data"
    },
    {
     "data": {
      "application/vnd.jupyter.widget-view+json": {
       "model_id": "314b19edde30483cbe02d1f15c24de85",
       "version_major": 2,
       "version_minor": 0
      },
      "text/plain": [
       "Validation: |          | 0/? [00:00<?, ?it/s]"
      ]
     },
     "metadata": {},
     "output_type": "display_data"
    },
    {
     "data": {
      "application/vnd.jupyter.widget-view+json": {
       "model_id": "26ad9ad56f394218805c9cad3d49802a",
       "version_major": 2,
       "version_minor": 0
      },
      "text/plain": [
       "Validation: |          | 0/? [00:00<?, ?it/s]"
      ]
     },
     "metadata": {},
     "output_type": "display_data"
    },
    {
     "data": {
      "application/vnd.jupyter.widget-view+json": {
       "model_id": "6709c47b5bd74ba4a90050a718640290",
       "version_major": 2,
       "version_minor": 0
      },
      "text/plain": [
       "Validation: |          | 0/? [00:00<?, ?it/s]"
      ]
     },
     "metadata": {},
     "output_type": "display_data"
    },
    {
     "data": {
      "application/vnd.jupyter.widget-view+json": {
       "model_id": "73014a9cc4a4456d97eb45147576d502",
       "version_major": 2,
       "version_minor": 0
      },
      "text/plain": [
       "Validation: |          | 0/? [00:00<?, ?it/s]"
      ]
     },
     "metadata": {},
     "output_type": "display_data"
    },
    {
     "data": {
      "application/vnd.jupyter.widget-view+json": {
       "model_id": "8726954341954e2baa27662aa1bf44fa",
       "version_major": 2,
       "version_minor": 0
      },
      "text/plain": [
       "Validation: |          | 0/? [00:00<?, ?it/s]"
      ]
     },
     "metadata": {},
     "output_type": "display_data"
    },
    {
     "data": {
      "application/vnd.jupyter.widget-view+json": {
       "model_id": "ad976c3dd03845bd8853098f0e10d0da",
       "version_major": 2,
       "version_minor": 0
      },
      "text/plain": [
       "Validation: |          | 0/? [00:00<?, ?it/s]"
      ]
     },
     "metadata": {},
     "output_type": "display_data"
    },
    {
     "data": {
      "application/vnd.jupyter.widget-view+json": {
       "model_id": "726d533b736b423cb71a91001d627f99",
       "version_major": 2,
       "version_minor": 0
      },
      "text/plain": [
       "Validation: |          | 0/? [00:00<?, ?it/s]"
      ]
     },
     "metadata": {},
     "output_type": "display_data"
    },
    {
     "data": {
      "application/vnd.jupyter.widget-view+json": {
       "model_id": "7ddd74241ba6411a9d63a54563baea81",
       "version_major": 2,
       "version_minor": 0
      },
      "text/plain": [
       "Validation: |          | 0/? [00:00<?, ?it/s]"
      ]
     },
     "metadata": {},
     "output_type": "display_data"
    },
    {
     "data": {
      "application/vnd.jupyter.widget-view+json": {
       "model_id": "73c852cd04ca4dd2b5406d759dcb459a",
       "version_major": 2,
       "version_minor": 0
      },
      "text/plain": [
       "Validation: |          | 0/? [00:00<?, ?it/s]"
      ]
     },
     "metadata": {},
     "output_type": "display_data"
    },
    {
     "data": {
      "application/vnd.jupyter.widget-view+json": {
       "model_id": "65189d12611b4e4fa9069261314041a4",
       "version_major": 2,
       "version_minor": 0
      },
      "text/plain": [
       "Validation: |          | 0/? [00:00<?, ?it/s]"
      ]
     },
     "metadata": {},
     "output_type": "display_data"
    },
    {
     "data": {
      "application/vnd.jupyter.widget-view+json": {
       "model_id": "46620f58e753403ca9b19026f9ff7de2",
       "version_major": 2,
       "version_minor": 0
      },
      "text/plain": [
       "Validation: |          | 0/? [00:00<?, ?it/s]"
      ]
     },
     "metadata": {},
     "output_type": "display_data"
    },
    {
     "data": {
      "application/vnd.jupyter.widget-view+json": {
       "model_id": "d3a11b394bf143488dbcc030545e8d68",
       "version_major": 2,
       "version_minor": 0
      },
      "text/plain": [
       "Validation: |          | 0/? [00:00<?, ?it/s]"
      ]
     },
     "metadata": {},
     "output_type": "display_data"
    },
    {
     "data": {
      "application/vnd.jupyter.widget-view+json": {
       "model_id": "418f9f2d9a854199a490fc41105e71c3",
       "version_major": 2,
       "version_minor": 0
      },
      "text/plain": [
       "Validation: |          | 0/? [00:00<?, ?it/s]"
      ]
     },
     "metadata": {},
     "output_type": "display_data"
    },
    {
     "data": {
      "application/vnd.jupyter.widget-view+json": {
       "model_id": "77b95466c6ce4c05af6bb3042d440902",
       "version_major": 2,
       "version_minor": 0
      },
      "text/plain": [
       "Validation: |          | 0/? [00:00<?, ?it/s]"
      ]
     },
     "metadata": {},
     "output_type": "display_data"
    },
    {
     "data": {
      "application/vnd.jupyter.widget-view+json": {
       "model_id": "b6a7fda194d94ff19ed9c332c2e959d6",
       "version_major": 2,
       "version_minor": 0
      },
      "text/plain": [
       "Validation: |          | 0/? [00:00<?, ?it/s]"
      ]
     },
     "metadata": {},
     "output_type": "display_data"
    },
    {
     "data": {
      "application/vnd.jupyter.widget-view+json": {
       "model_id": "1895b48fac0d42d5a75b82b3d25559eb",
       "version_major": 2,
       "version_minor": 0
      },
      "text/plain": [
       "Validation: |          | 0/? [00:00<?, ?it/s]"
      ]
     },
     "metadata": {},
     "output_type": "display_data"
    },
    {
     "data": {
      "application/vnd.jupyter.widget-view+json": {
       "model_id": "030d734914464ca1afe6c5f8735ce3c6",
       "version_major": 2,
       "version_minor": 0
      },
      "text/plain": [
       "Validation: |          | 0/? [00:00<?, ?it/s]"
      ]
     },
     "metadata": {},
     "output_type": "display_data"
    },
    {
     "data": {
      "application/vnd.jupyter.widget-view+json": {
       "model_id": "f085e0c84b6e4493b1c26908ef7c5f38",
       "version_major": 2,
       "version_minor": 0
      },
      "text/plain": [
       "Validation: |          | 0/? [00:00<?, ?it/s]"
      ]
     },
     "metadata": {},
     "output_type": "display_data"
    },
    {
     "data": {
      "application/vnd.jupyter.widget-view+json": {
       "model_id": "e7bee5e08f3c4497b8f3e5c698402327",
       "version_major": 2,
       "version_minor": 0
      },
      "text/plain": [
       "Validation: |          | 0/? [00:00<?, ?it/s]"
      ]
     },
     "metadata": {},
     "output_type": "display_data"
    },
    {
     "data": {
      "application/vnd.jupyter.widget-view+json": {
       "model_id": "ee3b21a7ce3044a0a5623c13369ea79b",
       "version_major": 2,
       "version_minor": 0
      },
      "text/plain": [
       "Validation: |          | 0/? [00:00<?, ?it/s]"
      ]
     },
     "metadata": {},
     "output_type": "display_data"
    },
    {
     "data": {
      "application/vnd.jupyter.widget-view+json": {
       "model_id": "0d5ec08724f14d0ab4a6e28383d5da64",
       "version_major": 2,
       "version_minor": 0
      },
      "text/plain": [
       "Validation: |          | 0/? [00:00<?, ?it/s]"
      ]
     },
     "metadata": {},
     "output_type": "display_data"
    },
    {
     "data": {
      "application/vnd.jupyter.widget-view+json": {
       "model_id": "3e9c47b6bddc457db4f3185ab7cb4ab9",
       "version_major": 2,
       "version_minor": 0
      },
      "text/plain": [
       "Validation: |          | 0/? [00:00<?, ?it/s]"
      ]
     },
     "metadata": {},
     "output_type": "display_data"
    },
    {
     "data": {
      "application/vnd.jupyter.widget-view+json": {
       "model_id": "506e96fb409f43e5b1400be31f957afe",
       "version_major": 2,
       "version_minor": 0
      },
      "text/plain": [
       "Validation: |          | 0/? [00:00<?, ?it/s]"
      ]
     },
     "metadata": {},
     "output_type": "display_data"
    },
    {
     "data": {
      "application/vnd.jupyter.widget-view+json": {
       "model_id": "93115b3e405345348cabf5de7ef1d7a4",
       "version_major": 2,
       "version_minor": 0
      },
      "text/plain": [
       "Validation: |          | 0/? [00:00<?, ?it/s]"
      ]
     },
     "metadata": {},
     "output_type": "display_data"
    },
    {
     "data": {
      "application/vnd.jupyter.widget-view+json": {
       "model_id": "ed18a765311c4af782305b4d613d8ff9",
       "version_major": 2,
       "version_minor": 0
      },
      "text/plain": [
       "Validation: |          | 0/? [00:00<?, ?it/s]"
      ]
     },
     "metadata": {},
     "output_type": "display_data"
    },
    {
     "data": {
      "application/vnd.jupyter.widget-view+json": {
       "model_id": "5f74fdf1945f4b1fb209c64663d8b1c9",
       "version_major": 2,
       "version_minor": 0
      },
      "text/plain": [
       "Validation: |          | 0/? [00:00<?, ?it/s]"
      ]
     },
     "metadata": {},
     "output_type": "display_data"
    },
    {
     "data": {
      "application/vnd.jupyter.widget-view+json": {
       "model_id": "2f4aba83f9df459da2dff0bcb93b0f24",
       "version_major": 2,
       "version_minor": 0
      },
      "text/plain": [
       "Validation: |          | 0/? [00:00<?, ?it/s]"
      ]
     },
     "metadata": {},
     "output_type": "display_data"
    },
    {
     "data": {
      "application/vnd.jupyter.widget-view+json": {
       "model_id": "225779833d40485dbad499073b128604",
       "version_major": 2,
       "version_minor": 0
      },
      "text/plain": [
       "Validation: |          | 0/? [00:00<?, ?it/s]"
      ]
     },
     "metadata": {},
     "output_type": "display_data"
    },
    {
     "data": {
      "application/vnd.jupyter.widget-view+json": {
       "model_id": "05bf37417c934155a199d97fedc82543",
       "version_major": 2,
       "version_minor": 0
      },
      "text/plain": [
       "Validation: |          | 0/? [00:00<?, ?it/s]"
      ]
     },
     "metadata": {},
     "output_type": "display_data"
    },
    {
     "data": {
      "application/vnd.jupyter.widget-view+json": {
       "model_id": "cd4280834d1a4d8d87a4de166bf795ec",
       "version_major": 2,
       "version_minor": 0
      },
      "text/plain": [
       "Validation: |          | 0/? [00:00<?, ?it/s]"
      ]
     },
     "metadata": {},
     "output_type": "display_data"
    },
    {
     "data": {
      "application/vnd.jupyter.widget-view+json": {
       "model_id": "0fd93e0cd8d145a9b27dc502d3cd78a5",
       "version_major": 2,
       "version_minor": 0
      },
      "text/plain": [
       "Validation: |          | 0/? [00:00<?, ?it/s]"
      ]
     },
     "metadata": {},
     "output_type": "display_data"
    },
    {
     "data": {
      "application/vnd.jupyter.widget-view+json": {
       "model_id": "5a0bb71f5ec948c48d1473beca7b0c32",
       "version_major": 2,
       "version_minor": 0
      },
      "text/plain": [
       "Validation: |          | 0/? [00:00<?, ?it/s]"
      ]
     },
     "metadata": {},
     "output_type": "display_data"
    },
    {
     "data": {
      "application/vnd.jupyter.widget-view+json": {
       "model_id": "2446e710397c472ea150ac92ef7b2e37",
       "version_major": 2,
       "version_minor": 0
      },
      "text/plain": [
       "Validation: |          | 0/? [00:00<?, ?it/s]"
      ]
     },
     "metadata": {},
     "output_type": "display_data"
    },
    {
     "data": {
      "application/vnd.jupyter.widget-view+json": {
       "model_id": "417c25944f9048a69ba05076cd131251",
       "version_major": 2,
       "version_minor": 0
      },
      "text/plain": [
       "Validation: |          | 0/? [00:00<?, ?it/s]"
      ]
     },
     "metadata": {},
     "output_type": "display_data"
    },
    {
     "data": {
      "application/vnd.jupyter.widget-view+json": {
       "model_id": "165b3caa5710457e8448af66e17680c8",
       "version_major": 2,
       "version_minor": 0
      },
      "text/plain": [
       "Validation: |          | 0/? [00:00<?, ?it/s]"
      ]
     },
     "metadata": {},
     "output_type": "display_data"
    },
    {
     "data": {
      "application/vnd.jupyter.widget-view+json": {
       "model_id": "07742dc6a25a41208a58aeca418f020e",
       "version_major": 2,
       "version_minor": 0
      },
      "text/plain": [
       "Validation: |          | 0/? [00:00<?, ?it/s]"
      ]
     },
     "metadata": {},
     "output_type": "display_data"
    },
    {
     "data": {
      "application/vnd.jupyter.widget-view+json": {
       "model_id": "96f2878a33734321ba99175e822bfae0",
       "version_major": 2,
       "version_minor": 0
      },
      "text/plain": [
       "Validation: |          | 0/? [00:00<?, ?it/s]"
      ]
     },
     "metadata": {},
     "output_type": "display_data"
    },
    {
     "data": {
      "application/vnd.jupyter.widget-view+json": {
       "model_id": "0227928a78b84df59946befdf5f48b8c",
       "version_major": 2,
       "version_minor": 0
      },
      "text/plain": [
       "Validation: |          | 0/? [00:00<?, ?it/s]"
      ]
     },
     "metadata": {},
     "output_type": "display_data"
    },
    {
     "data": {
      "application/vnd.jupyter.widget-view+json": {
       "model_id": "470de0036e5546d78dd688564e5de9a0",
       "version_major": 2,
       "version_minor": 0
      },
      "text/plain": [
       "Validation: |          | 0/? [00:00<?, ?it/s]"
      ]
     },
     "metadata": {},
     "output_type": "display_data"
    },
    {
     "data": {
      "application/vnd.jupyter.widget-view+json": {
       "model_id": "c7aca522734b4ae0928a119dea5c4853",
       "version_major": 2,
       "version_minor": 0
      },
      "text/plain": [
       "Validation: |          | 0/? [00:00<?, ?it/s]"
      ]
     },
     "metadata": {},
     "output_type": "display_data"
    },
    {
     "data": {
      "application/vnd.jupyter.widget-view+json": {
       "model_id": "7485a1f040804e5898fd46739467afb0",
       "version_major": 2,
       "version_minor": 0
      },
      "text/plain": [
       "Validation: |          | 0/? [00:00<?, ?it/s]"
      ]
     },
     "metadata": {},
     "output_type": "display_data"
    },
    {
     "data": {
      "application/vnd.jupyter.widget-view+json": {
       "model_id": "fd6b0d2501b448a3b4b3154a238ae96a",
       "version_major": 2,
       "version_minor": 0
      },
      "text/plain": [
       "Validation: |          | 0/? [00:00<?, ?it/s]"
      ]
     },
     "metadata": {},
     "output_type": "display_data"
    },
    {
     "data": {
      "application/vnd.jupyter.widget-view+json": {
       "model_id": "f45c252d392c42689dec5ee7b883ce15",
       "version_major": 2,
       "version_minor": 0
      },
      "text/plain": [
       "Validation: |          | 0/? [00:00<?, ?it/s]"
      ]
     },
     "metadata": {},
     "output_type": "display_data"
    },
    {
     "data": {
      "application/vnd.jupyter.widget-view+json": {
       "model_id": "226447c6252d40a4aa19ea6be43f8ac3",
       "version_major": 2,
       "version_minor": 0
      },
      "text/plain": [
       "Validation: |          | 0/? [00:00<?, ?it/s]"
      ]
     },
     "metadata": {},
     "output_type": "display_data"
    },
    {
     "data": {
      "application/vnd.jupyter.widget-view+json": {
       "model_id": "85df65479b7e42c7a7fa00b3aa113799",
       "version_major": 2,
       "version_minor": 0
      },
      "text/plain": [
       "Validation: |          | 0/? [00:00<?, ?it/s]"
      ]
     },
     "metadata": {},
     "output_type": "display_data"
    },
    {
     "data": {
      "application/vnd.jupyter.widget-view+json": {
       "model_id": "4aa0ed377e8344ee9fda7d75a34346ca",
       "version_major": 2,
       "version_minor": 0
      },
      "text/plain": [
       "Validation: |          | 0/? [00:00<?, ?it/s]"
      ]
     },
     "metadata": {},
     "output_type": "display_data"
    },
    {
     "data": {
      "application/vnd.jupyter.widget-view+json": {
       "model_id": "53caa607c6544c61b421c1d16dacf292",
       "version_major": 2,
       "version_minor": 0
      },
      "text/plain": [
       "Validation: |          | 0/? [00:00<?, ?it/s]"
      ]
     },
     "metadata": {},
     "output_type": "display_data"
    },
    {
     "data": {
      "application/vnd.jupyter.widget-view+json": {
       "model_id": "da1bc4a1af87423bbd43cd521186c5d2",
       "version_major": 2,
       "version_minor": 0
      },
      "text/plain": [
       "Validation: |          | 0/? [00:00<?, ?it/s]"
      ]
     },
     "metadata": {},
     "output_type": "display_data"
    },
    {
     "data": {
      "application/vnd.jupyter.widget-view+json": {
       "model_id": "7c99406d865540d9bb9f6355957fd80c",
       "version_major": 2,
       "version_minor": 0
      },
      "text/plain": [
       "Validation: |          | 0/? [00:00<?, ?it/s]"
      ]
     },
     "metadata": {},
     "output_type": "display_data"
    },
    {
     "data": {
      "application/vnd.jupyter.widget-view+json": {
       "model_id": "f4b171be49ab44f1853c5add6382818c",
       "version_major": 2,
       "version_minor": 0
      },
      "text/plain": [
       "Validation: |          | 0/? [00:00<?, ?it/s]"
      ]
     },
     "metadata": {},
     "output_type": "display_data"
    },
    {
     "name": "stdout",
     "output_type": "stream",
     "text": [
      "[dae] metrics saved -> /kaggle/working/outputs/dae_metrics.csv\n",
      "[DM] Train 198 | Val 22 | Test 115\n"
     ]
    },
    {
     "data": {
      "application/vnd.jupyter.widget-view+json": {
       "model_id": "323e826646ea45ad8d221b25f13ae8fb",
       "version_major": 2,
       "version_minor": 0
      },
      "text/plain": [
       "Testing: |          | 0/? [00:00<?, ?it/s]"
      ]
     },
     "metadata": {},
     "output_type": "display_data"
    },
    {
     "data": {
      "text/html": [
       "<pre style=\"white-space:pre;overflow-x:auto;line-height:normal;font-family:Menlo,'DejaVu Sans Mono',consolas,'Courier New',monospace\">┏━━━━━━━━━━━━━━━━━━━━━━━━━━━┳━━━━━━━━━━━━━━━━━━━━━━━━━━━┓\n",
       "┃<span style=\"font-weight: bold\">        Test metric        </span>┃<span style=\"font-weight: bold\">       DataLoader 0        </span>┃\n",
       "┡━━━━━━━━━━━━━━━━━━━━━━━━━━━╇━━━━━━━━━━━━━━━━━━━━━━━━━━━┩\n",
       "│<span style=\"color: #008080; text-decoration-color: #008080\">         test/loss         </span>│<span style=\"color: #800080; text-decoration-color: #800080\">    0.10065774619579315    </span>│\n",
       "│<span style=\"color: #008080; text-decoration-color: #008080\">        test/recon         </span>│<span style=\"color: #800080; text-decoration-color: #800080\">    0.10065774619579315    </span>│\n",
       "└───────────────────────────┴───────────────────────────┘\n",
       "</pre>\n"
      ],
      "text/plain": [
       "┏━━━━━━━━━━━━━━━━━━━━━━━━━━━┳━━━━━━━━━━━━━━━━━━━━━━━━━━━┓\n",
       "┃\u001b[1m \u001b[0m\u001b[1m       Test metric       \u001b[0m\u001b[1m \u001b[0m┃\u001b[1m \u001b[0m\u001b[1m      DataLoader 0       \u001b[0m\u001b[1m \u001b[0m┃\n",
       "┡━━━━━━━━━━━━━━━━━━━━━━━━━━━╇━━━━━━━━━━━━━━━━━━━━━━━━━━━┩\n",
       "│\u001b[36m \u001b[0m\u001b[36m        test/loss        \u001b[0m\u001b[36m \u001b[0m│\u001b[35m \u001b[0m\u001b[35m   0.10065774619579315   \u001b[0m\u001b[35m \u001b[0m│\n",
       "│\u001b[36m \u001b[0m\u001b[36m       test/recon        \u001b[0m\u001b[36m \u001b[0m│\u001b[35m \u001b[0m\u001b[35m   0.10065774619579315   \u001b[0m\u001b[35m \u001b[0m│\n",
       "└───────────────────────────┴───────────────────────────┘\n"
      ]
     },
     "metadata": {},
     "output_type": "display_data"
    },
    {
     "name": "stdout",
     "output_type": "stream",
     "text": [
      "[dae] best checkpoint -> /kaggle/working/outputs/dae/epoch=99.ckpt\n",
      "saved /kaggle/working/outputs/dae_val_recons.png\n",
      "[dae] sample_from_prior not found; skipping samples.\n"
     ]
    }
   ],
   "source": [
    "dae = DAE(metal_nutneck=64, lr=2e-4)\n",
    "dae_ckpt = train_and_save(dae, \"dae\", dm, max_epochs=100, patience=10)"
   ]
  },
  {
   "cell_type": "markdown",
   "metadata": {},
   "source": [
    "<h1 style=\"text-align:center;\">Test and Evaluation</h1>"
   ]
  },
  {
   "cell_type": "code",
   "execution_count": 27,
   "metadata": {
    "execution": {
     "iopub.execute_input": "2025-09-18T06:05:34.768817Z",
     "iopub.status.busy": "2025-09-18T06:05:34.768457Z",
     "iopub.status.idle": "2025-09-18T06:05:38.321567Z",
     "shell.execute_reply": "2025-09-18T06:05:38.320721Z",
     "shell.execute_reply.started": "2025-09-18T06:05:34.768792Z"
    },
    "trusted": true
   },
   "outputs": [],
   "source": [
    "!pip install torch-fidelity --quiet"
   ]
  },
  {
   "cell_type": "code",
   "execution_count": 28,
   "metadata": {
    "execution": {
     "iopub.execute_input": "2025-09-18T06:05:38.322877Z",
     "iopub.status.busy": "2025-09-18T06:05:38.322606Z",
     "iopub.status.idle": "2025-09-18T06:05:38.339878Z",
     "shell.execute_reply": "2025-09-18T06:05:38.339265Z",
     "shell.execute_reply.started": "2025-09-18T06:05:38.322839Z"
    },
    "trusted": true
   },
   "outputs": [],
   "source": [
    "from torch_fidelity import calculate_metrics\n",
    "import shutil"
   ]
  },
  {
   "cell_type": "code",
   "execution_count": 29,
   "metadata": {
    "execution": {
     "iopub.execute_input": "2025-09-18T06:05:38.340968Z",
     "iopub.status.busy": "2025-09-18T06:05:38.340708Z",
     "iopub.status.idle": "2025-09-18T06:05:38.345504Z",
     "shell.execute_reply": "2025-09-18T06:05:38.345001Z",
     "shell.execute_reply.started": "2025-09-18T06:05:38.340944Z"
    },
    "trusted": true
   },
   "outputs": [],
   "source": [
    "EVAL_DIR = RUN_DIR / \"eval\"\n",
    "EVAL_DIR.mkdir(parents=True, exist_ok=True)\n",
    "\n",
    "device = \"cuda\" if torch.cuda.is_available() else \"cpu\""
   ]
  },
  {
   "cell_type": "code",
   "execution_count": 30,
   "metadata": {
    "execution": {
     "iopub.execute_input": "2025-09-18T06:05:38.346467Z",
     "iopub.status.busy": "2025-09-18T06:05:38.346230Z",
     "iopub.status.idle": "2025-09-18T06:05:38.367785Z",
     "shell.execute_reply": "2025-09-18T06:05:38.367068Z",
     "shell.execute_reply.started": "2025-09-18T06:05:38.346449Z"
    },
    "trusted": true
   },
   "outputs": [],
   "source": [
    "# ---- config: reference set choice ----\n",
    "# If you want reference = test/good only (recommended), set INCLUDE_TRAIN_GOOD=False.\n",
    "# If you want train+test good as reference, set True (uses eval_tf for train files).\n",
    "INCLUDE_TRAIN_GOOD = False\n",
    "\n",
    "def _ensure_clean_dir(p: Path):\n",
    "    if p.exists(): shutil.rmtree(p)\n",
    "    p.mkdir(parents=True, exist_ok=True)\n",
    "\n",
    "def denorm01(x):\n",
    "    \"\"\"Undo ImageNet normalization back to [0,1] range for saving as PNG.\"\"\"\n",
    "    mean = torch.tensor([0.485,0.456,0.406], device=x.device).view(1,3,1,1)\n",
    "    std  = torch.tensor([0.229,0.224,0.225], device=x.device).view(1,3,1,1)\n",
    "    return (x * std + mean).clamp(0,1)\n",
    "\n",
    "@torch.no_grad()\n",
    "def build_ref_good(dm, out_dir, include_train=False, images_train=None, eval_tf=None):\n",
    "    out_dir = Path(out_dir)\n",
    "    if out_dir.exists():\n",
    "        shutil.rmtree(out_dir)\n",
    "    out_dir.mkdir(parents=True, exist_ok=True)\n",
    "\n",
    "    n = 0\n",
    "    # (1) include train/good if requested\n",
    "    if include_train and images_train is not None and eval_tf is not None:\n",
    "        for k, p in images_train.items():\n",
    "            if k.startswith(\"good/\"):\n",
    "                img = Image.open(p).convert(\"RGB\")\n",
    "                arr = np.array(img)\n",
    "                t = eval_tf(image=arr)[\"image\"].to(\"cuda\" if torch.cuda.is_available() else \"cpu\")\n",
    "                save_image(denorm01(t.unsqueeze(0)), out_dir / f\"ref_{n:06d}.png\")\n",
    "                n += 1\n",
    "\n",
    "    # (2) include test/good always\n",
    "    for b in dm.test_dataloader():\n",
    "        x, y = b[\"image\"], b[\"label\"]\n",
    "        for i in range(len(x)):\n",
    "            if int(y[i]) == 0:\n",
    "                save_image(denorm01(x[i].unsqueeze(0)), out_dir / f\"ref_{n:06d}.png\")\n",
    "                n += 1\n",
    "\n",
    "    return n\n",
    "\n",
    "@torch.no_grad()\n",
    "def save_generated_from_prior(model, out_dir: Path, n_samples: int, batch_size: int = 64):\n",
    "    \"\"\"Generate samples if model exposes sample_from_prior; otherwise skip.\"\"\"\n",
    "    if not hasattr(model, \"sample_from_prior\"):\n",
    "        print(f\"[skip] {model.__class__.__name__} has no sampler.\")\n",
    "        return 0\n",
    "    model = model.to(device).eval()\n",
    "    _ensure_clean_dir(out_dir)\n",
    "    saved, idx = 0, 0\n",
    "    while saved < n_samples:\n",
    "        cur = min(batch_size, n_samples - saved)\n",
    "        out = model.sample_from_prior(cur)\n",
    "        # unwrap to BCHW\n",
    "        if isinstance(out, torch.Tensor):\n",
    "            x_mu = out\n",
    "        elif isinstance(out, (tuple, list)):\n",
    "            x_mu = next((t for t in out if isinstance(t, torch.Tensor) and t.dim()==4), None)\n",
    "            if x_mu is None:\n",
    "                raise RuntimeError(\"sample_from_prior returned tuple/list without a BCHW tensor.\")\n",
    "        else:\n",
    "            raise RuntimeError(\"Unexpected sample_from_prior output type.\")\n",
    "\n",
    "        imgs01 = torch.sigmoid(x_mu)\n",
    "        for i in range(cur):\n",
    "            save_image(imgs01[i].unsqueeze(0), out_dir / f\"gen_{idx:06d}.png\")\n",
    "            idx += 1\n",
    "        saved += cur\n",
    "    return saved\n",
    "\n",
    "def compute_fid_is(gen_dir: Path, ref_dir: Path):\n",
    "    m = calculate_metrics(\n",
    "        input1=str(gen_dir),\n",
    "        input2=str(ref_dir),\n",
    "        cuda=torch.cuda.is_available(),\n",
    "        fid=True, isc=True,\n",
    "    )\n",
    "    return float(m[\"frechet_inception_distance\"]), float(m[\"inception_score_mean\"]), m\n",
    "\n",
    "def show_gallery(dir_path, pattern=\"*.png\", n=32, ncols=8, shuffle=True, title=None, seed=None):\n",
    "    files = sorted(glob.glob(os.path.join(str(dir_path), pattern)))\n",
    "    if not files:\n",
    "        print(f\"No files found in {dir_path} matching {pattern}\")\n",
    "        return\n",
    "    if shuffle:\n",
    "        if seed is not None: random.seed(seed)\n",
    "        random.shuffle(files)\n",
    "    files = files[:n]\n",
    "    nrows = math.ceil(len(files)/ncols)\n",
    "    plt.figure(figsize=(ncols*2.2, nrows*2.2))\n",
    "    for i, f in enumerate(files):\n",
    "        img = np.array(Image.open(f).convert(\"RGB\"))\n",
    "        ax = plt.subplot(nrows, ncols, i+1)\n",
    "        ax.imshow(img); ax.axis(\"off\")\n",
    "    if title: plt.suptitle(title, fontsize=14)\n",
    "    plt.tight_layout(); plt.show()"
   ]
  },
  {
   "cell_type": "code",
   "execution_count": 31,
   "metadata": {
    "execution": {
     "iopub.execute_input": "2025-09-18T06:05:38.368922Z",
     "iopub.status.busy": "2025-09-18T06:05:38.368679Z",
     "iopub.status.idle": "2025-09-18T06:06:40.196754Z",
     "shell.execute_reply": "2025-09-18T06:06:40.195670Z",
     "shell.execute_reply.started": "2025-09-18T06:05:38.368905Z"
    },
    "trusted": true
   },
   "outputs": [
    {
     "name": "stdout",
     "output_type": "stream",
     "text": [
      "[eval] reference images saved: 22 -> /kaggle/working/outputs/eval/ref_test_good\n",
      "\n",
      "=== SAVAE ===\n"
     ]
    },
    {
     "name": "stderr",
     "output_type": "stream",
     "text": [
      "Creating feature extractor \"inception-v3-compat\" with features ['logits_unbiased', '2048']\n",
      "Downloading: \"https://github.com/toshas/torch-fidelity/releases/download/v0.2.0/weights-inception-2015-12-05-6726825d.pth\" to /root/.cache/torch/hub/checkpoints/weights-inception-2015-12-05-6726825d.pth\n",
      "100%|██████████| 91.2M/91.2M [00:00<00:00, 407MB/s]\n",
      "Extracting features from input1\n",
      "Looking for samples non-recursivelty in \"/kaggle/working/outputs/eval/savae/gen\" with extensions png,jpg,jpeg\n",
      "Found 500 samples\n",
      "/usr/local/lib/python3.11/dist-packages/torch_fidelity/datasets.py:16: UserWarning: TypedStorage is deprecated. It will be removed in the future and UntypedStorage will be the only storage class. This should only matter to you if you are using storages directly.  To access UntypedStorage directly, use tensor.untyped_storage() instead of tensor.storage()\n",
      "  img = torch.ByteTensor(torch.ByteStorage.from_buffer(img.tobytes())).view(height, width, 3)\n",
      "Processing samples                                                         \n",
      "Extracting features from input2\n",
      "Looking for samples non-recursivelty in \"/kaggle/working/outputs/eval/ref_test_good\" with extensions png,jpg,jpeg\n",
      "Found 22 samples\n",
      "Processing samples                                                      \n",
      "Inception Score: 1.3524343638011118 ± 0.02195037482573806\n",
      "Frechet Inception Distance: 407.8467163876883\n"
     ]
    },
    {
     "name": "stdout",
     "output_type": "stream",
     "text": [
      "[savae] FID = 407.847 | IS = 1.352\n",
      "\n",
      "=== ARSAVAE ===\n"
     ]
    },
    {
     "name": "stderr",
     "output_type": "stream",
     "text": [
      "Creating feature extractor \"inception-v3-compat\" with features ['logits_unbiased', '2048']\n",
      "Extracting features from input1\n",
      "Looking for samples non-recursivelty in \"/kaggle/working/outputs/eval/arsavae/gen\" with extensions png,jpg,jpeg\n",
      "Found 500 samples\n",
      "Processing samples                                                         \n",
      "Extracting features from input2\n",
      "Looking for samples non-recursivelty in \"/kaggle/working/outputs/eval/ref_test_good\" with extensions png,jpg,jpeg\n",
      "Found 22 samples\n",
      "Processing samples                                                      \n",
      "Inception Score: 1.064229344190809 ± 0.01754912396318155\n",
      "Frechet Inception Distance: 330.4200518894898\n"
     ]
    },
    {
     "name": "stdout",
     "output_type": "stream",
     "text": [
      "[arsavae] FID = 330.420 | IS = 1.064\n",
      "\n",
      "=== VAE ===\n"
     ]
    },
    {
     "name": "stderr",
     "output_type": "stream",
     "text": [
      "Creating feature extractor \"inception-v3-compat\" with features ['logits_unbiased', '2048']\n",
      "Extracting features from input1\n",
      "Looking for samples non-recursivelty in \"/kaggle/working/outputs/eval/vae/gen\" with extensions png,jpg,jpeg\n",
      "Found 500 samples\n",
      "Processing samples                                                         \n",
      "Extracting features from input2\n",
      "Looking for samples non-recursivelty in \"/kaggle/working/outputs/eval/ref_test_good\" with extensions png,jpg,jpeg\n",
      "Found 22 samples\n",
      "Processing samples                                                      \n",
      "Inception Score: 1.0353160351394854 ± 0.013536135870120865\n",
      "Frechet Inception Distance: 352.1294018323889\n"
     ]
    },
    {
     "name": "stdout",
     "output_type": "stream",
     "text": [
      "[vae] FID = 352.129 | IS = 1.035\n",
      "\n",
      "=== DAE ===\n",
      "[skip] DAE has no sampler.\n",
      "[dae] generation metrics not applicable.\n"
     ]
    },
    {
     "ename": "AttributeError",
     "evalue": "'str' object has no attribute 'UPPER'",
     "output_type": "error",
     "traceback": [
      "\u001b[0;31m---------------------------------------------------------------------------\u001b[0m",
      "\u001b[0;31mAttributeError\u001b[0m                            Traceback (most recent call last)",
      "\u001b[0;32m/tmp/ipykernel_36/260566359.py\u001b[0m in \u001b[0;36m<cell line: 0>\u001b[0;34m()\u001b[0m\n\u001b[1;32m     37\u001b[0m     \u001b[0;32melse\u001b[0m\u001b[0;34m:\u001b[0m\u001b[0;34m\u001b[0m\u001b[0;34m\u001b[0m\u001b[0m\n\u001b[1;32m     38\u001b[0m         \u001b[0mprint\u001b[0m\u001b[0;34m(\u001b[0m\u001b[0;34mf\"[{name}] generation metrics not applicable.\"\u001b[0m\u001b[0;34m)\u001b[0m\u001b[0;34m\u001b[0m\u001b[0;34m\u001b[0m\u001b[0m\n\u001b[0;32m---> 39\u001b[0;31m         \u001b[0mresults\u001b[0m\u001b[0;34m.\u001b[0m\u001b[0mappend\u001b[0m\u001b[0;34m(\u001b[0m\u001b[0;34m{\u001b[0m\u001b[0;34m\"model\"\u001b[0m\u001b[0;34m:\u001b[0m \u001b[0mname\u001b[0m\u001b[0;34m.\u001b[0m\u001b[0mUPPER\u001b[0m\u001b[0;34m(\u001b[0m\u001b[0;34m)\u001b[0m\u001b[0;34m,\u001b[0m \u001b[0;34m\"fid\"\u001b[0m\u001b[0;34m:\u001b[0m \u001b[0;32mNone\u001b[0m\u001b[0;34m,\u001b[0m \u001b[0;34m\"is\"\u001b[0m\u001b[0;34m:\u001b[0m \u001b[0;32mNone\u001b[0m\u001b[0;34m}\u001b[0m\u001b[0;34m)\u001b[0m\u001b[0;34m\u001b[0m\u001b[0;34m\u001b[0m\u001b[0m\n\u001b[0m\u001b[1;32m     40\u001b[0m \u001b[0;34m\u001b[0m\u001b[0m\n\u001b[1;32m     41\u001b[0m \u001b[0;31m# --------- 3) Save/print summary ----------\u001b[0m\u001b[0;34m\u001b[0m\u001b[0;34m\u001b[0m\u001b[0m\n",
      "\u001b[0;31mAttributeError\u001b[0m: 'str' object has no attribute 'UPPER'"
     ]
    }
   ],
   "source": [
    "# --------- Building reference once (test) ----------\n",
    "REF_DIR = EVAL_DIR / (\"ref_test_good\" if not INCLUDE_TRAIN_GOOD else \"ref_train_test_good\")\n",
    "n_ref = build_ref_good(\n",
    "    dm, REF_DIR,\n",
    "    include_train=INCLUDE_TRAIN_GOOD,\n",
    "    images_train=images_train,\n",
    "    eval_tf=eval_tf\n",
    ")\n",
    "print(f\"[eval] reference images saved: {n_ref} -> {REF_DIR}\")\n",
    "\n",
    "models = {\n",
    "    \"savae\":    savae,\n",
    "    \"arsavae\":  ar_savae,\n",
    "    \"vae\":      vae,\n",
    "    \"dae\":      dae,       # no sampling so will be skipped for FID/IS\n",
    "}\n",
    "\n",
    "N_GEN = max(500, n_ref * 20)\n",
    "results = []\n",
    "\n",
    "for name, model in models.items():\n",
    "    print(f\"\\n=== {name.upper()} ===\")\n",
    "    GEN_DIR = EVAL_DIR / name / \"gen\"\n",
    "    _ensure_clean_dir(GEN_DIR)\n",
    "\n",
    "    # Optional AR-SAVAE sampling temperature tweak (has no effect on others)\n",
    "    if hasattr(model, \"tau_sample\"):\n",
    "        model.tau_sample = getattr(model, \"tau_sample\", 0.8)\n",
    "\n",
    "    n_g = save_generated_from_prior(model, GEN_DIR, N_GEN)\n",
    "    if n_g > 0:\n",
    "        fid, iscore, raw = compute_fid_is(GEN_DIR, REF_DIR)\n",
    "        with open(EVAL_DIR / f\"{name}_fid_is.json\", \"w\") as f:\n",
    "            json.dump(raw, f, indent=2)\n",
    "        print(f\"[{name}] FID = {fid:.3f} | IS = {iscore:.3f}\")\n",
    "        results.append({\"model\": name.upper(), \"fid\": fid, \"is\": iscore})\n",
    "    else:\n",
    "        print(f\"[{name}] generation metrics not applicable.\")\n",
    "        results.append({\"model\": name.UPPER(), \"fid\": None, \"is\": None})\n",
    "\n",
    "# --------- 3) Save/print summary ----------\n",
    "summary = pd.DataFrame(results)\n",
    "summary_path = RUN_DIR / \"gen_eval_summary.csv\"\n",
    "summary.to_csv(summary_path, index=False)\n",
    "print(\"\\n== Generation Metrics Summary ==\")\n",
    "print(summary)\n",
    "print(\"Saved:\", summary_path)"
   ]
  },
  {
   "cell_type": "markdown",
   "metadata": {},
   "source": [
    "<h1 style=\"text-align:center;\">Qualitative Results</h1>"
   ]
  },
  {
   "cell_type": "code",
   "execution_count": null,
   "metadata": {
    "execution": {
     "iopub.status.busy": "2025-09-18T06:06:40.197437Z",
     "iopub.status.idle": "2025-09-18T06:06:40.197817Z",
     "shell.execute_reply": "2025-09-18T06:06:40.197674Z",
     "shell.execute_reply.started": "2025-09-18T06:06:40.197653Z"
    },
    "trusted": true
   },
   "outputs": [],
   "source": [
    "def show_multi_galleries(model_dirs, pattern=\"*.png\", n=16, ncols=8, shuffle=True, seed=None):\n",
    "    \"\"\"\n",
    "    Show generated images for multiple models side by side.\n",
    "    \n",
    "    model_dirs: dict { \"ModelName\": Path/to/gen_dir }\n",
    "    \"\"\"\n",
    "    if seed is not None:\n",
    "        random.seed(seed)\n",
    "\n",
    "    nrows_per_model = math.ceil(n / ncols)\n",
    "    fig, axes = plt.subplots(\n",
    "        len(model_dirs), nrows_per_model * ncols,\n",
    "        figsize=(ncols*2, len(model_dirs)*nrows_per_model*2)\n",
    "    )\n",
    "\n",
    "    if len(model_dirs) == 1:\n",
    "        axes = np.array([axes])  # normalize for single-row case\n",
    "\n",
    "    for row_idx, (name, dir_path) in enumerate(model_dirs.items()):\n",
    "        files = sorted(glob.glob(os.path.join(str(dir_path), pattern)))\n",
    "        if shuffle:\n",
    "            random.shuffle(files)\n",
    "        files = files[:n]\n",
    "\n",
    "        for i in range(n):\n",
    "            ax = axes[row_idx*nrows_per_model*ncols + i]\n",
    "            if i < len(files):\n",
    "                img = np.array(Image.open(files[i]).convert(\"RGB\"))\n",
    "                ax.imshow(img)\n",
    "            ax.axis(\"off\")\n",
    "        fig.text(0.5, 1-(row_idx+0.5)/len(model_dirs),\n",
    "                 f\"{name} — generated\", ha=\"center\", va=\"center\", fontsize=14)\n",
    "\n",
    "    plt.tight_layout()\n",
    "    plt.show()\n",
    "\n",
    "# Example usage\n",
    "show_multi_galleries({\n",
    "    \"SAVAE\":   \"/kaggle/working/outputs/eval/savae/gen\",\n",
    "    \"AR-SAVAE\":\"/kaggle/working/outputs/eval/arsavae/gen\",\n",
    "    \"VAE\":     \"/kaggle/working/outputs/eval/vae/gen\",\n",
    "    \"DAE\":     \"/kaggle/working/outputs/eval/dae/gen\",  # will be empty if no samples\n",
    "}, n=16, ncols=8, seed=42)"
   ]
  }
 ],
 "metadata": {
  "kaggle": {
   "accelerator": "nvidiaTeslaT4",
   "dataSources": [
    {
     "datasetId": 1946896,
     "sourceId": 3209332,
     "sourceType": "datasetVersion"
    }
   ],
   "dockerImageVersionId": 31089,
   "isGpuEnabled": true,
   "isInternetEnabled": true,
   "language": "python",
   "sourceType": "notebook"
  },
  "kernelspec": {
   "display_name": "Python 3",
   "language": "python",
   "name": "python3"
  },
  "language_info": {
   "codemirror_mode": {
    "name": "ipython",
    "version": 3
   },
   "file_extension": ".py",
   "mimetype": "text/x-python",
   "name": "python",
   "nbconvert_exporter": "python",
   "pygments_lexer": "ipython3",
   "version": "3.11.13"
  }
 },
 "nbformat": 4,
 "nbformat_minor": 4
}
